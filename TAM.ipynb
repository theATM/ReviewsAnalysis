{
 "cells": [
  {
   "cell_type": "code",
   "execution_count": 2,
   "id": "0d1508c7",
   "metadata": {},
   "outputs": [],
   "source": [
    "import os\n",
    "import pandas as pd\n",
    "import scraper\n",
    "import translator\n",
    "import sentimentAnalysis\n",
    "import graphAnalysis\n",
    "import utils\n",
    "import importlib\n",
    "importlib.reload(utils)\n",
    "importlib.reload(scraper)\n",
    "from nltk.corpus import wordnet"
   ]
  },
  {
   "cell_type": "code",
   "execution_count": 18,
   "id": "47151a52",
   "metadata": {},
   "outputs": [],
   "source": [
    "from itertools import chain\n",
    "from nltk import pos_tag\n",
    "from nltk.stem import WordNetLemmatizer\n",
    "from nltk import pos_tag\n",
    "from nltk.tokenize import word_tokenize"
   ]
  },
  {
   "cell_type": "code",
   "execution_count": 4,
   "id": "837a68d4",
   "metadata": {},
   "outputs": [],
   "source": [
    "oneonetwo = pd.read_csv(\"Suomi112_cpd.csv\", encoding='utf-8-sig')\n",
    "sos_live = pd.read_csv(\"SosLive_cpd.csv\", encoding='utf-8-sig')"
   ]
  },
  {
   "cell_type": "code",
   "execution_count": 5,
   "id": "bd057c24",
   "metadata": {},
   "outputs": [],
   "source": [
    "#synset = wordnet.synsets(\"satisfaction\")\n",
    "emotions = [\"perceived ease of use\", \"perceived usefulness\", \"satisfaction\", \"attitude\", \"behavioral intentions\"]"
   ]
  },
  {
   "cell_type": "code",
   "execution_count": 6,
   "id": "19370b57",
   "metadata": {},
   "outputs": [],
   "source": [
    "def syno(word):\n",
    "    synonyms = []\n",
    "    for syn in wordnet.synsets(word):\n",
    "        for i in syn.lemmas():\n",
    "            synonyms.append(i.name())\n",
    "            \n",
    "    hypernym = []\n",
    "    for i in range(len(wordnet.synsets(word))):\n",
    "        hypernym.append(wordnet.synsets(word)[i].hypernyms())\n",
    "        \n",
    "    hyponym = []\n",
    "    for i in range(len(wordnet.synsets(word))):\n",
    "        hyponym.append(wordnet.synsets(word)[i].hyponyms())\n",
    "        \n",
    "    hyper_list = list(chain.from_iterable(hypernym))\n",
    "    hypo_list = list(chain.from_iterable(hyponym))\n",
    "    \n",
    "    hyper = []\n",
    "    for syns in hyper_list:\n",
    "        for word in syns.lemmas():\n",
    "            hyper.append(word.name())\n",
    "            \n",
    "    hypo = []\n",
    "    for syns in hypo_list:\n",
    "        for word in syns.lemmas():\n",
    "            hypo.append(word.name())\n",
    "            \n",
    "    synonyms.extend(hyper)\n",
    "    synonyms.extend(hypo)\n",
    "    \n",
    "    return(set(synonyms))"
   ]
  },
  {
   "cell_type": "code",
   "execution_count": 7,
   "id": "8b2ed264",
   "metadata": {},
   "outputs": [],
   "source": [
    "satisfaction = syno(\"satisfaction\")\n",
    "perceived_ease_of_use = syno(\"convenience\")\n",
    "perceived_usefulness = syno(\"usefulness\")\n",
    "attitude = syno(\"attitude\")\n",
    "behavioral_intentions = syno(\"motivation\")"
   ]
  },
  {
   "cell_type": "code",
   "execution_count": 11,
   "id": "b87a501a",
   "metadata": {},
   "outputs": [],
   "source": [
    "content112 = []\n",
    "for i in oneonetwo['content']:\n",
    "    content112.append(i)"
   ]
  },
  {
   "cell_type": "code",
   "execution_count": 17,
   "id": "33a39ef5",
   "metadata": {},
   "outputs": [],
   "source": [
    "lemmatiser = WordNetLemmatizer()\n",
    "lem_satisfaction = []\n",
    "lem_perceived_ease_of_use = []\n",
    "lem_perceived_usefulness = []\n",
    "lem_attitude = []\n",
    "lem_behavioral_intentions = []\n",
    "for i in satisfaction:\n",
    "    lem_satisfaction.append(lemmatiser.lemmatize(i,pos=\"v\"))\n",
    "for i in perceived_ease_of_use:\n",
    "    lem_perceived_ease_of_use.append(lemmatiser.lemmatize(i,pos=\"v\"))\n",
    "for i in perceived_usefulness:\n",
    "    lem_perceived_usefulness.append(lemmatiser.lemmatize(i,pos=\"v\"))\n",
    "for i in attitude:\n",
    "    lem_attitude.append(lemmatiser.lemmatize(i,pos=\"v\"))\n",
    "for i in behavioral_intentions:\n",
    "    lem_behavioral_intentions.append(lemmatiser.lemmatize(i,pos=\"v\"))"
   ]
  },
  {
   "cell_type": "code",
   "execution_count": 24,
   "id": "0de556cc",
   "metadata": {},
   "outputs": [
    {
     "data": {
      "text/plain": [
       "[('The', 'DT'),\n",
       " ('idea', 'NN'),\n",
       " ('is', 'VBZ'),\n",
       " ('a', 'DT'),\n",
       " ('diamond', 'NN'),\n",
       " ('.', '.'),\n",
       " ('Hopefully', 'NNP'),\n",
       " ('there', 'EX'),\n",
       " ('is', 'VBZ'),\n",
       " ('no', 'DT'),\n",
       " ('need', 'NN'),\n",
       " ('to', 'TO'),\n",
       " ('test', 'VB'),\n",
       " ('the', 'DT'),\n",
       " ('implementation', 'NN'),\n",
       " ('.', '.'),\n",
       " ('It', 'PRP'),\n",
       " ('seems', 'VBZ'),\n",
       " ('simple', 'JJ'),\n",
       " ('.', '.')]"
      ]
     },
     "execution_count": 24,
     "metadata": {},
     "output_type": "execute_result"
    }
   ],
   "source": [
    "pos_tag(word_tokenize(content112[0]))\n",
    "    "
   ]
  },
  {
   "cell_type": "code",
   "execution_count": 20,
   "id": "b3781e9e",
   "metadata": {},
   "outputs": [
    {
     "name": "stderr",
     "output_type": "stream",
     "text": [
      "[nltk_data] Downloading package averaged_perceptron_tagger to\n",
      "[nltk_data]     C:\\Users\\admin\\AppData\\Roaming\\nltk_data...\n",
      "[nltk_data]   Unzipping taggers\\averaged_perceptron_tagger.zip.\n"
     ]
    },
    {
     "data": {
      "text/plain": [
       "True"
      ]
     },
     "execution_count": 20,
     "metadata": {},
     "output_type": "execute_result"
    }
   ],
   "source": [
    "import nltk\n",
    "nltk.download('averaged_perceptron_tagger')"
   ]
  },
  {
   "cell_type": "code",
   "execution_count": 25,
   "id": "bd0cf767",
   "metadata": {},
   "outputs": [
    {
     "data": {
      "text/plain": [
       "[\"men's_room\",\n",
       " 'gimbal',\n",
       " 'availability',\n",
       " 'suitableness',\n",
       " 'lavatory',\n",
       " 'public_lavatory',\n",
       " 'contrivance',\n",
       " 'toilet',\n",
       " 'comfort_station',\n",
       " 'toilet_facility',\n",
       " \"men's\",\n",
       " 'opportuneness',\n",
       " 'john',\n",
       " 'appliance',\n",
       " 'can',\n",
       " 'timeliness',\n",
       " 'latrine',\n",
       " 'gadgetry',\n",
       " 'widget',\n",
       " 'convenience',\n",
       " 'gizmo',\n",
       " 'privy',\n",
       " 'device',\n",
       " 'availableness',\n",
       " 'gismo',\n",
       " 'gadget',\n",
       " 'handiness',\n",
       " 'wash_room',\n",
       " 'mod_con',\n",
       " 'facility',\n",
       " 'injector',\n",
       " 'bathroom',\n",
       " 'contraption',\n",
       " 'accessibility',\n",
       " 'suitability',\n",
       " 'patness',\n",
       " 'lav',\n",
       " 'public_convenience',\n",
       " 'comfort',\n",
       " 'restroom',\n",
       " \"ladies'_room\",\n",
       " 'public_toilet',\n",
       " 'powder_room',\n",
       " 'comfortableness']"
      ]
     },
     "execution_count": 25,
     "metadata": {},
     "output_type": "execute_result"
    }
   ],
   "source": [
    "lem_perceived_ease_of_use"
   ]
  },
  {
   "cell_type": "code",
   "execution_count": null,
   "id": "e3c2be75",
   "metadata": {},
   "outputs": [],
   "source": []
  }
 ],
 "metadata": {
  "kernelspec": {
   "display_name": "Python 3",
   "language": "python",
   "name": "python3"
  },
  "language_info": {
   "codemirror_mode": {
    "name": "ipython",
    "version": 3
   },
   "file_extension": ".py",
   "mimetype": "text/x-python",
   "name": "python",
   "nbconvert_exporter": "python",
   "pygments_lexer": "ipython3",
   "version": "3.8.8"
  }
 },
 "nbformat": 4,
 "nbformat_minor": 5
}
