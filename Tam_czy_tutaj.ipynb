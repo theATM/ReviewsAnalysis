{
 "cells": [
  {
   "cell_type": "markdown",
   "source": [
    "Oto moja kopia zadania numer siedem"
   ],
   "metadata": {
    "collapsed": false,
    "pycharm": {
     "name": "#%% md\n"
    }
   }
  },
  {
   "cell_type": "code",
   "execution_count": 1,
   "outputs": [],
   "source": [
    "import os\n",
    "import pandas as pd\n",
    "import scraper\n",
    "import translator\n",
    "import sentimentAnalysis\n",
    "import graphAnalysis\n",
    "import utils\n",
    "import importlib\n",
    "importlib.reload(utils)\n",
    "importlib.reload(scraper)\n",
    "from nltk.corpus import wordnet\n",
    "from itertools import chain\n",
    "from nltk import pos_tag\n",
    "from nltk.stem import WordNetLemmatizer\n",
    "from nltk import pos_tag\n",
    "from nltk.tokenize import word_tokenize"
   ],
   "metadata": {
    "collapsed": false,
    "pycharm": {
     "name": "#%%\n"
    }
   }
  },
  {
   "cell_type": "code",
   "execution_count": 2,
   "outputs": [],
   "source": [
    "#Wczytywanie danych - Data Load\n",
    "oneonetwo = pd.read_csv(\"data\"+os.sep+\"part\"+os.sep+\"Suomi112_cpd.csv\", encoding='utf-8-sig')\n",
    "sos_live = pd.read_csv(\"data\"+os.sep+\"part\"+os.sep+\"SosLive_cpd.csv\", encoding='utf-8-sig')\n",
    "#Połączenie danych - Data Concat\n",
    "data = pd.concat([oneonetwo,sos_live],ignore_index = True)"
   ],
   "metadata": {
    "collapsed": false,
    "pycharm": {
     "name": "#%%\n"
    }
   }
  },
  {
   "cell_type": "code",
   "execution_count": 3,
   "outputs": [],
   "source": [
    "#Lista Indykatorów - List of indicators\n",
    "lista_indykatorow = [\"perceived_ease_of_use\", \"perceived_usefulness\", \"satisfaction\", \"attitude\", \"behavioral_intentions\"]\n",
    "#Stworzyłem poszczególne listy słów kluczy: - I created lists of the keyword:\n",
    "slowa_klucze  = \\\n",
    "{\n",
    "    \"perceived_ease_of_use\" : [\"simple\",\"easy\",\"intuitive\",\"convenience\",\"explainable\",\"quick\",\"speed\",\"children\",\"elderly\"],\n",
    "    \"perceived_usefulness\"  : [\"efficient\", \"useful\", \"helpful\", \"work\", \"effective\",\"revolutionary\",\"implement\"],\n",
    "    \"satisfaction\"          : [\"satisfaction\",\"satisfy\", \"fulfill\", \"gratify\", \"meet\", \"beneficial\", \"content\", \"happy\", \"appeasement\"],\n",
    "    \"attitude\"              : [ \"important\", \"emotion\", \"attitude\", \"opinion\", \"grade\"],\n",
    "    \"behavioral_intentions\" : [\"usage\",\"intentions\", \"interaction\",\"plan\",\"utilize\",\"behavioral\"],\n",
    "}\n",
    "\n"
   ],
   "metadata": {
    "collapsed": false,
    "pycharm": {
     "name": "#%%\n"
    }
   }
  },
  {
   "cell_type": "code",
   "execution_count": 4,
   "outputs": [],
   "source": [
    "# Ta funkcja tworzy listę synonimóœ i nie tylku z listy słów - This function creates a list of synonyms and more from the list of words\n",
    "def dobierz_synonimy_i_nie_tylko(slowa):\n",
    "    slowa_klucze_zwrotne = []\n",
    "    for slowo in slowa:\n",
    "        slowa_klucze_zwrotne.append(slowo)\n",
    "        #Synonims:\n",
    "        synonimy = []\n",
    "        for syn in wordnet.synsets(slowo):\n",
    "            for s in syn.lemmas():\n",
    "                synonimy.append(s.name())\n",
    "        slowa_klucze_zwrotne.extend(set(synonimy))\n",
    "\n",
    "        #Hypernims:\n",
    "        parabole = []\n",
    "        for par in wordnet.synsets(slowo):\n",
    "            for p in par.hypernyms():\n",
    "                for pl in p.lemmas():\n",
    "                    parabole.append(pl.name())\n",
    "        slowa_klucze_zwrotne.extend(set(parabole))\n",
    "\n",
    "        #The others:\n",
    "        zmiekczenia = []\n",
    "        for zmi in wordnet.synsets(slowo):\n",
    "            for zm in zmi.hyponyms():\n",
    "                for z in zm.lemmas():\n",
    "                    zmiekczenia.append(z.name())\n",
    "        slowa_klucze_zwrotne.extend(set(zmiekczenia))\n",
    "\n",
    "    return(set(slowa_klucze_zwrotne))"
   ],
   "metadata": {
    "collapsed": false,
    "pycharm": {
     "name": "#%%\n"
    }
   }
  },
  {
   "cell_type": "code",
   "execution_count": 5,
   "outputs": [],
   "source": [
    "#Wyszukiwanie synonimów:\n",
    "slowa_klucze[\"perceived_ease_of_use\"] = dobierz_synonimy_i_nie_tylko(slowa_klucze[\"perceived_ease_of_use\"])\n",
    "slowa_klucze[\"perceived_usefulness\"] = dobierz_synonimy_i_nie_tylko(slowa_klucze[\"perceived_usefulness\"] )\n",
    "slowa_klucze[\"satisfaction\"] = dobierz_synonimy_i_nie_tylko(slowa_klucze[\"satisfaction\"] )\n",
    "slowa_klucze[\"attitude\"] = dobierz_synonimy_i_nie_tylko(slowa_klucze[\"attitude\"])\n",
    "slowa_klucze[\"behavioral_intentions\"] = dobierz_synonimy_i_nie_tylko(slowa_klucze[\"behavioral_intentions\"])"
   ],
   "metadata": {
    "collapsed": false,
    "pycharm": {
     "name": "#%%\n"
    }
   }
  },
  {
   "cell_type": "code",
   "execution_count": 6,
   "outputs": [
    {
     "data": {
      "text/plain": "{'A_level',\n 'Bos_taurus',\n 'CER',\n 'GCSE',\n 'General_Certificate_of_Secondary_Education',\n 'O_level',\n 'SPF',\n 'ablaut',\n 'acceptance',\n 'adverse_opinion',\n 'affectation',\n 'affectedness',\n 'aggrade',\n 'amplitude_level',\n 'anger',\n 'angular_unit',\n 'anxiety',\n 'appraise',\n 'asana',\n 'assemblage',\n 'assess',\n 'assort',\n 'attitude',\n 'authoritative',\n 'awe',\n 'ballet_position',\n 'belief',\n 'biosafety_level',\n 'bodily_property',\n 'caliber',\n 'calibre',\n 'cattle',\n 'centile',\n 'choler',\n 'class',\n 'classify',\n 'cognition',\n 'college_level',\n 'concurring_opinion',\n 'conditioned_emotion',\n 'conditioned_emotional_response',\n 'conjecture',\n 'content',\n 'course',\n 'cows',\n 'credence',\n 'crucial',\n 'culture',\n 'decile',\n 'decubitus',\n 'defensive',\n 'defensive_attitude',\n 'degree',\n 'depth',\n 'dictum',\n 'discussion_section',\n 'disposition',\n 'disrespect',\n 'dissenting_opinion',\n 'downgrade',\n 'ectopia',\n 'effect',\n 'elevation',\n 'emotion',\n 'emotional_state',\n 'esteem',\n 'evaluate',\n 'evaluation',\n 'even',\n 'even_out',\n 'eversion',\n 'extreme',\n 'eyes',\n 'fatwa',\n 'fatwah',\n 'fear',\n 'fearfulness',\n 'feeling',\n 'first_blush',\n 'flush',\n 'form',\n 'fright',\n 'gathering',\n 'grad',\n 'gradation',\n 'grade',\n 'grade_point',\n 'gradient',\n 'grind',\n 'ground_level',\n 'guard',\n 'guess',\n 'hardball',\n 'hate',\n 'hatred',\n 'high',\n 'high_horse',\n 'highness',\n 'hunch',\n 'hypothesis',\n 'idea',\n 'immoderateness',\n 'immoderation',\n 'important',\n 'impression',\n 'inclination',\n 'instrument',\n 'intensity',\n 'intensiveness',\n 'intolerance',\n 'intuition',\n 'ire',\n 'irreverence',\n 'joy',\n 'joyfulness',\n 'joyousness',\n 'judge',\n 'judgement',\n 'judgment',\n 'judicial_decision',\n 'kine',\n 'knowledge',\n 'legal_document',\n 'legal_instrument',\n 'legal_opinion',\n 'level',\n 'lithotomy_position',\n 'lotus_position',\n 'love',\n 'low',\n 'lowness',\n 'majority_opinion',\n 'mannerism',\n 'mark',\n 'master_class',\n 'measure',\n 'mental_attitude',\n 'mentality',\n 'message',\n 'mind',\n 'mind-set',\n 'mindset',\n 'missionary_position',\n 'moderateness',\n 'moderation',\n 'noesis',\n 'notion',\n 'obiter_dictum',\n 'of_import',\n 'official_document',\n 'opinion',\n 'order',\n 'order_arms',\n 'orientation',\n 'outlook',\n 'oxen',\n 'parti_pris',\n 'pass_judgment',\n 'paternalism',\n 'percentile',\n 'persuasion',\n 'place',\n 'pole',\n 'political_sympathies',\n 'politics',\n 'popular_opinion',\n 'pose',\n 'position',\n 'posture',\n 'preconceived_idea',\n 'preconceived_notion',\n 'preconceived_opinion',\n 'preconception',\n 'prepossession',\n 'presence',\n 'presentation',\n 'prioritise',\n 'prioritize',\n 'property',\n 'public_opinion',\n 'quality',\n 'quartile',\n 'range',\n 'rank',\n 'rate',\n 'rating',\n 'regard',\n 'reorder',\n 'respect',\n 'reverence',\n 'rise',\n 'rising_slope',\n 'ruling',\n 'score',\n 'section',\n 'seed',\n 'sentiment',\n 'separate',\n 'sequence',\n 'shortlist',\n 'side',\n 'significant',\n 'slope',\n 'sort',\n 'sort_out',\n 'southernism',\n 'speculation',\n 'spirit',\n 'sprawl',\n 'sprawling',\n 'stance',\n 'subject_matter',\n 'subordinate',\n 'substance',\n 'sun_protection_factor',\n 'superordinate',\n 'supposition',\n 'surmisal',\n 'surmise',\n 'suspicion',\n 'tendency',\n 'thought',\n 'tier',\n 'tolerance',\n 'trim',\n 'tuck',\n 'upgrade',\n 'valuate',\n 'valuation',\n 'value',\n 'veneration',\n 'view',\n 'vox_populi'}"
     },
     "execution_count": 6,
     "metadata": {},
     "output_type": "execute_result"
    }
   ],
   "source": [
    "#Można wypisać wyniczki - sanity check data presentation:\n",
    "slowa_klucze[\"attitude\"]"
   ],
   "metadata": {
    "collapsed": false,
    "pycharm": {
     "name": "#%%\n"
    }
   }
  },
  {
   "cell_type": "markdown",
   "source": [
    "Preprocessing danych:"
   ],
   "metadata": {
    "collapsed": false,
    "pycharm": {
     "name": "#%% md\n"
    }
   }
  },
  {
   "cell_type": "code",
   "execution_count": 7,
   "outputs": [
    {
     "name": "stderr",
     "output_type": "stream",
     "text": [
      "[nltk_data] Downloading package stopwords to data/lib/stopwords...\n",
      "[nltk_data]   Package stopwords is already up-to-date!\n",
      "[nltk_data] Downloading package wordnet to data/lib/wordnet...\n",
      "[nltk_data]   Package wordnet is already up-to-date!\n",
      "[nltk_data] Downloading package omw-1.4 to data/lib/omw...\n",
      "[nltk_data]   Package omw-1.4 is already up-to-date!\n"
     ]
    }
   ],
   "source": [
    "import utils, importlib\n",
    "importlib.reload(utils) # to keep the .py file up to date when coding\n",
    "processor = utils.Processor() # Init preprocessing <- there is a path to set up where to dowloads this v\n",
    "processor.ini_dowload() #dowload all the nessesary files to do the preprocesing (like the dictionary of the stopwords)"
   ],
   "metadata": {
    "collapsed": false,
    "pycharm": {
     "name": "#%%\n"
    }
   }
  },
  {
   "cell_type": "code",
   "execution_count": 8,
   "outputs": [],
   "source": [
    "from nltk import pos_tag\n",
    "def preprocesing_danych(dane_dane_danedu_dane_danedu_uu):\n",
    "    dane = dane_dane_danedu_dane_danedu_uu\n",
    "    dane = processor.preprocess(str(dane))\n",
    "    dane = processor.tokenize(dane)\n",
    "    dane = processor.remove_stopwords(dane,remove_len=3) # Remove stopwords (like in the topic task)\n",
    "    dane = processor.process_tokens(dane)  # Strip the words into the root words\n",
    "    #dane = pos_tag(dane)\n",
    "    return dane"
   ],
   "metadata": {
    "collapsed": false,
    "pycharm": {
     "name": "#%%\n"
    }
   }
  },
  {
   "cell_type": "code",
   "execution_count": 9,
   "outputs": [],
   "source": [
    "slowa_klucze[\"perceived_ease_of_use\"]  = preprocesing_danych(slowa_klucze[\"perceived_ease_of_use\"])\n",
    "slowa_klucze[\"perceived_usefulness\"]   = preprocesing_danych(slowa_klucze[\"perceived_usefulness\"] )\n",
    "slowa_klucze[\"satisfaction\"]           = preprocesing_danych(slowa_klucze[\"satisfaction\"]         )\n",
    "slowa_klucze[\"attitude\"]               = preprocesing_danych(slowa_klucze[\"attitude\"]             )\n",
    "slowa_klucze[\"behavioral_intentions\"]  = preprocesing_danych(slowa_klucze[\"behavioral_intentions\"])"
   ],
   "metadata": {
    "collapsed": false,
    "pycharm": {
     "name": "#%%\n"
    }
   }
  },
  {
   "cell_type": "code",
   "execution_count": 10,
   "outputs": [],
   "source": [
    "wszystkie_slowa_klucze = []\n",
    "wszystkie_slowa_klucze.append(slowa_klucze[\"perceived_ease_of_use\"])\n",
    "wszystkie_slowa_klucze.append(slowa_klucze[\"perceived_usefulness\"] )\n",
    "wszystkie_slowa_klucze.append(slowa_klucze[\"satisfaction\"] )\n",
    "wszystkie_slowa_klucze.append(slowa_klucze[\"attitude\"] )\n",
    "wszystkie_slowa_klucze.append(slowa_klucze[\"behavioral_intentions\"] )"
   ],
   "metadata": {
    "collapsed": false,
    "pycharm": {
     "name": "#%%\n"
    }
   }
  },
  {
   "cell_type": "code",
   "execution_count": 11,
   "outputs": [],
   "source": [
    "#from gensim.corpora import Dictionary\n",
    "#keyword_dictionary = Dictionary(wszystkie_slowa_klucze)\n",
    "#keyword_bow_corpus = [keyword_dictionary.doc2bow(doc) for doc in wszystkie_slowa_klucze] #  dictionary reporting how many words and how many times those words appear\n",
    "#from gensim import corpora, models\n",
    "#keyword_tfidf = models.TfidfModel(keyword_bow_corpus)\n",
    "#corpus_tfidf = keyword_tfidf[keyword_bow_corpus]"
   ],
   "metadata": {
    "collapsed": false,
    "pycharm": {
     "name": "#%%\n"
    }
   }
  },
  {
   "cell_type": "code",
   "execution_count": 12,
   "outputs": [],
   "source": [
    "#Preproces the reviews:\n",
    "data[\"preprocessed_reviews\"] = data[\"content\"].apply(lambda x: preprocesing_danych(x))"
   ],
   "metadata": {
    "collapsed": false,
    "pycharm": {
     "name": "#%%\n"
    }
   }
  },
  {
   "cell_type": "code",
   "execution_count": 13,
   "outputs": [],
   "source": [
    "#Vectorize the reviews:\n",
    "from gensim.corpora import Dictionary\n",
    "review_dictionary = Dictionary(data[\"preprocessed_reviews\"])\n",
    "review_bow_corpus = [review_dictionary.doc2bow(doc) for doc in data[\"preprocessed_reviews\"]] #  dictionary reporting how many words and how many times those words appear\n",
    "from gensim import corpora, models\n",
    "tfidf = models.TfidfModel(review_bow_corpus)\n",
    "data_vectorized = tfidf[review_bow_corpus]\n",
    "data[\"vectorized_reviews\"] = data_vectorized.corpus"
   ],
   "metadata": {
    "collapsed": false,
    "pycharm": {
     "name": "#%%\n"
    }
   }
  },
  {
   "cell_type": "code",
   "execution_count": 14,
   "outputs": [
    {
     "name": "stderr",
     "output_type": "stream",
     "text": [
      "/home/olek/Documents/Studies/Semestr9/NLP/ReviewsAnalysis/renv/lib/python3.10/site-packages/thefuzz/fuzz.py:11: UserWarning: Using slow pure-python SequenceMatcher. Install python-Levenshtein to remove this warning\n",
      "  warnings.warn('Using slow pure-python SequenceMatcher. Install python-Levenshtein to remove this warning')\n"
     ]
    }
   ],
   "source": [
    "#Classification:\n",
    "from thefuzz import fuzz\n",
    "from thefuzz import process\n",
    "import numpy as np\n",
    "def classify(rewiew,all_keywords,threshold=10):\n",
    "    rewiew = \" \".join(rewiew)\n",
    "    scores = []\n",
    "    for keywords in all_keywords:\n",
    "        keywords = \" \".join(keywords)\n",
    "        scores.append(fuzz.token_set_ratio(rewiew,keywords))\n",
    "    if max(scores) < threshold: #scores are from 0 to 100\n",
    "        return -1\n",
    "    best = np.argmax(scores) #ID of the best keyword\n",
    "    return best\n",
    "\n",
    "data[\"class\"] = data[\"preprocessed_reviews\"].apply(lambda x : classify(x, wszystkie_slowa_klucze))"
   ],
   "metadata": {
    "collapsed": false,
    "pycharm": {
     "name": "#%%\n"
    }
   }
  },
  {
   "cell_type": "code",
   "execution_count": 15,
   "outputs": [
    {
     "data": {
      "text/plain": "0       4\n1       1\n2       3\n3       1\n4       2\n       ..\n1890    2\n1891    2\n1892    2\n1893    1\n1894    2\nName: class, Length: 1895, dtype: int64"
     },
     "execution_count": 15,
     "metadata": {},
     "output_type": "execute_result"
    }
   ],
   "source": [
    "data[\"class\"]"
   ],
   "metadata": {
    "collapsed": false,
    "pycharm": {
     "name": "#%%\n"
    }
   }
  },
  {
   "cell_type": "code",
   "execution_count": 16,
   "outputs": [],
   "source": [
    "# Create five horses of the TAM indicators\n",
    "horse_ease_of_use     =    data.drop(data[data[\"class\"] != 0].index)\n",
    "horse_usefulness      =    data.drop(data[data[\"class\"] != 1].index)\n",
    "horse_satisfaction    =    data.drop(data[data[\"class\"] != 2].index)\n",
    "horse_attitude        =    data.drop(data[data[\"class\"] != 3].index)\n",
    "horse_behavioral      =    data.drop(data[data[\"class\"] != 4].index)"
   ],
   "metadata": {
    "collapsed": false,
    "pycharm": {
     "name": "#%%\n"
    }
   }
  },
  {
   "cell_type": "code",
   "execution_count": 17,
   "outputs": [
    {
     "data": {
      "text/plain": "      Unnamed: 0.1  Unnamed: 0  \\\n5                5           5   \n6                6           6   \n9                9           9   \n10              10          10   \n13              13          13   \n...            ...         ...   \n1846           412         412   \n1862           428         428   \n1864           430         430   \n1874           440         440   \n1884           450         450   \n\n                                                content  score  \\\n5     Why do you have to enter the phone number ever...      4   \n6     Why does the program need the user's phone num...      4   \n9     I went through the settings to save, and my nu...      4   \n10    Otherwise probably good, but I can't remember ...      3   \n13    The number was saved when you left out the plu...      4   \n...                                                 ...    ...   \n1846  112 sppen no longer works after the update you...      1   \n1862  Simple to use, and doesn't spam with notificat...      5   \n1864  Seems to be draining an unreasonable amount of...      3   \n1874          Why is this app not available in English?      2   \n1884  Plings to a single time sometimes, checks imme...      1   \n\n                         userName                   at  type  \\\n5                   A Google user  2015-06-17 11:27:07     0   \n6                   A Google user  2015-06-17 12:22:42     0   \n9                Googlen käyttäjä  2015-06-17 14:16:59     0   \n10               Googlen käyttäjä  2015-06-17 15:05:12     0   \n13               Googlen käyttäjä  2015-06-17 16:40:53     0   \n...                           ...                  ...   ...   \n1846                 ann.lindberg  2021-12-31 20:27:51     3   \n1862                Linus Sjövall  2022-03-16 11:14:51     2   \n1864                        Oscar  2022-03-25 16:28:41     2   \n1874                 Dag Lindwall  2022-06-08 11:38:53     2   \n1884  DetFunkarInteMedSmeknamnFan  2022-08-20 08:30:26     3   \n\n     reviewCreatedVersion  sentiment  \\\n5                 1.0.114          1   \n6                 1.0.119          1   \n9                 1.0.119          1   \n10                1.0.119          1   \n13                1.0.119          1   \n...                   ...        ...   \n1846                  NaN         -1   \n1862               1.0.17         -1   \n1864               1.0.17         -1   \n1874               1.0.26          0   \n1884                  NaN         -1   \n\n                                      developerResponse  \\\n5                                                   NaN   \n6                                                   NaN   \n9                                                   NaN   \n10                                                  NaN   \n13                                                  NaN   \n...                                                 ...   \n1846  {'id': 27560489, 'body': 'Ja, ber om ursäkt fö...   \n1862                                                NaN   \n1864                                                NaN   \n1874                                                NaN   \n1884                                                NaN   \n\n                                   preprocessed_reviews  \\\n5     [enter, phone, number, everi, time, start, app...   \n6     [program, need, user, phone, number, simpl, pr...   \n9                         [go, set, save, number, save]   \n10    [otherwis, probabl, good, rememb, caller, phon...   \n13      [number, save, leav, plus, sign, countri, code]   \n...                                                 ...   \n1846  [sppen, longer, work, updat, loud, cri, face, ...   \n1862  [simpl, spam, notif, come, whene, real, proble...   \n1864  [seem, drain, unreason, amount, batteri, remem...   \n1874                                   [avail, english]   \n1884  [pling, singl, time, sometim, check, immedi, s...   \n\n                                     vectorized_reviews  class  \n5     [(16, 1), (31, 1), (32, 1), (33, 1), (34, 1), ...      0  \n6     [(4, 1), (6, 1), (34, 1), (35, 2), (38, 2), (3...      0  \n9                  [(34, 1), (51, 1), (52, 2), (53, 1)]      0  \n10    [(34, 2), (35, 1), (36, 1), (45, 1), (54, 1), ...      0  \n13    [(34, 1), (52, 1), (64, 1), (65, 1), (66, 1), ...      0  \n...                                                 ...    ...  \n1846  [(15, 1), (201, 1), (264, 1), (297, 1), (347, ...      0  \n1862  [(6, 1), (84, 1), (130, 1), (177, 1), (268, 1)...      0  \n1864  [(5, 2), (17, 1), (45, 1), (148, 1), (177, 1),...      0  \n1874                               [(371, 1), (755, 1)]      0  \n1884  [(37, 1), (167, 1), (201, 1), (268, 1), (592, ...      0  \n\n[247 rows x 13 columns]",
      "text/html": "<div>\n<style scoped>\n    .dataframe tbody tr th:only-of-type {\n        vertical-align: middle;\n    }\n\n    .dataframe tbody tr th {\n        vertical-align: top;\n    }\n\n    .dataframe thead th {\n        text-align: right;\n    }\n</style>\n<table border=\"1\" class=\"dataframe\">\n  <thead>\n    <tr style=\"text-align: right;\">\n      <th></th>\n      <th>Unnamed: 0.1</th>\n      <th>Unnamed: 0</th>\n      <th>content</th>\n      <th>score</th>\n      <th>userName</th>\n      <th>at</th>\n      <th>type</th>\n      <th>reviewCreatedVersion</th>\n      <th>sentiment</th>\n      <th>developerResponse</th>\n      <th>preprocessed_reviews</th>\n      <th>vectorized_reviews</th>\n      <th>class</th>\n    </tr>\n  </thead>\n  <tbody>\n    <tr>\n      <th>5</th>\n      <td>5</td>\n      <td>5</td>\n      <td>Why do you have to enter the phone number ever...</td>\n      <td>4</td>\n      <td>A Google user</td>\n      <td>2015-06-17 11:27:07</td>\n      <td>0</td>\n      <td>1.0.114</td>\n      <td>1</td>\n      <td>NaN</td>\n      <td>[enter, phone, number, everi, time, start, app...</td>\n      <td>[(16, 1), (31, 1), (32, 1), (33, 1), (34, 1), ...</td>\n      <td>0</td>\n    </tr>\n    <tr>\n      <th>6</th>\n      <td>6</td>\n      <td>6</td>\n      <td>Why does the program need the user's phone num...</td>\n      <td>4</td>\n      <td>A Google user</td>\n      <td>2015-06-17 12:22:42</td>\n      <td>0</td>\n      <td>1.0.119</td>\n      <td>1</td>\n      <td>NaN</td>\n      <td>[program, need, user, phone, number, simpl, pr...</td>\n      <td>[(4, 1), (6, 1), (34, 1), (35, 2), (38, 2), (3...</td>\n      <td>0</td>\n    </tr>\n    <tr>\n      <th>9</th>\n      <td>9</td>\n      <td>9</td>\n      <td>I went through the settings to save, and my nu...</td>\n      <td>4</td>\n      <td>Googlen käyttäjä</td>\n      <td>2015-06-17 14:16:59</td>\n      <td>0</td>\n      <td>1.0.119</td>\n      <td>1</td>\n      <td>NaN</td>\n      <td>[go, set, save, number, save]</td>\n      <td>[(34, 1), (51, 1), (52, 2), (53, 1)]</td>\n      <td>0</td>\n    </tr>\n    <tr>\n      <th>10</th>\n      <td>10</td>\n      <td>10</td>\n      <td>Otherwise probably good, but I can't remember ...</td>\n      <td>3</td>\n      <td>Googlen käyttäjä</td>\n      <td>2015-06-17 15:05:12</td>\n      <td>0</td>\n      <td>1.0.119</td>\n      <td>1</td>\n      <td>NaN</td>\n      <td>[otherwis, probabl, good, rememb, caller, phon...</td>\n      <td>[(34, 2), (35, 1), (36, 1), (45, 1), (54, 1), ...</td>\n      <td>0</td>\n    </tr>\n    <tr>\n      <th>13</th>\n      <td>13</td>\n      <td>13</td>\n      <td>The number was saved when you left out the plu...</td>\n      <td>4</td>\n      <td>Googlen käyttäjä</td>\n      <td>2015-06-17 16:40:53</td>\n      <td>0</td>\n      <td>1.0.119</td>\n      <td>1</td>\n      <td>NaN</td>\n      <td>[number, save, leav, plus, sign, countri, code]</td>\n      <td>[(34, 1), (52, 1), (64, 1), (65, 1), (66, 1), ...</td>\n      <td>0</td>\n    </tr>\n    <tr>\n      <th>...</th>\n      <td>...</td>\n      <td>...</td>\n      <td>...</td>\n      <td>...</td>\n      <td>...</td>\n      <td>...</td>\n      <td>...</td>\n      <td>...</td>\n      <td>...</td>\n      <td>...</td>\n      <td>...</td>\n      <td>...</td>\n      <td>...</td>\n    </tr>\n    <tr>\n      <th>1846</th>\n      <td>412</td>\n      <td>412</td>\n      <td>112 sppen no longer works after the update you...</td>\n      <td>1</td>\n      <td>ann.lindberg</td>\n      <td>2021-12-31 20:27:51</td>\n      <td>3</td>\n      <td>NaN</td>\n      <td>-1</td>\n      <td>{'id': 27560489, 'body': 'Ja, ber om ursäkt fö...</td>\n      <td>[sppen, longer, work, updat, loud, cri, face, ...</td>\n      <td>[(15, 1), (201, 1), (264, 1), (297, 1), (347, ...</td>\n      <td>0</td>\n    </tr>\n    <tr>\n      <th>1862</th>\n      <td>428</td>\n      <td>428</td>\n      <td>Simple to use, and doesn't spam with notificat...</td>\n      <td>5</td>\n      <td>Linus Sjövall</td>\n      <td>2022-03-16 11:14:51</td>\n      <td>2</td>\n      <td>1.0.17</td>\n      <td>-1</td>\n      <td>NaN</td>\n      <td>[simpl, spam, notif, come, whene, real, proble...</td>\n      <td>[(6, 1), (84, 1), (130, 1), (177, 1), (268, 1)...</td>\n      <td>0</td>\n    </tr>\n    <tr>\n      <th>1864</th>\n      <td>430</td>\n      <td>430</td>\n      <td>Seems to be draining an unreasonable amount of...</td>\n      <td>3</td>\n      <td>Oscar</td>\n      <td>2022-03-25 16:28:41</td>\n      <td>2</td>\n      <td>1.0.17</td>\n      <td>-1</td>\n      <td>NaN</td>\n      <td>[seem, drain, unreason, amount, batteri, remem...</td>\n      <td>[(5, 2), (17, 1), (45, 1), (148, 1), (177, 1),...</td>\n      <td>0</td>\n    </tr>\n    <tr>\n      <th>1874</th>\n      <td>440</td>\n      <td>440</td>\n      <td>Why is this app not available in English?</td>\n      <td>2</td>\n      <td>Dag Lindwall</td>\n      <td>2022-06-08 11:38:53</td>\n      <td>2</td>\n      <td>1.0.26</td>\n      <td>0</td>\n      <td>NaN</td>\n      <td>[avail, english]</td>\n      <td>[(371, 1), (755, 1)]</td>\n      <td>0</td>\n    </tr>\n    <tr>\n      <th>1884</th>\n      <td>450</td>\n      <td>450</td>\n      <td>Plings to a single time sometimes, checks imme...</td>\n      <td>1</td>\n      <td>DetFunkarInteMedSmeknamnFan</td>\n      <td>2022-08-20 08:30:26</td>\n      <td>3</td>\n      <td>NaN</td>\n      <td>-1</td>\n      <td>NaN</td>\n      <td>[pling, singl, time, sometim, check, immedi, s...</td>\n      <td>[(37, 1), (167, 1), (201, 1), (268, 1), (592, ...</td>\n      <td>0</td>\n    </tr>\n  </tbody>\n</table>\n<p>247 rows × 13 columns</p>\n</div>"
     },
     "execution_count": 17,
     "metadata": {},
     "output_type": "execute_result"
    }
   ],
   "source": [
    "horse_ease_of_use"
   ],
   "metadata": {
    "collapsed": false,
    "pycharm": {
     "name": "#%%\n"
    }
   }
  },
  {
   "cell_type": "code",
   "execution_count": 16,
   "outputs": [],
   "source": [],
   "metadata": {
    "collapsed": false,
    "pycharm": {
     "name": "#%%\n"
    }
   }
  },
  {
   "cell_type": "code",
   "execution_count": null,
   "outputs": [],
   "source": [],
   "metadata": {
    "collapsed": false,
    "pycharm": {
     "name": "#%%\n"
    }
   }
  },
  {
   "cell_type": "code",
   "execution_count": null,
   "outputs": [],
   "source": [],
   "metadata": {
    "collapsed": false,
    "pycharm": {
     "name": "#%%\n"
    }
   }
  }
 ],
 "metadata": {
  "kernelspec": {
   "display_name": "Python 3",
   "language": "python",
   "name": "python3"
  },
  "language_info": {
   "codemirror_mode": {
    "name": "ipython",
    "version": 2
   },
   "file_extension": ".py",
   "mimetype": "text/x-python",
   "name": "python",
   "nbconvert_exporter": "python",
   "pygments_lexer": "ipython2",
   "version": "2.7.6"
  }
 },
 "nbformat": 4,
 "nbformat_minor": 0
}