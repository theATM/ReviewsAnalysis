{
 "cells": [
  {
   "cell_type": "code",
   "execution_count": 1,
   "metadata": {
    "collapsed": true,
    "pycharm": {
     "name": "#%%\n"
    }
   },
   "outputs": [],
   "source": [
    "from google_play_scraper import app"
   ]
  },
  {
   "cell_type": "code",
   "execution_count": 3,
   "outputs": [
    {
     "name": "stdout",
     "output_type": "stream",
     "text": [
      "{'title': '112 Suomi', 'description': '112 Suomi is a mobile app for calling the emergency number and locating callers in the event of an emergency. The biggest benefit of the app is that it makes it quicker to get help to the scene of an emergency.\\r\\n\\r\\nAdditional features of the 112 Suomi app include a list of non-emergency telephone numbers as well as public safety notifications.\\r\\n\\r\\nThe Emergency Response Centre Agency has added a new feature to its official public safety notification system and introduced public safety alerts through the 112 Suomi mobile app.\\r\\n\\r\\nThe app was designed by the Emergency Response Centre Agency in collaboration with Digia Plc.\\r\\n\\r\\nBy using this application you agree to the following terms and conditions: \\r\\nhttp://www.digia.com/globalassets/tuotteet/112-suomi/112-suomi-app-users-licence-agreement.pdf\\r\\n\\r\\nRegistry extract according to the Personal Information Act (in Finnish): \\r\\nhttps://112.fi/tietosuoja112suomi', 'descriptionHTML': '112 Suomi is a mobile app for calling the emergency number and locating callers in the event of an emergency. The biggest benefit of the app is that it makes it quicker to get help to the scene of an emergency.<br><br>Additional features of the 112 Suomi app include a list of non-emergency telephone numbers as well as public safety notifications.<br><br>The Emergency Response Centre Agency has added a new feature to its official public safety notification system and introduced public safety alerts through the 112 Suomi mobile app.<br><br>The app was designed by the Emergency Response Centre Agency in collaboration with Digia Plc.<br><br>By using this application you agree to the following terms and conditions: <br>http://www.digia.com/globalassets/tuotteet/112-suomi/112-suomi-app-users-licence-agreement.pdf<br><br>Registry extract according to the Personal Information Act (in Finnish): <br>https://112.fi/tietosuoja112suomi', 'summary': 'Mobile app for calling the emergency number, locating callers and public alerts.', 'installs': '1,000,000+', 'minInstalls': 1000000, 'realInstalls': 2020637, 'score': 3.1666667, 'ratings': 4844, 'reviews': 3, 'histogram': [1614, 807, 0, 0, 2422], 'price': 0, 'free': True, 'currency': 'USD', 'sale': False, 'saleTime': None, 'originalPrice': None, 'saleText': None, 'offersIAP': False, 'inAppProductPrice': None, 'developer': 'Digia', 'developerId': 'Digia', 'developerEmail': '112suomi@digia.com', 'developerWebsite': 'http://www.digia.com/112suomi/', 'developerAddress': 'Digia Plc\\nAtomitie 2 A\\n00370 Helsinki\\nFinland', 'privacyPolicy': 'https://112.fi/tietosuoja112suomi', 'genre': 'Travel & Local', 'genreId': 'TRAVEL_AND_LOCAL', 'icon': 'https://play-lh.googleusercontent.com/Gm9kHlfc7GhSIWaacqHjAvP8-EEdKQFOPQAPWfZEYNeludNTUZ2B_T6Hh-J1Xq3c3Bc', 'headerImage': 'https://play-lh.googleusercontent.com/Jfu2rmRW0UzfyyTriLjGyjMYGPRECkrFyHHpOFtak1oeQVvJxM4Y1y7DPjKPpeuXbsYm', 'screenshots': ['https://play-lh.googleusercontent.com/L6qGEgQAwOpcOJx9BttPZeMqJpucgxQf0LAqGXBoB1y5YMa2sNnMC7j7VMgor6LoR0_y', 'https://play-lh.googleusercontent.com/pUYvU09R3lezpE2Ly4JGHP0lliALduFWffLEQHvXP1jBiqAbm8lfZa3iwrWPnFMCTA', 'https://play-lh.googleusercontent.com/sZ6ybcq4c0ydw4PpRvH1gbv8d1dEnjvVSZ_mlLX4mdUtQpHkt0ahpENjPMdkXgdeESs', 'https://play-lh.googleusercontent.com/MkmzHZdII6a5Q_yDiHFSHq3WL5uTxDKBKznJHiqCOVbKOgZI_lCaT7ZB5G6Re98M3yI'], 'video': None, 'videoImage': None, 'contentRating': 'Everyone', 'contentRatingDescription': None, 'adSupported': False, 'containsAds': False, 'released': 'Jun 25, 2015', 'updated': 1644053230, 'version': '4.3.3', 'recentChanges': 'Notification settings\\r\\nImproved application accessibility and usability\\r\\nBug fixes', 'recentChangesHTML': 'Notification settings<br>Improved application accessibility and usability<br>Bug fixes', 'comments': [\"Have never needed the App, which is a good thing. Just received an alert. Couldn't copy the text to translation app. Hopefully it will be possible to copy the text of alerts.\", 'Very useful app. Shows automatically your location to emergency room. It has many other emergency numbers too. Authorities are able to send you public notifications.', 'Interface is translated, but notifications are Fnnish-only and not copy/pastable for translate. Essentially useless if there is a real emergency', 'Has some additional features, such as Hotline for Missing Children, confidential Child and Youth Phone and few others. Also you can check if in your area some public danger announcement was made. Did not see it in practice, just assume most of the features there are useful.', 'It is difficult to rate an app, that hopefully, you never need to use, but the design, layout and information seems very good, as do the comments from other users, so because of what it is, and what it does, it really needs to be given a 5 star rating.', 'I guess the app works but they keep spamming notifications in Finnish no matter what language is selected so they can shove it up their tailpipes', 'This app is not necessary anymore... All android phones send the coordinates to the emergency center instantly when you call.', 'worked really well. Got help 5 min from making the call. Was in the park without accurate address', 'Easy to use. Hope ill never have to tho', 'it is good beginning', 'Did not call 112 Papa died for nothing', 'i killed my dog änd i tindint ket eny help.', 'Trafikmeddelande kommer ofta endast på Finska, och om de kommer på svenska så är det när varningen inte längre är relevant... Har inte använt några av de andra funktionerna så kan inte ge någon recension för resten av appen', 'Sovellus on käyttökelvoton, koska se ruinaa kahden sekunnin välein Google location services sallimista. No thanks vastaaminen ei auta.', 'Verkligen jättebra man har sin position genast, bara man har kontakt med gps eller telefon master-och ström i batteriet :)))', 'rn-push-notification-channel -ilmoitukset (3 kpl), sekä TSLocationManager -ilmoitus asetuksissa. Vaikea sanoa mitä nuo ovat, mutta ainakin liikennetiedotteita tulee, vaikka \"Liikennetiedotteet\" on pois päältä.', 'Avasin äpin katsoakseni miten toimii. Ei puhettakaan, että olisi antanut soittaa hätäpuhelun. Ensin piti päättää kymmenestä asetuksesta. Ette voi olla näin typeriä! Hätätilanteessa oleva ihminen ei halua päättää sadasta asetuksesta, vaan saada apua. Teidän tulee HETI tehdä asialle jotain!', 'Akun säästämiseksi sovellus voisi tukea tummaa teemaa. Käyttöliittymältään sovellus poikkeaa tavanomaisista Android sovelluksista. Sovellus voisi noudattaa käyttöliittymän osalta Androidin natiiveja komponentteja. Sijaintiedon käyttö taustalla lisää huomattavasti akun kulutusta. Ei varmasti olisi iso työ lokalisoida sovellus myös venäjäksi, viroksi, ranskaksi, saksaksi jne...', 'En tiedä, toimiiko viranomaishälytykset, kun en saa sovelluksesta minkäänlaisia säännöllisiä koeilmoituksia. Tänne eivät kuulu yleiset sireenillä annetut hälytykset enkä kuuntele radiota jatkuvasti. Esim. ydinonnettomuudessa joditabletit pitää ottaa oikea-aikaisesti viranomaisohjeen mukaan. En tiedä toimiiko tämä tarvittaessa? Tämä näkyy olevan ainoa kanava palautteen antamiseksi. Toivottavasti menee perille kehittäjille.', 'Ei voi asetuksissa poistaa kova äänistä hälytys äänimerkkiä. Pelkkä notifikaatio riittäisi.', 'Kysyy heti alussa puhelinnumeron. Kun menet asetuksiin on toimimaton softa jo poistanut sen. Tähänkö pitäisi luottaa? GPS tarkkuus 150m on myös täysin hyödytön.', 'Pelastuslaitokset suosittelevat ja häke suosittelee. Eiole ollut tarvetta soittaa. Monta tuhatta puhelua on soitettu tämän kautta (muut soittaneet tilastojen mukaan) ja 500 000 latausta pelastaa ihmishenkiä suosittelen :-)', 'Hyödyllinen sovellus, mutta auta armiasta minkälaista jargonia noi tiedotteet on. Huomaa että tehty jollain automaatilla. Onnettomuuspaikat/tietyöt ilmoitetaan 100 km tieosuuksille ja johonkin risteyksee, teksitiä tyyliin \"...suuntaan Jyväskylän suunnasta...\" yms.', 'Muuten aivan loistava sovellus mutta kun laitoin liikennetiedote-pushviestit päälle niin ne tulee joka kerta tuplana.', 'Liikennetiedotteet tulevat nykyään aina tuplasti, miksi näin? Jouduin ottamaan pois päältä tämän takia.', 'Häiritsevä. Joka toinen päivä tulee ilmoituksia jostain teknisistä ongelmista hätäkeskuksen toimintaan liittyen', 'Nykyaikaa! Etenkin paikannus on tärkeä, mutta myös vaarailmoitusten saaminen suoraan käteen/puhelimeen.', 'Huippu päivitys. Löytyy tieto paljon paremmin', 'Eipä oo tullu onneks käytettyä😅', 'Notifikaatioiden hallinta puuttuu. Häiriöt matkapuhelinverkossa eivät oikeastaan kiinnosta kolmelta aamuyöstä ainakaan niin paljon, että haluaisin äänellisiä ilmoituksia.', 'Liikaa spämmiä, viestejä ei pitäisi lähettää mistään häriöistä joita on joka toinen päivä, ja miksi viestit on suomeksi ku sovellus on asetettu englanniksi?', 'Hyödyllinen', 'Usefull', 'GPS on päällä kokoajan ja kuluttaa akkua, sovelluksen sulkeminen ei auta. Voisi lähettää muutakin tietoa kuin vain sijainnin.', 'Tarkempi paikannettavuus parantaa avunsaantia, ladatkaa ihmeessä!', 'Hienoa ettei notifikaation teksti näy kokonaan ja puuttuu dropdown symboli, millä olisi nähnyt koko tekstin mitä yritettiin testeissä lähettää. Monet appsit osaa sen nykyään. Takaisin opettelemaan koodin vääntöä androideihin.', 'Ohjelma olisi mahdollisesti hyvä hätätilanteessa vaikka retkeilemässä johonkin kivikkoon jalkansa rikkoneena. Ikävä kyllä puhelimen sijaintia täytyisi jatkuvasti pitää päällä jotta ohjelmasta saisi täyden hyödyn, lisäksi vaikka ei pitäisi, niin ohjelma näyttää jatkuvasti tällaista ilmoitusta JOTA EI PYSTY PIILOTTAMAAN. Tuon häiritsevän ilmoituksen takia poistan 112 appin.', 'Ohjelma vain antaa vain sijainnin minkä puhelimet tekee muutenkin nykyään. Ei kysy nimeä, ikää, osoitetta, allegioita, lääkitystä, verityyppiä, sairauksia, sosiaaliturvatunnusta, lähi omaista, omaisen puhelin numeroa. Naantalissa kun ei ole poliisia lainkaan niin mietityttää mitä iloa tästä on. Kaikki millä on väliä, puuttuu tästä ohjelmasta.', 'Jos on totta että sovellusta voi käyttää vain jos on antanut sille etukäteen puhelinnumeronsa se on rikollisen huono. Suurin osa käyttäjistä ei tiedä sitä ja hätätilanteessa ei välttämättä pysty sitä numeroa kirjoittamaan, etenkin jos joutuu toisen puhelimella tekemään hälytyksen.', 'Sovelluksessa pitäisi olla mahdollisuus paikkakunnan manuaaliseen määrittämiseen esim. alueellisten vaaraviestien saamiseksi. Nyt tuo toimii vain jos gps on päällä 24/7!'], 'appId': 'fi.digia.suomi112', 'url': 'https://play.google.com/store/apps/details?id=fi.digia.suomi112&hl=en&gl=us'}\n"
     ]
    }
   ],
   "source": [
    "#com.emc.emergency\n",
    "#com.threesixtyentertainment.nesn\n",
    "result = app(\n",
    "    'fi.digia.suomi112',\n",
    "    lang='en', # defaults to 'en'\n",
    "    country='us' # defaults to 'us'\n",
    ")\n",
    "print(result)"
   ],
   "metadata": {
    "collapsed": false,
    "pycharm": {
     "name": "#%%\n"
    }
   }
  },
  {
   "cell_type": "code",
   "execution_count": null,
   "outputs": [],
   "source": [],
   "metadata": {
    "collapsed": false,
    "pycharm": {
     "name": "#%%\n"
    }
   }
  }
 ],
 "metadata": {
  "kernelspec": {
   "display_name": "Python 3",
   "language": "python",
   "name": "python3"
  },
  "language_info": {
   "codemirror_mode": {
    "name": "ipython",
    "version": 2
   },
   "file_extension": ".py",
   "mimetype": "text/x-python",
   "name": "python",
   "nbconvert_exporter": "python",
   "pygments_lexer": "ipython2",
   "version": "2.7.6"
  }
 },
 "nbformat": 4,
 "nbformat_minor": 0
}