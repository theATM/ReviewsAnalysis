{
 "cells": [
  {
   "cell_type": "code",
   "execution_count": 25,
   "outputs": [],
   "source": [
    "from google_play_scraper import app\n",
    "from app_store_scraper import AppStore\n",
    "\n",
    "import pandas as pd\n",
    "import numpy as np\n",
    "import sys\n",
    "import importlib\n",
    "import json\n",
    "import time"
   ],
   "metadata": {
    "collapsed": false,
    "pycharm": {
     "name": "#%%\n"
    }
   }
  },
  {
   "cell_type": "code",
   "execution_count": 26,
   "outputs": [
    {
     "name": "stderr",
     "output_type": "stream",
     "text": [
      "2022-10-18 14:42:21,840 [INFO] Base - Initialised: AppStore('fi', '112-suomi', 998281396)\n",
      "2022-10-18 14:42:21,841 [INFO] Base - Ready to fetch reviews from: https://apps.apple.com/fi/app/112-suomi/id998281396\n",
      "2022-10-18 14:42:22,570 [INFO] Base - [id:998281396] Fetched 172 reviews (172 fetched in total)\n"
     ]
    }
   ],
   "source": [
    "import scrapper\n",
    "importlib.reload(scrapper)\n",
    "\n",
    "#Scrapp data:\n",
    "#TODO: I am experiancind some strange errors when trying to scroa the data - timeouts??\n",
    "oneonetwo_google = scrapper.google_scrapp(app_id = 'fi.digia.suomi112',country='fi')\n",
    "oneonetwo_apple  = scrapper.apple_scrapp( app_id = '998281396',country='fi', app_name='112 Suomi', how_many=1000)\n",
    "#time.sleep(10)\n",
    "#emergencyplus_google = scrapper.google_scrapp(app_id = 'com.threesixtyentertainment.nesn',country='fi')\n",
    "#emergencyplus_apple  = scrapper.apple_scrapp( app_id = '691814685',country='fi', app_name='Emergency Plus', how_many=1000)"
   ],
   "metadata": {
    "collapsed": false,
    "pycharm": {
     "name": "#%%\n"
    }
   }
  },
  {
   "cell_type": "code",
   "execution_count": 28,
   "outputs": [
    {
     "ename": "AttributeError",
     "evalue": "'GoogleTranslator' object has no attribute 'deactivate'",
     "output_type": "error",
     "traceback": [
      "\u001B[0;31m---------------------------------------------------------------------------\u001B[0m",
      "\u001B[0;31mAttributeError\u001B[0m                            Traceback (most recent call last)",
      "Cell \u001B[0;32mIn [28], line 13\u001B[0m\n\u001B[1;32m     10\u001B[0m oneonetwo_apple_eng \u001B[38;5;241m=\u001B[39m trans\u001B[38;5;241m.\u001B[39mtranslate(oneonetwo_apple)\n\u001B[1;32m     11\u001B[0m \u001B[38;5;66;03m#emergencyplus_google_eng = trans.translate(emergencyplus_google)\u001B[39;00m\n\u001B[1;32m     12\u001B[0m \u001B[38;5;66;03m#emergencyplus_apple_eng = trans.translate(emergencyplus_apple)\u001B[39;00m\n\u001B[0;32m---> 13\u001B[0m \u001B[43mtrans\u001B[49m\u001B[38;5;241;43m.\u001B[39;49m\u001B[43mdeactivate\u001B[49m()\n\u001B[1;32m     14\u001B[0m \u001B[38;5;28mprint\u001B[39m(\u001B[38;5;124m\"\u001B[39m\u001B[38;5;124mTranslation Done\u001B[39m\u001B[38;5;124m\"\u001B[39m)\n",
      "\u001B[0;31mAttributeError\u001B[0m: 'GoogleTranslator' object has no attribute 'deactivate'"
     ]
    }
   ],
   "source": [
    "#Translate the data :\n",
    "# #TODO: STILL translation does not work properly - (the transation is not complete - maby also translate from swedish?)\n",
    "# Also all emoticons are sadly lost during this process\n",
    "import scrapper\n",
    "importlib.reload(scrapper)\n",
    "\n",
    "#trans = scrapper.Translator('cuda')\n",
    "trans = scrapper.GoogleTranslator()\n",
    "oneonetwo_google_eng = trans.translate(oneonetwo_google)\n",
    "oneonetwo_apple_eng = trans.translate(oneonetwo_apple)\n",
    "#emergencyplus_google_eng = trans.translate(emergencyplus_google)\n",
    "#emergencyplus_apple_eng = trans.translate(emergencyplus_apple)\n",
    "print(\"Translation Done\")\n"
   ],
   "metadata": {
    "collapsed": false,
    "pycharm": {
     "name": "#%%\n"
    }
   }
  },
  {
   "cell_type": "code",
   "execution_count": null,
   "outputs": [],
   "source": [
    "#Need to preprocess the data\n",
    "# #TODO preprosess using that liblary ...."
   ],
   "metadata": {
    "collapsed": false,
    "pycharm": {
     "name": "#%%\n"
    }
   }
  },
  {
   "cell_type": "code",
   "execution_count": 33,
   "outputs": [],
   "source": [
    "#Save the data to the csv\n",
    "oneonetwo_google_eng.to_csv(r\"Suomi112_google.csv\", encoding='utf-8-sig')\n",
    "oneonetwo_apple_eng.to_csv(r\"Suomi112_apple.csv\", encoding='utf-8-sig')\n",
    "#emergencyplus_google_eng.to_csv(r\"EmergencyPlus_google.csv\", encoding='utf-8-sig')\n",
    "#emergencyplus_apple_eng.to_csv(r\"EmergencyPlus_apple.csv\", encoding='utf-8-sig')"
   ],
   "metadata": {
    "collapsed": false,
    "pycharm": {
     "name": "#%%\n"
    }
   }
  },
  {
   "cell_type": "code",
   "execution_count": null,
   "outputs": [],
   "source": [
    "##################################################TEST_KOMORKI#######################################################BELLOW#################"
   ],
   "metadata": {
    "collapsed": false,
    "pycharm": {
     "name": "#%%\n"
    }
   }
  }
 ],
 "metadata": {
  "kernelspec": {
   "display_name": "Python 3",
   "language": "python",
   "name": "python3"
  },
  "language_info": {
   "codemirror_mode": {
    "name": "ipython",
    "version": 2
   },
   "file_extension": ".py",
   "mimetype": "text/x-python",
   "name": "python",
   "nbconvert_exporter": "python",
   "pygments_lexer": "ipython2",
   "version": "2.7.6"
  }
 },
 "nbformat": 4,
 "nbformat_minor": 0
}