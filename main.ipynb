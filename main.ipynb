{
 "cells": [
  {
   "cell_type": "code",
   "execution_count": 3,
   "outputs": [],
   "source": [
    "from google_play_scraper import app\n",
    "from app_store_scraper import AppStore\n",
    "\n",
    "import pandas as pd\n",
    "import numpy as np\n",
    "import sys\n",
    "import importlib\n",
    "import json\n",
    "import time"
   ],
   "metadata": {
    "collapsed": false,
    "pycharm": {
     "name": "#%%\n"
    }
   }
  },
  {
   "cell_type": "code",
   "execution_count": 4,
   "outputs": [
    {
     "name": "stderr",
     "output_type": "stream",
     "text": [
      "2022-10-17 23:23:47,431 [INFO] Base - Initialised: AppStore('fi', '112-suomi', 998281396)\n",
      "2022-10-17 23:23:47,432 [INFO] Base - Ready to fetch reviews from: https://apps.apple.com/fi/app/112-suomi/id998281396\n",
      "2022-10-17 23:23:49,550 [INFO] Base - [id:998281396] Fetched 172 reviews (172 fetched in total)\n"
     ]
    },
    {
     "ename": "IncompleteRead",
     "evalue": "IncompleteRead(0 bytes read)",
     "output_type": "error",
     "traceback": [
      "\u001B[0;31m---------------------------------------------------------------------------\u001B[0m",
      "\u001B[0;31mIncompleteRead\u001B[0m                            Traceback (most recent call last)",
      "File \u001B[0;32m/usr/lib/python3.10/http/client.py:591\u001B[0m, in \u001B[0;36mHTTPResponse._read_chunked\u001B[0;34m(self, amt)\u001B[0m\n\u001B[1;32m    589\u001B[0m     \u001B[38;5;28;01mbreak\u001B[39;00m\n\u001B[0;32m--> 591\u001B[0m value\u001B[38;5;241m.\u001B[39mappend(\u001B[38;5;28;43mself\u001B[39;49m\u001B[38;5;241;43m.\u001B[39;49m\u001B[43m_safe_read\u001B[49m\u001B[43m(\u001B[49m\u001B[43mchunk_left\u001B[49m\u001B[43m)\u001B[49m)\n\u001B[1;32m    592\u001B[0m \u001B[38;5;28;01mif\u001B[39;00m amt \u001B[38;5;129;01mis\u001B[39;00m \u001B[38;5;129;01mnot\u001B[39;00m \u001B[38;5;28;01mNone\u001B[39;00m:\n",
      "File \u001B[0;32m/usr/lib/python3.10/http/client.py:632\u001B[0m, in \u001B[0;36mHTTPResponse._safe_read\u001B[0;34m(self, amt)\u001B[0m\n\u001B[1;32m    631\u001B[0m \u001B[38;5;28;01mif\u001B[39;00m \u001B[38;5;28mlen\u001B[39m(data) \u001B[38;5;241m<\u001B[39m amt:\n\u001B[0;32m--> 632\u001B[0m     \u001B[38;5;28;01mraise\u001B[39;00m IncompleteRead(data, amt\u001B[38;5;241m-\u001B[39m\u001B[38;5;28mlen\u001B[39m(data))\n\u001B[1;32m    633\u001B[0m \u001B[38;5;28;01mreturn\u001B[39;00m data\n",
      "\u001B[0;31mIncompleteRead\u001B[0m: IncompleteRead(16504 bytes read, 16264 more expected)",
      "\nDuring handling of the above exception, another exception occurred:\n",
      "\u001B[0;31mIncompleteRead\u001B[0m                            Traceback (most recent call last)",
      "Cell \u001B[0;32mIn [4], line 9\u001B[0m\n\u001B[1;32m      7\u001B[0m oneonetwo_apple  \u001B[38;5;241m=\u001B[39m scrapper\u001B[38;5;241m.\u001B[39mapple_scrapp( app_id \u001B[38;5;241m=\u001B[39m \u001B[38;5;124m'\u001B[39m\u001B[38;5;124m998281396\u001B[39m\u001B[38;5;124m'\u001B[39m,country\u001B[38;5;241m=\u001B[39m\u001B[38;5;124m'\u001B[39m\u001B[38;5;124mfi\u001B[39m\u001B[38;5;124m'\u001B[39m, app_name\u001B[38;5;241m=\u001B[39m\u001B[38;5;124m'\u001B[39m\u001B[38;5;124m112 Suomi\u001B[39m\u001B[38;5;124m'\u001B[39m, how_many\u001B[38;5;241m=\u001B[39m\u001B[38;5;241m1000\u001B[39m)\n\u001B[1;32m      8\u001B[0m time\u001B[38;5;241m.\u001B[39msleep(\u001B[38;5;241m10\u001B[39m)\n\u001B[0;32m----> 9\u001B[0m emergencyplus_google \u001B[38;5;241m=\u001B[39m \u001B[43mscrapper\u001B[49m\u001B[38;5;241;43m.\u001B[39;49m\u001B[43mgoogle_scrapp\u001B[49m\u001B[43m(\u001B[49m\u001B[43mapp_id\u001B[49m\u001B[43m \u001B[49m\u001B[38;5;241;43m=\u001B[39;49m\u001B[43m \u001B[49m\u001B[38;5;124;43m'\u001B[39;49m\u001B[38;5;124;43mcom.threesixtyentertainment.nesn\u001B[39;49m\u001B[38;5;124;43m'\u001B[39;49m\u001B[43m,\u001B[49m\u001B[43mcountry\u001B[49m\u001B[38;5;241;43m=\u001B[39;49m\u001B[38;5;124;43m'\u001B[39;49m\u001B[38;5;124;43mfi\u001B[39;49m\u001B[38;5;124;43m'\u001B[39;49m\u001B[43m)\u001B[49m\n\u001B[1;32m     10\u001B[0m emergencyplus_apple  \u001B[38;5;241m=\u001B[39m scrapper\u001B[38;5;241m.\u001B[39mapple_scrapp( app_id \u001B[38;5;241m=\u001B[39m \u001B[38;5;124m'\u001B[39m\u001B[38;5;124m691814685\u001B[39m\u001B[38;5;124m'\u001B[39m,country\u001B[38;5;241m=\u001B[39m\u001B[38;5;124m'\u001B[39m\u001B[38;5;124mfi\u001B[39m\u001B[38;5;124m'\u001B[39m, app_name\u001B[38;5;241m=\u001B[39m\u001B[38;5;124m'\u001B[39m\u001B[38;5;124mEmergency Plus\u001B[39m\u001B[38;5;124m'\u001B[39m)\n",
      "File \u001B[0;32m~/Documents/Studies/Semestr9/NLP/ReviewsAnalysis/scrapper.py:10\u001B[0m, in \u001B[0;36mgoogle_scrapp\u001B[0;34m(app_id, country)\u001B[0m\n\u001B[1;32m      9\u001B[0m \u001B[38;5;28;01mdef\u001B[39;00m \u001B[38;5;21mgoogle_scrapp\u001B[39m(app_id,country):\n\u001B[0;32m---> 10\u001B[0m     google_reviews \u001B[38;5;241m=\u001B[39m \u001B[43mreviews_all\u001B[49m\u001B[43m(\u001B[49m\n\u001B[1;32m     11\u001B[0m \u001B[43m        \u001B[49m\u001B[38;5;28;43mstr\u001B[39;49m\u001B[43m(\u001B[49m\u001B[43mapp_id\u001B[49m\u001B[43m)\u001B[49m\u001B[43m,\u001B[49m\n\u001B[1;32m     12\u001B[0m \u001B[43m        \u001B[49m\u001B[43msleep_milliseconds\u001B[49m\u001B[38;5;241;43m=\u001B[39;49m\u001B[38;5;241;43m0\u001B[39;49m\u001B[43m,\u001B[49m\u001B[43m  \u001B[49m\u001B[38;5;66;43;03m# defaults to 0\u001B[39;49;00m\n\u001B[1;32m     13\u001B[0m \u001B[43m        \u001B[49m\u001B[43mlang\u001B[49m\u001B[38;5;241;43m=\u001B[39;49m\u001B[38;5;124;43m'\u001B[39;49m\u001B[38;5;124;43men\u001B[39;49m\u001B[38;5;124;43m'\u001B[39;49m\u001B[43m,\u001B[49m\u001B[43m  \u001B[49m\u001B[38;5;66;43;03m# defaults to 'en'\u001B[39;49;00m\n\u001B[1;32m     14\u001B[0m \u001B[43m        \u001B[49m\u001B[43mcountry\u001B[49m\u001B[38;5;241;43m=\u001B[39;49m\u001B[38;5;28;43mstr\u001B[39;49m\u001B[43m(\u001B[49m\u001B[43mcountry\u001B[49m\u001B[43m)\u001B[49m\u001B[43m,\u001B[49m\u001B[43m  \u001B[49m\u001B[38;5;66;43;03m# defaults to 'us'\u001B[39;49;00m\n\u001B[1;32m     15\u001B[0m \u001B[43m        \u001B[49m\u001B[43msort\u001B[49m\u001B[38;5;241;43m=\u001B[39;49m\u001B[43mSort\u001B[49m\u001B[38;5;241;43m.\u001B[39;49m\u001B[43mNEWEST\u001B[49m\u001B[43m,\u001B[49m\u001B[43m  \u001B[49m\u001B[38;5;66;43;03m# defaults to Sort.MOST_RELEVANT\u001B[39;49;00m\n\u001B[1;32m     16\u001B[0m \u001B[43m    \u001B[49m\u001B[43m)\u001B[49m\n\u001B[1;32m     17\u001B[0m     google_dataframe \u001B[38;5;241m=\u001B[39m pd\u001B[38;5;241m.\u001B[39mDataFrame(np\u001B[38;5;241m.\u001B[39marray(google_reviews), columns\u001B[38;5;241m=\u001B[39m[\u001B[38;5;124m'\u001B[39m\u001B[38;5;124mreview\u001B[39m\u001B[38;5;124m'\u001B[39m])\n\u001B[1;32m     18\u001B[0m     google_dataframe \u001B[38;5;241m=\u001B[39m google_dataframe\u001B[38;5;241m.\u001B[39mjoin(pd\u001B[38;5;241m.\u001B[39mDataFrame(google_dataframe\u001B[38;5;241m.\u001B[39mpop(\u001B[38;5;124m'\u001B[39m\u001B[38;5;124mreview\u001B[39m\u001B[38;5;124m'\u001B[39m)\u001B[38;5;241m.\u001B[39mtolist()))\n",
      "File \u001B[0;32m~/Documents/Studies/Semestr9/NLP/ReviewsAnalysis/renv/lib/python3.10/site-packages/google_play_scraper/features/reviews.py:129\u001B[0m, in \u001B[0;36mreviews_all\u001B[0;34m(app_id, sleep_milliseconds, **kwargs)\u001B[0m\n\u001B[1;32m    126\u001B[0m result \u001B[38;5;241m=\u001B[39m []\n\u001B[1;32m    128\u001B[0m \u001B[38;5;28;01mwhile\u001B[39;00m \u001B[38;5;28;01mTrue\u001B[39;00m:\n\u001B[0;32m--> 129\u001B[0m     _result, continuation_token \u001B[38;5;241m=\u001B[39m \u001B[43mreviews\u001B[49m\u001B[43m(\u001B[49m\n\u001B[1;32m    130\u001B[0m \u001B[43m        \u001B[49m\u001B[43mapp_id\u001B[49m\u001B[43m,\u001B[49m\n\u001B[1;32m    131\u001B[0m \u001B[43m        \u001B[49m\u001B[43mcount\u001B[49m\u001B[38;5;241;43m=\u001B[39;49m\u001B[43mMAX_COUNT_EACH_FETCH\u001B[49m\u001B[43m,\u001B[49m\n\u001B[1;32m    132\u001B[0m \u001B[43m        \u001B[49m\u001B[43mcontinuation_token\u001B[49m\u001B[38;5;241;43m=\u001B[39;49m\u001B[43mcontinuation_token\u001B[49m\u001B[43m,\u001B[49m\n\u001B[1;32m    133\u001B[0m \u001B[43m        \u001B[49m\u001B[38;5;241;43m*\u001B[39;49m\u001B[38;5;241;43m*\u001B[39;49m\u001B[43mkwargs\u001B[49m\n\u001B[1;32m    134\u001B[0m \u001B[43m    \u001B[49m\u001B[43m)\u001B[49m\n\u001B[1;32m    136\u001B[0m     result \u001B[38;5;241m+\u001B[39m\u001B[38;5;241m=\u001B[39m _result\n\u001B[1;32m    138\u001B[0m     \u001B[38;5;28;01mif\u001B[39;00m continuation_token\u001B[38;5;241m.\u001B[39mtoken \u001B[38;5;129;01mis\u001B[39;00m \u001B[38;5;28;01mNone\u001B[39;00m:\n",
      "File \u001B[0;32m~/Documents/Studies/Semestr9/NLP/ReviewsAnalysis/renv/lib/python3.10/site-packages/google_play_scraper/features/reviews.py:93\u001B[0m, in \u001B[0;36mreviews\u001B[0;34m(app_id, lang, country, sort, count, filter_score_with, continuation_token)\u001B[0m\n\u001B[1;32m     90\u001B[0m     _fetch_count \u001B[38;5;241m=\u001B[39m MAX_COUNT_EACH_FETCH\n\u001B[1;32m     92\u001B[0m \u001B[38;5;28;01mtry\u001B[39;00m:\n\u001B[0;32m---> 93\u001B[0m     review_items, token \u001B[38;5;241m=\u001B[39m \u001B[43m_fetch_review_items\u001B[49m\u001B[43m(\u001B[49m\n\u001B[1;32m     94\u001B[0m \u001B[43m        \u001B[49m\u001B[43murl\u001B[49m\u001B[43m,\u001B[49m\u001B[43m \u001B[49m\u001B[43mapp_id\u001B[49m\u001B[43m,\u001B[49m\u001B[43m \u001B[49m\u001B[43msort\u001B[49m\u001B[43m,\u001B[49m\u001B[43m \u001B[49m\u001B[43m_fetch_count\u001B[49m\u001B[43m,\u001B[49m\u001B[43m \u001B[49m\u001B[43mfilter_score_with\u001B[49m\u001B[43m,\u001B[49m\u001B[43m \u001B[49m\u001B[43mtoken\u001B[49m\n\u001B[1;32m     95\u001B[0m \u001B[43m    \u001B[49m\u001B[43m)\u001B[49m\n\u001B[1;32m     96\u001B[0m \u001B[38;5;28;01mexcept\u001B[39;00m (\u001B[38;5;167;01mTypeError\u001B[39;00m, \u001B[38;5;167;01mIndexError\u001B[39;00m):\n\u001B[1;32m     97\u001B[0m     token \u001B[38;5;241m=\u001B[39m \u001B[38;5;28;01mNone\u001B[39;00m\n",
      "File \u001B[0;32m~/Documents/Studies/Semestr9/NLP/ReviewsAnalysis/renv/lib/python3.10/site-packages/google_play_scraper/features/reviews.py:36\u001B[0m, in \u001B[0;36m_fetch_review_items\u001B[0;34m(url, app_id, sort, count, filter_score_with, pagination_token)\u001B[0m\n\u001B[1;32m     28\u001B[0m \u001B[38;5;28;01mdef\u001B[39;00m \u001B[38;5;21m_fetch_review_items\u001B[39m(\n\u001B[1;32m     29\u001B[0m     url: \u001B[38;5;28mstr\u001B[39m,\n\u001B[1;32m     30\u001B[0m     app_id: \u001B[38;5;28mstr\u001B[39m,\n\u001B[0;32m   (...)\u001B[0m\n\u001B[1;32m     34\u001B[0m     pagination_token: Optional[\u001B[38;5;28mstr\u001B[39m],\n\u001B[1;32m     35\u001B[0m ):\n\u001B[0;32m---> 36\u001B[0m     dom \u001B[38;5;241m=\u001B[39m \u001B[43mpost\u001B[49m\u001B[43m(\u001B[49m\n\u001B[1;32m     37\u001B[0m \u001B[43m        \u001B[49m\u001B[43murl\u001B[49m\u001B[43m,\u001B[49m\n\u001B[1;32m     38\u001B[0m \u001B[43m        \u001B[49m\u001B[43mFormats\u001B[49m\u001B[38;5;241;43m.\u001B[39;49m\u001B[43mReviews\u001B[49m\u001B[38;5;241;43m.\u001B[39;49m\u001B[43mbuild_body\u001B[49m\u001B[43m(\u001B[49m\n\u001B[1;32m     39\u001B[0m \u001B[43m            \u001B[49m\u001B[43mapp_id\u001B[49m\u001B[43m,\u001B[49m\n\u001B[1;32m     40\u001B[0m \u001B[43m            \u001B[49m\u001B[43msort\u001B[49m\u001B[43m,\u001B[49m\n\u001B[1;32m     41\u001B[0m \u001B[43m            \u001B[49m\u001B[43mcount\u001B[49m\u001B[43m,\u001B[49m\n\u001B[1;32m     42\u001B[0m \u001B[43m            \u001B[49m\u001B[38;5;124;43m\"\u001B[39;49m\u001B[38;5;124;43mnull\u001B[39;49m\u001B[38;5;124;43m\"\u001B[39;49m\u001B[43m \u001B[49m\u001B[38;5;28;43;01mif\u001B[39;49;00m\u001B[43m \u001B[49m\u001B[43mfilter_score_with\u001B[49m\u001B[43m \u001B[49m\u001B[38;5;129;43;01mis\u001B[39;49;00m\u001B[43m \u001B[49m\u001B[38;5;28;43;01mNone\u001B[39;49;00m\u001B[43m \u001B[49m\u001B[38;5;28;43;01melse\u001B[39;49;00m\u001B[43m \u001B[49m\u001B[43mfilter_score_with\u001B[49m\u001B[43m,\u001B[49m\n\u001B[1;32m     43\u001B[0m \u001B[43m            \u001B[49m\u001B[43mpagination_token\u001B[49m\u001B[43m,\u001B[49m\n\u001B[1;32m     44\u001B[0m \u001B[43m        \u001B[49m\u001B[43m)\u001B[49m\u001B[43m,\u001B[49m\n\u001B[1;32m     45\u001B[0m \u001B[43m        \u001B[49m\u001B[43m{\u001B[49m\u001B[38;5;124;43m\"\u001B[39;49m\u001B[38;5;124;43mcontent-type\u001B[39;49m\u001B[38;5;124;43m\"\u001B[39;49m\u001B[43m:\u001B[49m\u001B[43m \u001B[49m\u001B[38;5;124;43m\"\u001B[39;49m\u001B[38;5;124;43mapplication/x-www-form-urlencoded\u001B[39;49m\u001B[38;5;124;43m\"\u001B[39;49m\u001B[43m}\u001B[49m\u001B[43m,\u001B[49m\n\u001B[1;32m     46\u001B[0m \u001B[43m    \u001B[49m\u001B[43m)\u001B[49m\n\u001B[1;32m     48\u001B[0m     match \u001B[38;5;241m=\u001B[39m json\u001B[38;5;241m.\u001B[39mloads(Regex\u001B[38;5;241m.\u001B[39mREVIEWS\u001B[38;5;241m.\u001B[39mfindall(dom)[\u001B[38;5;241m0\u001B[39m])\n\u001B[1;32m     50\u001B[0m     \u001B[38;5;28;01mreturn\u001B[39;00m json\u001B[38;5;241m.\u001B[39mloads(match[\u001B[38;5;241m0\u001B[39m][\u001B[38;5;241m2\u001B[39m])[\u001B[38;5;241m0\u001B[39m], json\u001B[38;5;241m.\u001B[39mloads(match[\u001B[38;5;241m0\u001B[39m][\u001B[38;5;241m2\u001B[39m])[\u001B[38;5;241m-\u001B[39m\u001B[38;5;241m1\u001B[39m][\u001B[38;5;241m-\u001B[39m\u001B[38;5;241m1\u001B[39m]\n",
      "File \u001B[0;32m~/Documents/Studies/Semestr9/NLP/ReviewsAnalysis/renv/lib/python3.10/site-packages/google_play_scraper/utils/request.py:24\u001B[0m, in \u001B[0;36mpost\u001B[0;34m(url, data, headers)\u001B[0m\n\u001B[1;32m     23\u001B[0m \u001B[38;5;28;01mdef\u001B[39;00m \u001B[38;5;21mpost\u001B[39m(url: \u001B[38;5;28mstr\u001B[39m, data: Union[\u001B[38;5;28mstr\u001B[39m, \u001B[38;5;28mbytes\u001B[39m], headers: \u001B[38;5;28mdict\u001B[39m) \u001B[38;5;241m-\u001B[39m\u001B[38;5;241m>\u001B[39m \u001B[38;5;28mstr\u001B[39m:\n\u001B[0;32m---> 24\u001B[0m     \u001B[38;5;28;01mreturn\u001B[39;00m \u001B[43m_urlopen\u001B[49m\u001B[43m(\u001B[49m\u001B[43mRequest\u001B[49m\u001B[43m(\u001B[49m\u001B[43murl\u001B[49m\u001B[43m,\u001B[49m\u001B[43m \u001B[49m\u001B[43mdata\u001B[49m\u001B[38;5;241;43m=\u001B[39;49m\u001B[43mdata\u001B[49m\u001B[43m,\u001B[49m\u001B[43m \u001B[49m\u001B[43mheaders\u001B[49m\u001B[38;5;241;43m=\u001B[39;49m\u001B[43mheaders\u001B[49m\u001B[43m)\u001B[49m\u001B[43m)\u001B[49m\n",
      "File \u001B[0;32m~/Documents/Studies/Semestr9/NLP/ReviewsAnalysis/renv/lib/python3.10/site-packages/google_play_scraper/utils/request.py:20\u001B[0m, in \u001B[0;36m_urlopen\u001B[0;34m(obj)\u001B[0m\n\u001B[1;32m     15\u001B[0m     \u001B[38;5;28;01melse\u001B[39;00m:\n\u001B[1;32m     16\u001B[0m         \u001B[38;5;28;01mraise\u001B[39;00m ExtraHTTPError(\n\u001B[1;32m     17\u001B[0m             \u001B[38;5;124m\"\u001B[39m\u001B[38;5;124mApp not found. Status code \u001B[39m\u001B[38;5;132;01m{}\u001B[39;00m\u001B[38;5;124m returned.\u001B[39m\u001B[38;5;124m\"\u001B[39m\u001B[38;5;241m.\u001B[39mformat(e\u001B[38;5;241m.\u001B[39mcode)\n\u001B[1;32m     18\u001B[0m         )\n\u001B[0;32m---> 20\u001B[0m \u001B[38;5;28;01mreturn\u001B[39;00m \u001B[43mresp\u001B[49m\u001B[38;5;241;43m.\u001B[39;49m\u001B[43mread\u001B[49m\u001B[43m(\u001B[49m\u001B[43m)\u001B[49m\u001B[38;5;241m.\u001B[39mdecode(\u001B[38;5;124m\"\u001B[39m\u001B[38;5;124mUTF-8\u001B[39m\u001B[38;5;124m\"\u001B[39m)\n",
      "File \u001B[0;32m/usr/lib/python3.10/http/client.py:459\u001B[0m, in \u001B[0;36mHTTPResponse.read\u001B[0;34m(self, amt)\u001B[0m\n\u001B[1;32m    456\u001B[0m     \u001B[38;5;28;01mreturn\u001B[39;00m \u001B[38;5;124mb\u001B[39m\u001B[38;5;124m\"\u001B[39m\u001B[38;5;124m\"\u001B[39m\n\u001B[1;32m    458\u001B[0m \u001B[38;5;28;01mif\u001B[39;00m \u001B[38;5;28mself\u001B[39m\u001B[38;5;241m.\u001B[39mchunked:\n\u001B[0;32m--> 459\u001B[0m     \u001B[38;5;28;01mreturn\u001B[39;00m \u001B[38;5;28;43mself\u001B[39;49m\u001B[38;5;241;43m.\u001B[39;49m\u001B[43m_read_chunked\u001B[49m\u001B[43m(\u001B[49m\u001B[43mamt\u001B[49m\u001B[43m)\u001B[49m\n\u001B[1;32m    461\u001B[0m \u001B[38;5;28;01mif\u001B[39;00m amt \u001B[38;5;129;01mis\u001B[39;00m \u001B[38;5;129;01mnot\u001B[39;00m \u001B[38;5;28;01mNone\u001B[39;00m:\n\u001B[1;32m    462\u001B[0m     \u001B[38;5;28;01mif\u001B[39;00m \u001B[38;5;28mself\u001B[39m\u001B[38;5;241m.\u001B[39mlength \u001B[38;5;129;01mis\u001B[39;00m \u001B[38;5;129;01mnot\u001B[39;00m \u001B[38;5;28;01mNone\u001B[39;00m \u001B[38;5;129;01mand\u001B[39;00m amt \u001B[38;5;241m>\u001B[39m \u001B[38;5;28mself\u001B[39m\u001B[38;5;241m.\u001B[39mlength:\n\u001B[1;32m    463\u001B[0m         \u001B[38;5;66;03m# clip the read to the \"end of response\"\u001B[39;00m\n",
      "File \u001B[0;32m/usr/lib/python3.10/http/client.py:597\u001B[0m, in \u001B[0;36mHTTPResponse._read_chunked\u001B[0;34m(self, amt)\u001B[0m\n\u001B[1;32m    595\u001B[0m     \u001B[38;5;28;01mreturn\u001B[39;00m \u001B[38;5;124mb\u001B[39m\u001B[38;5;124m'\u001B[39m\u001B[38;5;124m'\u001B[39m\u001B[38;5;241m.\u001B[39mjoin(value)\n\u001B[1;32m    596\u001B[0m \u001B[38;5;28;01mexcept\u001B[39;00m IncompleteRead:\n\u001B[0;32m--> 597\u001B[0m     \u001B[38;5;28;01mraise\u001B[39;00m IncompleteRead(\u001B[38;5;124mb\u001B[39m\u001B[38;5;124m'\u001B[39m\u001B[38;5;124m'\u001B[39m\u001B[38;5;241m.\u001B[39mjoin(value))\n",
      "\u001B[0;31mIncompleteRead\u001B[0m: IncompleteRead(0 bytes read)"
     ]
    }
   ],
   "source": [
    "import scrapper\n",
    "importlib.reload(scrapper)\n",
    "\n",
    "#Scrapp data:\n",
    "#TODO: I am experiancind some strange errors when trying to scroa the data - timeouts??\n",
    "time.sleep(10)\n",
    "oneonetwo_google = scrapper.google_scrapp(app_id = 'fi.digia.suomi112',country='fi')\n",
    "oneonetwo_apple  = scrapper.apple_scrapp( app_id = '998281396',country='fi', app_name='112 Suomi', how_many=1000)\n",
    "time.sleep(10)\n",
    "emergencyplus_google = scrapper.google_scrapp(app_id = 'com.threesixtyentertainment.nesn',country='fi')\n",
    "emergencyplus_apple  = scrapper.apple_scrapp( app_id = '691814685',country='fi', app_name='Emergency Plus', how_many=1000)"
   ],
   "metadata": {
    "collapsed": false,
    "pycharm": {
     "name": "#%%\n"
    }
   }
  },
  {
   "cell_type": "code",
   "execution_count": 4,
   "outputs": [
    {
     "ename": "NameError",
     "evalue": "name 'oneonetwo_google' is not defined",
     "output_type": "error",
     "traceback": [
      "\u001B[0;31m---------------------------------------------------------------------------\u001B[0m",
      "\u001B[0;31mNameError\u001B[0m                                 Traceback (most recent call last)",
      "Cell \u001B[0;32mIn [4], line 6\u001B[0m\n\u001B[1;32m      3\u001B[0m importlib\u001B[38;5;241m.\u001B[39mreload(scrapper)\n\u001B[1;32m      5\u001B[0m trans \u001B[38;5;241m=\u001B[39m scrapper\u001B[38;5;241m.\u001B[39mTranslator(\u001B[38;5;124m'\u001B[39m\u001B[38;5;124mcuda\u001B[39m\u001B[38;5;124m'\u001B[39m)\n\u001B[0;32m----> 6\u001B[0m oneonetwo_google_eng \u001B[38;5;241m=\u001B[39m trans\u001B[38;5;241m.\u001B[39mtranslate(\u001B[43moneonetwo_google\u001B[49m)\n\u001B[1;32m      7\u001B[0m \u001B[38;5;28mprint\u001B[39m(\u001B[38;5;124m\"\u001B[39m\u001B[38;5;124mTranslation Done\u001B[39m\u001B[38;5;124m\"\u001B[39m)\n",
      "\u001B[0;31mNameError\u001B[0m: name 'oneonetwo_google' is not defined"
     ]
    }
   ],
   "source": [
    "#Translate the data :\n",
    "# #TODO: STILL translation does not work properly - (the transation is not complete - maby also translate from swedish?)\n",
    "# Also all emoticons are sadly lost during this process\n",
    "import scrapper\n",
    "importlib.reload(scrapper)\n",
    "\n",
    "trans = scrapper.Translator('cuda')\n",
    "oneonetwo_google_eng = trans.translate(oneonetwo_google)\n",
    "print(\"Translation Done\")\n"
   ],
   "metadata": {
    "collapsed": false,
    "pycharm": {
     "name": "#%%\n"
    }
   }
  },
  {
   "cell_type": "code",
   "execution_count": null,
   "outputs": [],
   "source": [
    "#Need to preprocess the data\n",
    "# #TODO preprosess using that liblary ...."
   ],
   "metadata": {
    "collapsed": false,
    "pycharm": {
     "name": "#%%\n"
    }
   }
  },
  {
   "cell_type": "code",
   "execution_count": 1,
   "outputs": [
    {
     "ename": "NameError",
     "evalue": "name 'oneonetwo_google_eng' is not defined",
     "output_type": "error",
     "traceback": [
      "\u001B[0;31m---------------------------------------------------------------------------\u001B[0m",
      "\u001B[0;31mNameError\u001B[0m                                 Traceback (most recent call last)",
      "Cell \u001B[0;32mIn [1], line 2\u001B[0m\n\u001B[1;32m      1\u001B[0m \u001B[38;5;66;03m#Save the data to the csv\u001B[39;00m\n\u001B[0;32m----> 2\u001B[0m \u001B[43moneonetwo_google_eng\u001B[49m\u001B[38;5;241m.\u001B[39mto_csv(\u001B[38;5;124mr\u001B[39m\u001B[38;5;124m\"\u001B[39m\u001B[38;5;124mSuomi112.csv\u001B[39m\u001B[38;5;124m\"\u001B[39m, encoding\u001B[38;5;241m=\u001B[39m\u001B[38;5;124m'\u001B[39m\u001B[38;5;124mutf-8-sig\u001B[39m\u001B[38;5;124m'\u001B[39m)\n",
      "\u001B[0;31mNameError\u001B[0m: name 'oneonetwo_google_eng' is not defined"
     ]
    }
   ],
   "source": [
    "#Save the data to the csv\n",
    "oneonetwo_google_eng.to_csv(r\"Suomi112.csv\", encoding='utf-8-sig')"
   ],
   "metadata": {
    "collapsed": false,
    "pycharm": {
     "name": "#%%\n"
    }
   }
  },
  {
   "cell_type": "code",
   "execution_count": null,
   "outputs": [],
   "source": [
    "##################################################TEST_KOMORKI#######################################################BELLOW#################"
   ],
   "metadata": {
    "collapsed": false,
    "pycharm": {
     "name": "#%%\n"
    }
   }
  },
  {
   "cell_type": "code",
   "execution_count": null,
   "outputs": [],
   "source": [
    "\n",
    "#com.emc.emergency\n",
    "#com.threesixtyentertainment.nesn\n",
    "'''result = app(\n",
    "    'fi.digia.suomi112',\n",
    "    lang='en', # defaults to 'en'\n",
    "    country='us' # defaults to 'us'\n",
    ")\n",
    "print(result)\n",
    "'''\n",
    "from easynmt import EasyNMT\n",
    "from easynmt import EasyNMT\n",
    "\n",
    "model_fi = EasyNMT(\"opus-mt\")\n",
    "model_sw = EasyNMT('mbart50_m2m')\n",
    "from google_play_scraper import Sort, reviews_all\n",
    "\n",
    "googlePlay_suomi112_reviews = reviews_all(\n",
    "    'fi.digia.suomi112',\n",
    "    sleep_milliseconds=0, # defaults to 0\n",
    "    lang='en', # defaults to 'en'\n",
    "    country='fi', # defaults to 'us'\n",
    "    sort=Sort.NEWEST, # defaults to Sort.MOST_RELEVANT\n",
    ")\n",
    "googlePlay_suomi112_dataframe = pd.DataFrame(np.array(googlePlay_suomi112_reviews), columns=['review'])\n",
    "\n",
    "\n",
    "googlePlay_suomi112_dataframe = googlePlay_suomi112_dataframe.join(pd.DataFrame(googlePlay_suomi112_dataframe.pop('review').tolist()))\n",
    "\n",
    "googlePlay_suomi112_dataframe.drop(['userImage', 'repliedAt', 'replyContent'], axis=1, inplace=True)\n",
    "\n",
    "googlePlay_suomi112_dataframe['translatedContent'] = googlePlay_suomi112_dataframe['content'].apply(lambda x: model.translate(x, target_lang=\"en\").text)\n",
    "\n",
    "googlePlay_suomi112_dataframe.to_csv(r\"C:\\Users\\yanns\\OneDrive\\Bureau\\googlePlaySuomi.csv\", encoding='utf-8-sig')\n",
    "\n",
    "#print(googlePlay_suomi112_reviews)"
   ],
   "metadata": {
    "collapsed": false,
    "pycharm": {
     "name": "#%%\n"
    }
   }
  },
  {
   "cell_type": "code",
   "execution_count": null,
   "outputs": [],
   "source": [
    "\n",
    "appStore_suomi112 = AppStore(country='fi', app_name='112 Suomi', app_id = '998281396')\n",
    "appStore_suomi112.review(how_many=100)\n",
    "\n",
    "appStore_suomi112_dataframe = pd.DataFrame(np.array(appStore_suomi112.reviews),columns=['review'])\n",
    "\n",
    "review_dataframe.to_csv(\"Suomi.csv\",encoding='utf-8-sig')\n",
    "\n",
    "appStore_suomi112_dataframe.to_csv(r\"C:\\Users\\yanns\\OneDrive\\Bureau\\appStoreSuomi.csv\", encoding='utf-8-sig')"
   ],
   "metadata": {
    "collapsed": false,
    "pycharm": {
     "name": "#%%\n"
    }
   }
  },
  {
   "cell_type": "code",
   "execution_count": null,
   "outputs": [],
   "source": [
    "\n",
    "os.environ[\"CUDA_VISIBLE_DEVICES\"]=\"\"\n",
    "\n",
    "#Translate a single sentence to German\n",
    "print(model.translate('This is a sentence we want to translate to German', target_lang='de'))\n",
    "\n"
   ],
   "metadata": {
    "collapsed": false,
    "pycharm": {
     "name": "#%%\n"
    }
   }
  },
  {
   "cell_type": "code",
   "execution_count": 20,
   "outputs": [
    {
     "name": "stdout",
     "output_type": "stream",
     "text": [
      "['You can define the list in sentences.', 'All sentences will be translated into your target language.', 'Note that you can also mix phrases with languages.']\n"
     ]
    }
   ],
   "source": [
    "#Translate several sentences to German\n",
    "sentences = ['Voit määritellä listan lauseilla.', 'Kaikki lauseet käännetään kohdekielellesi.', 'Huomaa, että voit myös sekoittaa lauseiden kieliä.']\n",
    "print(model.translate(sentences, target_lang='en',max_length=512))"
   ],
   "metadata": {
    "collapsed": false,
    "pycharm": {
     "name": "#%%\n"
    }
   }
  },
  {
   "cell_type": "code",
   "execution_count": null,
   "outputs": [],
   "source": [],
   "metadata": {
    "collapsed": false,
    "pycharm": {
     "name": "#%%\n"
    }
   }
  },
  {
   "cell_type": "code",
   "execution_count": null,
   "outputs": [],
   "source": [
    "#Translate several sentences to German\n",
    "sentences = ['Voit määritellä listan lauseilla.', 'Kaikki lauseet käännetään kohdekielellesi.', 'Huomaa, että voit myös sekoittaa lauseiden kieliä.']\n",
    "print(model.translate(sentences, target_lang='en'))"
   ],
   "metadata": {
    "collapsed": false,
    "pycharm": {
     "name": "#%%\n"
    }
   }
  }
 ],
 "metadata": {
  "kernelspec": {
   "display_name": "Python 3",
   "language": "python",
   "name": "python3"
  },
  "language_info": {
   "codemirror_mode": {
    "name": "ipython",
    "version": 2
   },
   "file_extension": ".py",
   "mimetype": "text/x-python",
   "name": "python",
   "nbconvert_exporter": "python",
   "pygments_lexer": "ipython2",
   "version": "2.7.6"
  }
 },
 "nbformat": 4,
 "nbformat_minor": 0
}