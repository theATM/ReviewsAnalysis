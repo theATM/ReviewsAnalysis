{
 "cells": [
  {
   "cell_type": "code",
   "execution_count": 3,
   "metadata": {
    "collapsed": true,
    "pycharm": {
     "name": "#%%\n"
    }
   },
   "outputs": [],
   "source": [
    "from google_play_scraper import app\n",
    "from app_store_scraper import AppStore\n",
    "\n",
    "import pandas as pd\n",
    "import numpy as np\n",
    "import json"
   ]
  },
  {
   "cell_type": "code",
   "execution_count": 4,
   "outputs": [
    {
     "ename": "ModuleNotFoundError",
     "evalue": "No module named 'easynmt'",
     "output_type": "error",
     "traceback": [
      "\u001B[1;31m---------------------------------------------------------------------------\u001B[0m",
      "\u001B[1;31mModuleNotFoundError\u001B[0m                       Traceback (most recent call last)",
      "Cell \u001B[1;32mIn [4], line 10\u001B[0m\n\u001B[0;32m      1\u001B[0m \u001B[38;5;66;03m#com.emc.emergency\u001B[39;00m\n\u001B[0;32m      2\u001B[0m \u001B[38;5;66;03m#com.threesixtyentertainment.nesn\u001B[39;00m\n\u001B[0;32m      3\u001B[0m \u001B[38;5;124;03m'''result = app(\u001B[39;00m\n\u001B[0;32m      4\u001B[0m \u001B[38;5;124;03m    'fi.digia.suomi112',\u001B[39;00m\n\u001B[0;32m      5\u001B[0m \u001B[38;5;124;03m    lang='en', # defaults to 'en'\u001B[39;00m\n\u001B[1;32m   (...)\u001B[0m\n\u001B[0;32m      8\u001B[0m \u001B[38;5;124;03mprint(result)\u001B[39;00m\n\u001B[0;32m      9\u001B[0m \u001B[38;5;124;03m'''\u001B[39;00m\n\u001B[1;32m---> 10\u001B[0m \u001B[38;5;28;01mfrom\u001B[39;00m \u001B[38;5;21;01measynmt\u001B[39;00m \u001B[38;5;28;01mimport\u001B[39;00m EasyNMT\n\u001B[0;32m     11\u001B[0m model \u001B[38;5;241m=\u001B[39m EasyNMT(\u001B[38;5;124m\"\u001B[39m\u001B[38;5;124mopus-mt\u001B[39m\u001B[38;5;124m\"\u001B[39m)\n\u001B[0;32m     13\u001B[0m \u001B[38;5;28;01mfrom\u001B[39;00m \u001B[38;5;21;01mgoogle_play_scraper\u001B[39;00m \u001B[38;5;28;01mimport\u001B[39;00m Sort, reviews_all\n",
      "\u001B[1;31mModuleNotFoundError\u001B[0m: No module named 'easynmt'"
     ]
    }
   ],
   "source": [
    "\n",
    "#com.emc.emergency\n",
    "#com.threesixtyentertainment.nesn\n",
    "'''result = app(\n",
    "    'fi.digia.suomi112',\n",
    "    lang='en', # defaults to 'en'\n",
    "    country='us' # defaults to 'us'\n",
    ")\n",
    "print(result)\n",
    "'''\n",
    "from easynmt import EasyNMT\n",
    "model = EasyNMT(\"opus-mt\")\n",
    "\n",
    "from google_play_scraper import Sort, reviews_all\n",
    "\n",
    "googlePlay_suomi112_reviews = reviews_all(\n",
    "    'fi.digia.suomi112',\n",
    "    sleep_milliseconds=0, # defaults to 0\n",
    "    lang='en', # defaults to 'en'\n",
    "    country='fi', # defaults to 'us'\n",
    "    sort=Sort.NEWEST, # defaults to Sort.MOST_RELEVANT\n",
    ")\n",
    "googlePlay_suomi112_dataframe = pd.DataFrame(np.array(googlePlay_suomi112_reviews), columns=['review'])\n",
    "\n",
    "\n",
    "googlePlay_suomi112_dataframe = googlePlay_suomi112_dataframe.join(pd.DataFrame(googlePlay_suomi112_dataframe.pop('review').tolist()))\n",
    "\n",
    "googlePlay_suomi112_dataframe.drop(['userImage', 'repliedAt', 'replyContent'], axis=1, inplace=True)\n",
    "\n",
    "googlePlay_suomi112_dataframe['translatedContent'] = googlePlay_suomi112_dataframe['content'].apply(lambda x: model.translate(x, target_lang=\"en\").text)\n",
    "\n",
    "googlePlay_suomi112_dataframe.to_csv(r\"C:\\Users\\yanns\\OneDrive\\Bureau\\googlePlaySuomi.csv\", encoding='utf-8-sig')\n",
    "\n",
    "#print(googlePlay_suomi112_reviews)"
   ],
   "metadata": {
    "collapsed": false,
    "pycharm": {
     "name": "#%%\n"
    }
   }
  },
  {
   "cell_type": "code",
   "execution_count": 5,
   "outputs": [
    {
     "name": "stderr",
     "output_type": "stream",
     "text": [
      "2022-10-17 18:47:29,904 [INFO] Base - Initialised: AppStore('fi', '112-suomi', 998281396)\n",
      "2022-10-17 18:47:29,908 [INFO] Base - Ready to fetch reviews from: https://apps.apple.com/fi/app/112-suomi/id998281396\n",
      "2022-10-17 18:47:31,452 [INFO] Base - [id:998281396] Fetched 100 reviews (100 fetched in total)\n"
     ]
    }
   ],
   "source": [
    "\n",
    "appStore_suomi112 = AppStore(country='fi', app_name='112 Suomi', app_id = '998281396')\n",
    "appStore_suomi112.review(how_many=100)\n",
    "\n",
    "appStore_suomi112_dataframe = pd.DataFrame(np.array(appStore_suomi112.reviews),columns=['review'])\n",
    "\n",
    "appStore_suomi112_dataframe = appStore_suomi112_dataframe.join(pd.DataFrame(appStore_suomi112_dataframe.pop('review').tolist()))\n",
    "\n",
    "appStore_suomi112_dataframe.to_csv(r\"C:\\Users\\yanns\\OneDrive\\Bureau\\appStoreSuomi.csv\", encoding='utf-8-sig')"
   ],
   "metadata": {
    "collapsed": false,
    "pycharm": {
     "name": "#%%\n"
    }
   }
  },
  {
   "cell_type": "code",
   "execution_count": null,
   "outputs": [],
   "source": [],
   "metadata": {
    "collapsed": false,
    "pycharm": {
     "name": "#%%\n"
    }
   }
  }
 ],
 "metadata": {
  "kernelspec": {
   "display_name": "Python 3",
   "language": "python",
   "name": "python3"
  },
  "language_info": {
   "codemirror_mode": {
    "name": "ipython",
    "version": 2
   },
   "file_extension": ".py",
   "mimetype": "text/x-python",
   "name": "python",
   "nbconvert_exporter": "python",
   "pygments_lexer": "ipython2",
   "version": "2.7.6"
  }
 },
 "nbformat": 4,
 "nbformat_minor": 0
}