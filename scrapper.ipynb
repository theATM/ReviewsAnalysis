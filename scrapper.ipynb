{
 "cells": [
  {
   "cell_type": "code",
   "execution_count": null,
   "outputs": [],
   "source": [
    "from google_play_scraper import app\n",
    "from app_store_scraper import AppStore\n",
    "import os\n",
    "import pandas as pd\n",
    "import numpy as np\n",
    "import sys\n",
    "import importlib\n",
    "import json\n",
    "import time\n",
    "import scrapper\n",
    "import sentimentAnalysis"
   ],
   "metadata": {
    "collapsed": false,
    "pycharm": {
     "name": "#%%\n"
    }
   }
  },
  {
   "cell_type": "markdown",
   "source": [
    "#Scrap data:\n",
    "#TODO: I am experiencing some strange errors when trying to scrap the data - timeouts??\n",
    "# Increased sleep value seems to make it better + VPN switching"
   ],
   "metadata": {
    "collapsed": false,
    "pycharm": {
     "name": "#%% md\n"
    }
   }
  },
  {
   "cell_type": "code",
   "execution_count": null,
   "outputs": [],
   "source": [
    "# Suomi 112\n",
    "import scrapper\n",
    "importlib.reload(scrapper)\n",
    "oneonetwo_google = scrapper.google_scrapp(app_id = 'fi.digia.suomi112',country='fi',language='fi',amount=1000)\n",
    "oneonetwo_google = oneonetwo_google.append(scrapper.google_scrapp(app_id = 'fi.digia.suomi112',country='fi',language='en',amount=1000))\n",
    "oneonetwo_apple  = scrapper.apple_scrapp( app_id = '998281396',country='fi', app_name='112 Suomi', how_many=1000)\n"
   ],
   "metadata": {
    "collapsed": false,
    "pycharm": {
     "name": "#%%\n"
    }
   }
  },
  {
   "cell_type": "code",
   "execution_count": null,
   "outputs": [],
   "source": [
    "oneonetwo = pd.concat([oneonetwo_apple, oneonetwo_google])\n",
    "oneonetwo.sort_values(['at'], inplace=True, ignore_index=True)\n",
    "oneonetwo.to_csv(\"data\"+os.sep+\"part\"+os.sep+\"Suomi112_org.csv\", encoding='utf-8-sig')"
   ],
   "metadata": {
    "collapsed": false,
    "pycharm": {
     "name": "#%%\n"
    }
   }
  },
  {
   "cell_type": "code",
   "execution_count": null,
   "outputs": [],
   "source": [
    "oneonetwo = pd.read_csv(\"data\"+os.sep+\"part\"+os.sep+\"Suomi112_org.csv\", encoding='utf-8-sig')"
   ],
   "metadata": {
    "collapsed": false,
    "pycharm": {
     "name": "#%%\n"
    }
   }
  },
  {
   "cell_type": "markdown",
   "source": [
    "# TODO: Clean CODE"
   ],
   "metadata": {
    "collapsed": false,
    "pycharm": {
     "name": "#%% md\n"
    }
   }
  },
  {
   "cell_type": "code",
   "execution_count": null,
   "outputs": [],
   "source": [
    "# Sos Live\n",
    "import scrapper\n",
    "importlib.reload(scrapper)\n",
    "sos_live_google = scrapper.google_scrapp(app_id = 'se.sos.soslive',country='se',language='se',amount=1000)\n",
    "sos_live_apple  = scrapper.apple_scrapp( app_id = '1458725539',country='se', app_name='SOS Alarm', how_many=1000)\n"
   ],
   "metadata": {
    "collapsed": false,
    "pycharm": {
     "name": "#%%\n"
    }
   }
  },
  {
   "cell_type": "code",
   "execution_count": null,
   "outputs": [],
   "source": [
    "sos_live = pd.concat([sos_live_apple, sos_live_google])\n",
    "sos_live.sort_values(['at'], inplace=True, ignore_index=True)\n",
    "\n",
    "sos_live.to_csv(\"data\"+os.sep+\"part\"+os.sep+\"SosLive_org.csv\", encoding='utf-8-sig')"
   ],
   "metadata": {
    "collapsed": false,
    "pycharm": {
     "name": "#%%\n"
    }
   }
  },
  {
   "cell_type": "markdown",
   "source": [
    "Translate the data\n",
    "# TODO: Are all emoticons are lost during this process?"
   ],
   "metadata": {
    "collapsed": false,
    "pycharm": {
     "name": "#%% md\n"
    }
   }
  },
  {
   "cell_type": "code",
   "execution_count": null,
   "outputs": [],
   "source": [
    "#Load data if needed:\n",
    "\n",
    "oneonetwo = pd.read_csv(\"data\"+os.sep+\"part\"+os.sep+\"Suomi112_org.csv\", encoding='utf-8-sig')\n",
    "sos_live = pd.read_csv(\"data\"+os.sep+\"part\"+os.sep+\"SosLive_org.csv\", encoding='utf-8-sig')"
   ],
   "metadata": {
    "collapsed": false,
    "pycharm": {
     "name": "#%%\n"
    }
   }
  },
  {
   "cell_type": "code",
   "execution_count": null,
   "outputs": [],
   "source": [
    "#Translate the data : - Better do it twice (if there are 2 languages in a sentence)\n",
    "import scrapper\n",
    "importlib.reload(scrapper)\n",
    "trans = scrapper.GoogleTranslator()\n",
    "\n",
    "oneonetwo= trans.translate(oneonetwo)\n",
    "print(\"Translation Done\")"
   ],
   "metadata": {
    "collapsed": false,
    "pycharm": {
     "name": "#%%\n"
    }
   }
  },
  {
   "cell_type": "code",
   "execution_count": null,
   "outputs": [],
   "source": [
    "import scrapper\n",
    "importlib.reload(scrapper)\n",
    "trans = scrapper.GoogleTranslator()\n",
    "sos_live = trans.translate(sos_live)\n",
    "print(\"Translation Done\")"
   ],
   "metadata": {
    "collapsed": false,
    "pycharm": {
     "name": "#%%\n"
    }
   }
  },
  {
   "cell_type": "code",
   "execution_count": null,
   "outputs": [],
   "source": [
    "#Save translated data to the files\n",
    "\n",
    "oneonetwo.to_csv(\"data\"+os.sep+\"part\"+os.sep+\"Suomi112_eng.csv\", encoding='utf-8-sig')\n",
    "sos_live.to_csv(\"data\"+os.sep+\"part\"+os.sep+\"SosLive_eng.csv\", encoding='utf-8-sig')\n",
    "print(\"Files Saved\")"
   ],
   "metadata": {
    "collapsed": false,
    "pycharm": {
     "name": "#%%\n"
    }
   }
  },
  {
   "cell_type": "markdown",
   "source": [
    "# TODO: Sentiment Analysis + Graph"
   ],
   "metadata": {
    "collapsed": false,
    "pycharm": {
     "name": "#%% md\n"
    }
   }
  },
  {
   "cell_type": "code",
   "execution_count": null,
   "outputs": [],
   "source": [
    "#Need to preprocess the data\n",
    "# #TODO preprocess using that library ....\n",
    "#Load data if needed:\n",
    "\n",
    "oneonetwo = pd.read_csv(\"data\"+os.sep+\"part\"+os.sep+\"Suomi112_eng.csv\", encoding='utf-8-sig')\n",
    "sos_live = pd.read_csv(\"data\"+os.sep+\"part\"+os.sep+\"SosLive_eng.csv\", encoding='utf-8-sig')\n",
    "print(\"Original Data Loaded\")"
   ],
   "metadata": {
    "collapsed": false,
    "pycharm": {
     "name": "#%%\n"
    }
   }
  },
  {
   "cell_type": "code",
   "execution_count": null,
   "outputs": [],
   "source": [
    "\n",
    "sentimentAnalysis.compound_score(oneonetwo)\n",
    "sentimentAnalysis.compound_score(sos_live)"
   ],
   "metadata": {
    "collapsed": false,
    "pycharm": {
     "name": "#%%\n"
    }
   }
  },
  {
   "cell_type": "code",
   "execution_count": null,
   "outputs": [],
   "source": [
    "\n",
    "oneonetwo.to_csv(\"data\"+os.sep+\"part\"+os.sep+\"Suomi112_cpd.csv\", encoding='utf-8-sig')\n",
    "sos_live.to_csv(\"data\"+os.sep+\"part\"+os.sep+\"SosLive_cpd.csv\", encoding='utf-8-sig')\n",
    "print(\"Done\")"
   ],
   "metadata": {
    "collapsed": false,
    "pycharm": {
     "name": "#%%\n"
    }
   }
  },
  {
   "cell_type": "code",
   "execution_count": null,
   "outputs": [],
   "source": [
    "oneonetwo = pd.read_csv(\"data\"+os.sep+\"part\"+os.sep+\"Suomi112_cpd.csv\", encoding='utf-8-sig')\n",
    "sos_live = pd.read_csv(\"data\"+os.sep+\"part\"+os.sep+\"SosLive_cpd.csv\", encoding='utf-8-sig')"
   ],
   "metadata": {
    "collapsed": false,
    "pycharm": {
     "name": "#%%\n"
    }
   }
  },
  {
   "cell_type": "code",
   "execution_count": null,
   "outputs": [],
   "source": [
    "sentimentAnalysis.rating_graph(oneonetwo)\n",
    "sentimentAnalysis.sentiment_graph(oneonetwo)\n",
    "sentimentAnalysis.rating_graph(sos_live)\n",
    "sentimentAnalysis.sentiment_graph(sos_live)"
   ],
   "metadata": {
    "collapsed": false,
    "pycharm": {
     "name": "#%%\n"
    }
   }
  },
  {
   "cell_type": "code",
   "execution_count": null,
   "outputs": [],
   "source": [
    "sentimentAnalysis.sentiment_rating_graph(oneonetwo)\n"
   ],
   "metadata": {
    "collapsed": false,
    "pycharm": {
     "name": "#%%\n"
    }
   }
  },
  {
   "cell_type": "code",
   "execution_count": null,
   "outputs": [],
   "source": [
    "sentimentAnalysis.sentiment_rating_graph(sos_live)"
   ],
   "metadata": {
    "collapsed": false,
    "pycharm": {
     "name": "#%%\n"
    }
   }
  },
  {
   "cell_type": "code",
   "execution_count": null,
   "outputs": [],
   "source": [],
   "metadata": {
    "collapsed": false,
    "pycharm": {
     "name": "#%%\n"
    }
   }
  }
 ],
 "metadata": {
  "kernelspec": {
   "display_name": "Python 3",
   "language": "python",
   "name": "python3"
  },
  "language_info": {
   "codemirror_mode": {
    "name": "ipython",
    "version": 2
   },
   "file_extension": ".py",
   "mimetype": "text/x-python",
   "name": "python",
   "nbconvert_exporter": "python",
   "pygments_lexer": "ipython2",
   "version": "2.7.6"
  }
 },
 "nbformat": 4,
 "nbformat_minor": 0
}