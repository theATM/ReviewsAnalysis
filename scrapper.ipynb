{
 "cells": [
  {
   "cell_type": "code",
   "execution_count": 2,
   "outputs": [],
   "source": [
    "from google_play_scraper import app\n",
    "from app_store_scraper import AppStore\n",
    "import os\n",
    "import pandas as pd\n",
    "import numpy as np\n",
    "import sys\n",
    "import importlib\n",
    "import json\n",
    "import time\n",
    "import scrapper\n",
    "import sentimentAnalysis"
   ],
   "metadata": {
    "collapsed": false
   }
  },
  {
   "cell_type": "markdown",
   "source": [
    "#Scrapp data:\n",
    "#TODO: I am experiancind some strange errors when trying to scroa the data - timeouts??\n",
    "# The sometimes need to be runned more than once"
   ],
   "metadata": {
    "collapsed": false
   }
  },
  {
   "cell_type": "code",
   "execution_count": 3,
   "outputs": [
    {
     "name": "stderr",
     "output_type": "stream",
     "text": [
      "/tmp/ipykernel_19984/2485560115.py:5: FutureWarning: The frame.append method is deprecated and will be removed from pandas in a future version. Use pandas.concat instead.\n",
      "  oneonetwo_google = oneonetwo_google.append(scrapper.google_scrapp(app_id = 'fi.digia.suomi112',country='fi',language='en',amount=1000))\n",
      "2022-10-25 00:56:30,512 [INFO] Base - Initialised: AppStore('fi', '112-suomi', 998281396)\n",
      "2022-10-25 00:56:30,515 [INFO] Base - Ready to fetch reviews from: https://apps.apple.com/fi/app/112-suomi/id998281396\n",
      "2022-10-25 00:56:34,277 [INFO] Base - [id:998281396] Fetched 172 reviews (172 fetched in total)\n"
     ]
    }
   ],
   "source": [
    "# Suomi 112\n",
    "import scrapper\n",
    "importlib.reload(scrapper)\n",
    "oneonetwo_google = scrapper.google_scrapp(app_id = 'fi.digia.suomi112',country='fi',language='fi',amount=1000)\n",
    "oneonetwo_google = oneonetwo_google.append(scrapper.google_scrapp(app_id = 'fi.digia.suomi112',country='fi',language='en',amount=1000))\n",
    "oneonetwo_apple  = scrapper.apple_scrapp( app_id = '998281396',country='fi', app_name='112 Suomi', how_many=1000)\n",
    "oneonetwo_google.to_csv(\"data\"+os.sep+\"part\"+os.sep+\"Suomi112_org_google.csv\", encoding='utf-8-sig')\n",
    "oneonetwo_apple.to_csv(\"data\"+os.sep+\"part\"+os.sep+\"Suomi112_org_apple.csv\", encoding='utf-8-sig')"
   ],
   "metadata": {
    "collapsed": false
   }
  },
  {
   "cell_type": "code",
   "execution_count": 4,
   "outputs": [
    {
     "name": "stderr",
     "output_type": "stream",
     "text": [
      "2022-10-25 00:56:35,744 [INFO] Base - Initialised: AppStore('se', 'sos-alarm', 1458725539)\n",
      "2022-10-25 00:56:35,744 [INFO] Base - Ready to fetch reviews from: https://apps.apple.com/se/app/sos-alarm/id1458725539\n",
      "2022-10-25 00:56:41,043 [INFO] Base - [id:1458725539] Fetched 260 reviews (260 fetched in total)\n",
      "2022-10-25 00:56:42,720 [INFO] Base - [id:1458725539] Fetched 336 reviews (336 fetched in total)\n"
     ]
    }
   ],
   "source": [
    "# Sos Live\n",
    "import scrapper\n",
    "importlib.reload(scrapper)\n",
    "sos_live_google = scrapper.google_scrapp(app_id = 'se.sos.soslive',country='se',language='se',amount=1000)\n",
    "sos_live_apple  = scrapper.apple_scrapp( app_id = '1458725539',country='se', app_name='SOS Alarm', how_many=1000)\n",
    "sos_live_google.to_csv(\"data\"+os.sep+\"part\"+os.sep+\"SosLive_org_google.csv\", encoding='utf-8-sig')\n",
    "sos_live_apple.to_csv(\"data\"+os.sep+\"part\"+os.sep+\"SosLive_org_apple.csv\", encoding='utf-8-sig')"
   ],
   "metadata": {
    "collapsed": false
   }
  },
  {
   "cell_type": "markdown",
   "source": [
    "Translate the data\n",
    "# TODO: Are all emoticons are lost during this process?"
   ],
   "metadata": {
    "collapsed": false
   }
  },
  {
   "cell_type": "code",
   "execution_count": null,
   "outputs": [],
   "source": [
    "#Load data if needed:\n",
    "oneonetwo_google = pd.read_csv(\"data\"+os.sep+\"part\"+os.sep+\"Suomi112_org_google.csv\", encoding='utf-8-sig')\n",
    "oneonetwo_apple = pd.read_csv(\"data\"+os.sep+\"part\"+os.sep+\"Suomi112_org_apple.csv\", encoding='utf-8-sig')\n",
    "sos_live_google = pd.read_csv(\"data\"+os.sep+\"part\"+os.sep+\"SosLive_org_google.csv\", encoding='utf-8-sig')\n",
    "sos_live_apple = pd.read_csv(\"data\"+os.sep+\"part\"+os.sep+\"SosLive_org_apple.csv\", encoding='utf-8-sig')\n",
    "print(\"Original Data Loaded\")"
   ],
   "metadata": {
    "collapsed": false
   }
  },
  {
   "cell_type": "code",
   "execution_count": 6,
   "outputs": [
    {
     "name": "stdout",
     "output_type": "stream",
     "text": [
      "Translation Done\n"
     ]
    }
   ],
   "source": [
    "#Translate the data : - Better do it twice (if there are 2 languages in a sentence)\n",
    "import scrapper\n",
    "importlib.reload(scrapper)\n",
    "trans = scrapper.GoogleTranslator()\n",
    "oneonetwo_google = trans.translate(oneonetwo_google)\n",
    "oneonetwo_apple = trans.translate(oneonetwo_apple)\n",
    "sos_live_google = trans.translate(sos_live_google)\n",
    "sos_live_apple = trans.translate(sos_live_apple)\n",
    "print(\"Translation Done\")"
   ],
   "metadata": {
    "collapsed": false
   }
  },
  {
   "cell_type": "code",
   "execution_count": 7,
   "outputs": [
    {
     "name": "stdout",
     "output_type": "stream",
     "text": [
      "Files Saved\n"
     ]
    }
   ],
   "source": [
    "#Save translated data to the files\n",
    "oneonetwo_google.to_csv(\"data\"+os.sep+\"part\"+os.sep+\"Suomi112_eng_google.csv\", encoding='utf-8-sig')\n",
    "oneonetwo_apple.to_csv(\"data\"+os.sep+\"part\"+os.sep+\"Suomi112_eng_apple.csv\", encoding='utf-8-sig')\n",
    "sos_live_google.to_csv(\"data\"+os.sep+\"part\"+os.sep+\"SosLive_eng_google.csv\", encoding='utf-8-sig')\n",
    "sos_live_apple.to_csv(\"data\"+os.sep+\"part\"+os.sep+\"SosLive_eng_apple.csv\", encoding='utf-8-sig')\n",
    "print(\"Files Saved\")"
   ],
   "metadata": {
    "collapsed": false
   }
  },
  {
   "cell_type": "markdown",
   "source": [
    "# TODO: Sentiment Analysis + Graph"
   ],
   "metadata": {
    "collapsed": false
   }
  },
  {
   "cell_type": "code",
   "execution_count": null,
   "outputs": [],
   "source": [
    "#Need to preprocess the data\n",
    "# #TODO preprocess using that library ....\n",
    "#Load data if needed:\n",
    "oneonetwo_google = pd.read_csv(\"data\"+os.sep+\"part\"+os.sep+\"Suomi112_eng_google.csv\", encoding='utf-8-sig')\n",
    "oneonetwo_apple = pd.read_csv(\"data\"+os.sep+\"part\"+os.sep+\"Suomi112_eng_apple.csv\", encoding='utf-8-sig')\n",
    "sos_live_google = pd.read_csv(\"data\"+os.sep+\"part\"+os.sep+\"SosLive_eng_google.csv\", encoding='utf-8-sig')\n",
    "sos_live_apple = pd.read_csv(\"data\"+os.sep+\"part\"+os.sep+\"SosLive_eng_apple.csv\", encoding='utf-8-sig')\n",
    "print(\"Original Data Loaded\")"
   ],
   "metadata": {
    "collapsed": false
   }
  },
  {
   "cell_type": "code",
   "execution_count": 8,
   "outputs": [
    {
     "name": "stdout",
     "output_type": "stream",
     "text": [
      "End of analysis\n",
      "End of analysis\n",
      "End of analysis\n",
      "End of analysis\n"
     ]
    }
   ],
   "source": [
    "sentimentAnalysis.compound_score(oneonetwo_google)\n",
    "sentimentAnalysis.compound_score(oneonetwo_apple)\n",
    "sentimentAnalysis.compound_score(sos_live_google)\n",
    "sentimentAnalysis.compound_score(sos_live_apple)"
   ],
   "metadata": {
    "collapsed": false
   }
  },
  {
   "cell_type": "code",
   "execution_count": 9,
   "outputs": [],
   "source": [
    "oneonetwo_google.to_csv(\"data\"+os.sep+\"part\"+os.sep+\"Suomi112_cpd_google.csv\", encoding='utf-8-sig')\n",
    "oneonetwo_apple.to_csv(\"data\"+os.sep+\"part\"+os.sep+\"Suomi112_cpd_apple.csv\", encoding='utf-8-sig')\n",
    "sos_live_google.to_csv(\"data\"+os.sep+\"part\"+os.sep+\"SosLive_cpd_google.csv\", encoding='utf-8-sig')\n",
    "sos_live_apple.to_csv(\"data\"+os.sep+\"part\"+os.sep+\"SosLive_cpd_apple.csv\", encoding='utf-8-sig')"
   ],
   "metadata": {
    "collapsed": false
   }
  },
  {
   "cell_type": "code",
   "execution_count": 10,
   "outputs": [
    {
     "name": "stdout",
     "output_type": "stream",
     "text": [
      "Done\n"
     ]
    }
   ],
   "source": [
    "print(\"Done\")"
   ],
   "metadata": {
    "collapsed": false
   }
  },
  {
   "cell_type": "code",
   "execution_count": null,
   "outputs": [],
   "source": [],
   "metadata": {
    "collapsed": false
   }
  }
 ],
 "metadata": {
  "kernelspec": {
   "display_name": "Python 3",
   "language": "python",
   "name": "python3"
  },
  "language_info": {
   "codemirror_mode": {
    "name": "ipython",
    "version": 2
   },
   "file_extension": ".py",
   "mimetype": "text/x-python",
   "name": "python",
   "nbconvert_exporter": "python",
   "pygments_lexer": "ipython2",
   "version": "2.7.6"
  }
 },
 "nbformat": 4,
 "nbformat_minor": 0
}
