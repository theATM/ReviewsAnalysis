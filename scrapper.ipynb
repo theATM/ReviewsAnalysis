{
 "cells": [
  {
   "cell_type": "code",
   "execution_count": 2,
   "outputs": [],
   "source": [
    "from google_play_scraper import app\n",
    "from app_store_scraper import AppStore\n",
    "import os\n",
    "import pandas as pd\n",
    "import numpy as np\n",
    "import sys\n",
    "import importlib\n",
    "import json\n",
    "import time\n",
    "import scrapper"
   ],
   "metadata": {
    "collapsed": false,
    "pycharm": {
     "name": "#%%\n"
    }
   }
  },
  {
   "cell_type": "markdown",
   "source": [
    "#Scrapp data:\n",
    "#TODO: I am experiancind some strange errors when trying to scroa the data - timeouts??\n",
    "# The sometimes need to be runned more than once"
   ],
   "metadata": {
    "collapsed": false,
    "pycharm": {
     "name": "#%% md\n"
    }
   }
  },
  {
   "cell_type": "code",
   "execution_count": 89,
   "outputs": [
    {
     "name": "stderr",
     "output_type": "stream",
     "text": [
      "/tmp/ipykernel_92949/4059291583.py:5: FutureWarning: The frame.append method is deprecated and will be removed from pandas in a future version. Use pandas.concat instead.\n",
      "  oneonetwo_google.append(scrapper.google_scrapp(app_id = 'fi.digia.suomi112',country='fi',language='en',amount=1000))\n",
      "2022-10-19 02:08:23,165 [INFO] Base - Initialised: AppStore('fi', '112-suomi', 998281396)\n",
      "2022-10-19 02:08:23,166 [INFO] Base - Ready to fetch reviews from: https://apps.apple.com/fi/app/112-suomi/id998281396\n",
      "2022-10-19 02:08:25,859 [INFO] Base - [id:998281396] Fetched 172 reviews (172 fetched in total)\n"
     ]
    }
   ],
   "source": [
    "# Suomi 112\n",
    "import scrapper\n",
    "importlib.reload(scrapper)\n",
    "oneonetwo_google = scrapper.google_scrapp(app_id = 'fi.digia.suomi112',country='fi',language='fi',amount=1000)\n",
    "oneonetwo_google.append(scrapper.google_scrapp(app_id = 'fi.digia.suomi112',country='fi',language='en',amount=1000))\n",
    "oneonetwo_apple  = scrapper.apple_scrapp( app_id = '998281396',country='fi', app_name='112 Suomi', how_many=1000)\n",
    "oneonetwo_google.to_csv(\"data\"+os.sep+\"part\"+os.sep+\"Suomi112_org_google.csv\", encoding='utf-8-sig')\n",
    "oneonetwo_apple.to_csv(\"data\"+os.sep+\"part\"+os.sep+\"Suomi112_org_apple.csv\", encoding='utf-8-sig')"
   ],
   "metadata": {
    "collapsed": false,
    "pycharm": {
     "name": "#%%\n"
    }
   }
  },
  {
   "cell_type": "code",
   "execution_count": 90,
   "outputs": [
    {
     "name": "stderr",
     "output_type": "stream",
     "text": [
      "2022-10-19 02:08:37,504 [INFO] Base - Initialised: AppStore('se', 'sos-alarm', 1458725539)\n",
      "2022-10-19 02:08:37,505 [INFO] Base - Ready to fetch reviews from: https://apps.apple.com/se/app/sos-alarm/id1458725539\n",
      "2022-10-19 02:08:42,287 [INFO] Base - [id:1458725539] Fetched 336 reviews (336 fetched in total)\n"
     ]
    }
   ],
   "source": [
    "# Sos Live\n",
    "import scrapper\n",
    "importlib.reload(scrapper)\n",
    "sos_live_google = scrapper.google_scrapp(app_id = 'se.sos.soslive',country='se',language='se',amount=1000)\n",
    "sos_live_apple  = scrapper.apple_scrapp( app_id = '1458725539',country='se', app_name='SOS Alarm', how_many=1000)\n",
    "sos_live_google.to_csv(\"data\"+os.sep+\"part\"+os.sep+\"SosLive_org_google.csv\", encoding='utf-8-sig')\n",
    "sos_live_apple.to_csv(\"data\"+os.sep+\"part\"+os.sep+\"SosLive_org_apple.csv\", encoding='utf-8-sig')"
   ],
   "metadata": {
    "collapsed": false,
    "pycharm": {
     "name": "#%%\n"
    }
   }
  },
  {
   "cell_type": "markdown",
   "source": [
    "Translate the data\n",
    "# TODO: Are all emoticons are lost during this process?"
   ],
   "metadata": {
    "collapsed": false,
    "pycharm": {
     "name": "#%% md\n"
    }
   }
  },
  {
   "cell_type": "code",
   "execution_count": 91,
   "outputs": [
    {
     "name": "stdout",
     "output_type": "stream",
     "text": [
      "Original Data Loaded\n"
     ]
    }
   ],
   "source": [
    "#Load data if needed:\n",
    "oneonetwo_google = pd.read_csv(\"data\"+os.sep+\"part\"+os.sep+\"Suomi112_org_google.csv\", encoding='utf-8-sig')\n",
    "oneonetwo_apple = pd.read_csv(\"data\"+os.sep+\"part\"+os.sep+\"Suomi112_org_apple.csv\", encoding='utf-8-sig')\n",
    "sos_live_google = pd.read_csv(\"data\"+os.sep+\"part\"+os.sep+\"SosLive_org_google.csv\", encoding='utf-8-sig')\n",
    "sos_live_apple = pd.read_csv(\"data\"+os.sep+\"part\"+os.sep+\"SosLive_org_apple.csv\", encoding='utf-8-sig')\n",
    "print(\"Original Data Loaded\")"
   ],
   "metadata": {
    "collapsed": false,
    "pycharm": {
     "name": "#%%\n"
    }
   }
  },
  {
   "cell_type": "code",
   "execution_count": 102,
   "outputs": [
    {
     "name": "stdout",
     "output_type": "stream",
     "text": [
      "Translation Done\n"
     ]
    }
   ],
   "source": [
    "#Translate the data : - Better do it twice (if there are 2 languages in a sentence)\n",
    "import scrapper\n",
    "importlib.reload(scrapper)\n",
    "trans = scrapper.GoogleTranslator()\n",
    "oneonetwo_google = trans.translate(oneonetwo_google)\n",
    "oneonetwo_apple = trans.translate(oneonetwo_apple)\n",
    "sos_live_google = trans.translate(sos_live_google)\n",
    "sos_live_apple = trans.translate(sos_live_apple)\n",
    "print(\"Translation Done\")"
   ],
   "metadata": {
    "collapsed": false,
    "pycharm": {
     "name": "#%%\n"
    }
   }
  },
  {
   "cell_type": "code",
   "execution_count": 103,
   "outputs": [
    {
     "name": "stdout",
     "output_type": "stream",
     "text": [
      "Files Saved Done\n"
     ]
    }
   ],
   "source": [
    "#Save translated data to the files\n",
    "oneonetwo_google.to_csv(\"data\"+os.sep+\"part\"+os.sep+\"Suomi112_eng_google.csv\", encoding='utf-8-sig')\n",
    "oneonetwo_apple.to_csv(\"data\"+os.sep+\"part\"+os.sep+\"Suomi112_eng_apple.csv\", encoding='utf-8-sig')\n",
    "sos_live_google.to_csv(\"data\"+os.sep+\"part\"+os.sep+\"SosLive_eng_google.csv\", encoding='utf-8-sig')\n",
    "sos_live_apple.to_csv(\"data\"+os.sep+\"part\"+os.sep+\"SosLive_eng_apple.csv\", encoding='utf-8-sig')\n",
    "print(\"Files Saved Done\")"
   ],
   "metadata": {
    "collapsed": false,
    "pycharm": {
     "name": "#%%\n"
    }
   }
  },
  {
   "cell_type": "code",
   "execution_count": null,
   "outputs": [],
   "source": [
    "#Need to preprocess the data\n",
    "# #TODO preprosess using that liblary ...."
   ],
   "metadata": {
    "collapsed": false,
    "pycharm": {
     "name": "#%%\n"
    }
   }
  },
  {
   "cell_type": "code",
   "execution_count": null,
   "outputs": [],
   "source": [
    "##################################################TEST_KOMORKI#######################################################BELLOW#################"
   ],
   "metadata": {
    "collapsed": false,
    "pycharm": {
     "name": "#%%\n"
    }
   }
  }
 ],
 "metadata": {
  "kernelspec": {
   "display_name": "Python 3",
   "language": "python",
   "name": "python3"
  },
  "language_info": {
   "codemirror_mode": {
    "name": "ipython",
    "version": 2
   },
   "file_extension": ".py",
   "mimetype": "text/x-python",
   "name": "python",
   "nbconvert_exporter": "python",
   "pygments_lexer": "ipython2",
   "version": "2.7.6"
  }
 },
 "nbformat": 4,
 "nbformat_minor": 0
}