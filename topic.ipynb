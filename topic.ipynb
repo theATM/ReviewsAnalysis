{
 "cells": [
  {
   "cell_type": "markdown",
   "source": [
    "################Topic generation:::Preprocess#################################################"
   ],
   "metadata": {
    "collapsed": false,
    "pycharm": {
     "name": "#%% md\n"
    }
   }
  },
  {
   "cell_type": "code",
   "execution_count": 126,
   "outputs": [],
   "source": [
    "#Get the data\n",
    "import importlib\n",
    "import pandas as pd\n",
    "google_data = pd.read_csv(\"data\"+os.sep+\"part\"+os.sep+\"Suomi112_eng_google.csv\", encoding='utf-8-sig')['content']\n",
    "apple_data = pd.read_csv(\"data\"+os.sep+\"part\"+os.sep+\"Suomi112_eng_apple.csv\", encoding='utf-8-sig')['content']"
   ],
   "metadata": {
    "collapsed": false,
    "pycharm": {
     "name": "#%%\n"
    }
   }
  },
  {
   "cell_type": "code",
   "execution_count": 162,
   "outputs": [],
   "source": [
    "data = pd.concat([google_data,apple_data])"
   ],
   "metadata": {
    "collapsed": false,
    "pycharm": {
     "name": "#%%\n"
    }
   }
  },
  {
   "cell_type": "code",
   "execution_count": 128,
   "outputs": [],
   "source": [
    "import utils\n",
    "importlib.reload(utils)\n",
    "processor = utils.Processor()\n",
    "processor.ini_dowload()"
   ],
   "metadata": {
    "collapsed": false,
    "pycharm": {
     "name": "#%%\n"
    }
   }
  },
  {
   "cell_type": "code",
   "execution_count": 163,
   "outputs": [],
   "source": [
    "data = data.apply(lambda x: processor.preprocess(x))\n",
    "data = data.apply(lambda x: processor.tokenize(x))\n",
    "data = data.apply(lambda x: processor.remove_stopwords(x))\n",
    "data = data.apply(lambda x: processor.process_tokens(x))\n",
    "data\n",
    "data_copy = data"
   ],
   "metadata": {
    "collapsed": false,
    "pycharm": {
     "name": "#%%\n"
    }
   }
  },
  {
   "cell_type": "markdown",
   "source": [
    "################Topic generation:::Topics#################################################\n",
    "Mostly taken from https://towardsdatascience.com/topic-modeling-and-latent-dirichlet-allocation-in-python-9bf156893c24"
   ],
   "metadata": {
    "collapsed": false,
    "pycharm": {
     "name": "#%% md\n"
    }
   }
  },
  {
   "cell_type": "code",
   "execution_count": 172,
   "outputs": [],
   "source": [
    "flat_data = [tag for sentence in data for tag in sentence ]\n",
    "from gensim.corpora import Dictionary\n",
    "dictionary = Dictionary(data)\n",
    "dictionary.filter_extremes(no_below=15, no_above=0.5, keep_n=100000)\n",
    "bow_corpus = [dictionary.doc2bow(doc) for doc in data]"
   ],
   "metadata": {
    "collapsed": false,
    "pycharm": {
     "name": "#%%\n"
    }
   }
  },
  {
   "cell_type": "code",
   "execution_count": 169,
   "outputs": [
    {
     "name": "stdout",
     "output_type": "stream",
     "text": [
      "0 ask\n",
      "1 call\n",
      "2 fortun\n",
      "3 know\n",
      "4 number\n",
      "5 phone\n",
      "6 open\n",
      "7 screen\n",
      "8 posit\n",
      "9 thumb\n",
      "10 address\n",
      "11 need\n",
      "12 real\n",
      "13 situat\n",
      "14 use\n",
      "15 good\n",
      "16 chang\n",
      "17 delet\n",
      "18 emerg\n",
      "19 set\n",
      "20 thing\n",
      "21 time\n",
      "22 applic\n",
      "23 case\n",
      "24 import\n",
      "25 instal\n",
      "26 work\n",
      "27 could\n",
      "28 great\n",
      "29 idea\n",
      "30 rememb\n",
      "31 still\n",
      "32 would\n",
      "33 find\n",
      "34 lose\n",
      "35 necessari\n",
      "36 realli\n",
      "37 automat\n",
      "38 also\n",
      "39 center\n",
      "40 inform\n",
      "41 coordin\n",
      "42 locat\n",
      "43 send\n",
      "44 crash\n",
      "45 danger\n",
      "46 even\n",
      "47 live\n",
      "48 make\n",
      "49 notif\n",
      "50 peopl\n",
      "51 think\n",
      "52 though\n",
      "53 well\n",
      "54 data\n",
      "55 face\n",
      "56 alreadi\n",
      "57 first\n",
      "58 everi\n",
      "59 cannot\n",
      "60 android\n",
      "61 help\n",
      "62 notic\n",
      "63 person\n",
      "64 servic\n",
      "65 easi\n",
      "66 announc\n",
      "67 constant\n",
      "68 go\n",
      "69 option\n",
      "70 otherwis\n",
      "71 traffic\n",
      "72 turn\n",
      "73 life\n",
      "74 definit\n",
      "75 mani\n",
      "76 worth\n",
      "77 recommend\n",
      "78 safe\n",
      "79 alway\n",
      "80 happen\n",
      "81 someth\n",
      "82 quick\n",
      "83 experi\n",
      "84 like\n",
      "85 remov\n",
      "86 seem\n",
      "87 take\n",
      "88 download\n",
      "89 updat\n",
      "90 give\n",
      "91 save\n",
      "92 possibl\n",
      "93 probabl\n",
      "94 quit\n",
      "95 nice\n",
      "96 button\n",
      "97 come\n",
      "98 immedi\n",
      "99 thank\n",
      "100 useless\n",
      "101 user\n",
      "102 start\n",
      "103 tri\n",
      "104 everyon\n",
      "105 addit\n",
      "106 especi\n",
      "107 show\n",
      "108 exampl\n",
      "109 want\n",
      "110 test\n",
      "111 close\n",
      "112 press\n",
      "113 problem\n",
      "114 activ\n",
      "115 away\n",
      "116 right\n",
      "117 least\n",
      "118 exact\n",
      "119 tell\n",
      "120 must\n",
      "121 hope\n",
      "122 fix\n",
      "123 eye\n",
      "124 smile\n",
      "125 practic\n",
      "126 softwar\n",
      "127 develop\n",
      "128 connect\n",
      "129 program\n",
      "130 place\n",
      "131 hour\n",
      "132 background\n",
      "133 say\n",
      "134 much\n",
      "135 version\n",
      "136 function\n",
      "137 batteri\n",
      "138 consum\n",
      "139 never\n",
      "140 consumpt\n",
      "141 easier\n",
      "142 enter\n",
      "143 oneplus\n",
      "144 iphon\n"
     ]
    }
   ],
   "source": [
    "count = 0\n",
    "for k, v in dictionary.iteritems():\n",
    "    print(k, v)\n",
    "    count += 1"
   ],
   "metadata": {
    "collapsed": false,
    "pycharm": {
     "name": "#%%\n"
    }
   }
  },
  {
   "cell_type": "code",
   "execution_count": 182,
   "outputs": [
    {
     "name": "stdout",
     "output_type": "stream",
     "text": [
      "Word 5 (\"phone\") appears 1 time.\n",
      "Word 6 (\"open\") appears 1 time.\n",
      "Word 7 (\"screen\") appears 1 time.\n"
     ]
    }
   ],
   "source": [
    "bow_doc_4310 = bow_corpus[1]\n",
    "for i in range(len(bow_doc_4310)):\n",
    "    print(\"Word {} (\\\"{}\\\") appears {} time.\".format(bow_doc_4310[i][0],dictionary[bow_doc_4310[i][0]],bow_doc_4310[i][1]))"
   ],
   "metadata": {
    "collapsed": false,
    "pycharm": {
     "name": "#%%\n"
    }
   }
  },
  {
   "cell_type": "code",
   "execution_count": 177,
   "outputs": [
    {
     "name": "stdout",
     "output_type": "stream",
     "text": [
      "[(0, 0.40444358736290076),\n",
      " (1, 0.46135364385744315),\n",
      " (2, 0.45487355340142943),\n",
      " (3, 0.2984760017100485),\n",
      " (4, 0.5327929747022492),\n",
      " (5, 0.2090740846388082)]\n"
     ]
    }
   ],
   "source": [
    "from gensim import corpora, models\n",
    "tfidf = models.TfidfModel(bow_corpus)\n",
    "corpus_tfidf = tfidf[bow_corpus]\n",
    "from pprint import pprint\n",
    "for doc in corpus_tfidf:\n",
    "    pprint(doc)\n",
    "    break"
   ],
   "metadata": {
    "collapsed": false,
    "pycharm": {
     "name": "#%%\n"
    }
   }
  },
  {
   "cell_type": "code",
   "execution_count": 178,
   "outputs": [
    {
     "name": "stdout",
     "output_type": "stream",
     "text": [
      "Topic: 0 \n",
      "Words: 0.090*\"locat\" + 0.070*\"good\" + 0.048*\"know\" + 0.042*\"applic\" + 0.033*\"call\" + 0.030*\"help\" + 0.029*\"use\" + 0.023*\"realli\" + 0.023*\"phone\" + 0.022*\"safe\"\n",
      "Topic: 1 \n",
      "Words: 0.093*\"import\" + 0.080*\"applic\" + 0.049*\"good\" + 0.038*\"would\" + 0.035*\"otherwis\" + 0.034*\"posit\" + 0.024*\"everi\" + 0.020*\"come\" + 0.019*\"servic\" + 0.019*\"phone\"\n",
      "Topic: 2 \n",
      "Words: 0.063*\"number\" + 0.059*\"good\" + 0.053*\"realli\" + 0.044*\"emerg\" + 0.043*\"applic\" + 0.043*\"would\" + 0.037*\"call\" + 0.034*\"phone\" + 0.029*\"could\" + 0.023*\"crash\"\n",
      "Topic: 3 \n",
      "Words: 0.075*\"work\" + 0.071*\"phone\" + 0.050*\"applic\" + 0.035*\"open\" + 0.029*\"number\" + 0.028*\"great\" + 0.025*\"download\" + 0.025*\"locat\" + 0.025*\"oneplus\" + 0.022*\"call\"\n",
      "Topic: 4 \n",
      "Words: 0.077*\"necessari\" + 0.072*\"call\" + 0.055*\"emerg\" + 0.053*\"inform\" + 0.050*\"center\" + 0.048*\"locat\" + 0.046*\"applic\" + 0.035*\"also\" + 0.026*\"good\" + 0.025*\"fortun\"\n",
      "Topic: 5 \n",
      "Words: 0.065*\"batteri\" + 0.051*\"phone\" + 0.048*\"emerg\" + 0.045*\"applic\" + 0.038*\"locat\" + 0.036*\"call\" + 0.036*\"program\" + 0.033*\"posit\" + 0.032*\"time\" + 0.026*\"turn\"\n",
      "Topic: 6 \n",
      "Words: 0.139*\"good\" + 0.062*\"face\" + 0.042*\"work\" + 0.034*\"thing\" + 0.032*\"smile\" + 0.027*\"use\" + 0.025*\"applic\" + 0.023*\"phone\" + 0.022*\"number\" + 0.021*\"eye\"\n",
      "Topic: 7 \n",
      "Words: 0.139*\"good\" + 0.061*\"applic\" + 0.045*\"idea\" + 0.037*\"need\" + 0.027*\"hope\" + 0.027*\"right\" + 0.027*\"never\" + 0.025*\"instal\" + 0.025*\"call\" + 0.024*\"know\"\n",
      "Topic: 8 \n",
      "Words: 0.057*\"emerg\" + 0.051*\"help\" + 0.043*\"call\" + 0.038*\"applic\" + 0.034*\"work\" + 0.025*\"need\" + 0.022*\"locat\" + 0.022*\"find\" + 0.022*\"center\" + 0.021*\"even\"\n",
      "Topic: 9 \n",
      "Words: 0.074*\"phone\" + 0.066*\"applic\" + 0.057*\"use\" + 0.053*\"even\" + 0.040*\"number\" + 0.035*\"instal\" + 0.033*\"notif\" + 0.030*\"save\" + 0.029*\"work\" + 0.023*\"traffic\"\n"
     ]
    }
   ],
   "source": [
    "import gensim\n",
    "lda_model = gensim.models.LdaMulticore(bow_corpus, num_topics=10, id2word=dictionary, passes=2, workers=2)\n",
    "for idx, topic in lda_model.print_topics(-1):\n",
    "    print('Topic: {} \\nWords: {}'.format(idx, topic))"
   ],
   "metadata": {
    "collapsed": false,
    "pycharm": {
     "name": "#%%\n"
    }
   }
  },
  {
   "cell_type": "code",
   "execution_count": 180,
   "outputs": [
    {
     "name": "stdout",
     "output_type": "stream",
     "text": [
      "Topic: 0 Word: 0.056*\"phone\" + 0.051*\"number\" + 0.040*\"thing\" + 0.036*\"time\" + 0.028*\"good\" + 0.028*\"open\" + 0.026*\"applic\" + 0.024*\"screen\" + 0.023*\"tri\" + 0.021*\"call\"\n",
      "Topic: 1 Word: 0.042*\"good\" + 0.041*\"batteri\" + 0.032*\"posit\" + 0.032*\"applic\" + 0.031*\"background\" + 0.030*\"locat\" + 0.030*\"worth\" + 0.025*\"like\" + 0.024*\"hour\" + 0.019*\"use\"\n",
      "Topic: 2 Word: 0.072*\"import\" + 0.038*\"announc\" + 0.038*\"well\" + 0.030*\"immedi\" + 0.029*\"even\" + 0.027*\"experi\" + 0.025*\"servic\" + 0.023*\"quit\" + 0.023*\"work\" + 0.022*\"coordin\"\n",
      "Topic: 3 Word: 0.341*\"good\" + 0.070*\"great\" + 0.032*\"thumb\" + 0.029*\"idea\" + 0.020*\"applic\" + 0.020*\"hope\" + 0.017*\"inform\" + 0.014*\"everyon\" + 0.013*\"away\" + 0.013*\"someth\"\n",
      "Topic: 4 Word: 0.054*\"know\" + 0.051*\"emerg\" + 0.049*\"good\" + 0.048*\"need\" + 0.036*\"place\" + 0.033*\"help\" + 0.026*\"thank\" + 0.025*\"find\" + 0.023*\"locat\" + 0.021*\"realli\"\n",
      "Topic: 5 Word: 0.065*\"download\" + 0.043*\"applic\" + 0.040*\"import\" + 0.030*\"find\" + 0.027*\"practic\" + 0.024*\"instal\" + 0.023*\"call\" + 0.022*\"phone\" + 0.018*\"connect\" + 0.018*\"good\"\n",
      "Topic: 6 Word: 0.134*\"use\" + 0.086*\"realli\" + 0.047*\"everyon\" + 0.027*\"call\" + 0.025*\"applic\" + 0.023*\"data\" + 0.021*\"import\" + 0.019*\"emerg\" + 0.018*\"well\" + 0.016*\"work\"\n",
      "Topic: 7 Word: 0.048*\"face\" + 0.047*\"applic\" + 0.045*\"work\" + 0.044*\"locat\" + 0.034*\"use\" + 0.028*\"smile\" + 0.023*\"updat\" + 0.022*\"posit\" + 0.022*\"even\" + 0.022*\"help\"\n",
      "Topic: 8 Word: 0.086*\"work\" + 0.081*\"necessari\" + 0.056*\"safe\" + 0.046*\"good\" + 0.046*\"oneplus\" + 0.032*\"phone\" + 0.030*\"crash\" + 0.027*\"updat\" + 0.024*\"come\" + 0.022*\"applic\"\n",
      "Topic: 9 Word: 0.041*\"save\" + 0.033*\"emerg\" + 0.032*\"life\" + 0.030*\"version\" + 0.029*\"number\" + 0.029*\"phone\" + 0.028*\"center\" + 0.026*\"call\" + 0.026*\"locat\" + 0.026*\"right\"\n"
     ]
    }
   ],
   "source": [
    "import gensim\n",
    "lda_model_tfidf = gensim.models.LdaMulticore(corpus_tfidf, num_topics=10, id2word=dictionary, passes=2, workers=4)\n",
    "for idx, topic in lda_model_tfidf.print_topics(-1):\n",
    "    print('Topic: {} Word: {}'.format(idx, topic))"
   ],
   "metadata": {
    "collapsed": false,
    "pycharm": {
     "name": "#%%\n"
    }
   }
  },
  {
   "cell_type": "code",
   "execution_count": 183,
   "outputs": [
    {
     "name": "stdout",
     "output_type": "stream",
     "text": [
      "\n",
      "Score: 0.7749852538108826\t \n",
      "Topic: 0.056*\"phone\" + 0.051*\"number\" + 0.040*\"thing\" + 0.036*\"time\" + 0.028*\"good\" + 0.028*\"open\" + 0.026*\"applic\" + 0.024*\"screen\" + 0.023*\"tri\" + 0.021*\"call\"\n",
      "\n",
      "Score: 0.02500375360250473\t \n",
      "Topic: 0.041*\"save\" + 0.033*\"emerg\" + 0.032*\"life\" + 0.030*\"version\" + 0.029*\"number\" + 0.029*\"phone\" + 0.028*\"center\" + 0.026*\"call\" + 0.026*\"locat\" + 0.026*\"right\"\n",
      "\n",
      "Score: 0.02500278875231743\t \n",
      "Topic: 0.086*\"work\" + 0.081*\"necessari\" + 0.056*\"safe\" + 0.046*\"good\" + 0.046*\"oneplus\" + 0.032*\"phone\" + 0.030*\"crash\" + 0.027*\"updat\" + 0.024*\"come\" + 0.022*\"applic\"\n",
      "\n",
      "Score: 0.025001896545290947\t \n",
      "Topic: 0.134*\"use\" + 0.086*\"realli\" + 0.047*\"everyon\" + 0.027*\"call\" + 0.025*\"applic\" + 0.023*\"data\" + 0.021*\"import\" + 0.019*\"emerg\" + 0.018*\"well\" + 0.016*\"work\"\n",
      "\n",
      "Score: 0.02500154636800289\t \n",
      "Topic: 0.065*\"download\" + 0.043*\"applic\" + 0.040*\"import\" + 0.030*\"find\" + 0.027*\"practic\" + 0.024*\"instal\" + 0.023*\"call\" + 0.022*\"phone\" + 0.018*\"connect\" + 0.018*\"good\"\n",
      "\n",
      "Score: 0.02500152215361595\t \n",
      "Topic: 0.048*\"face\" + 0.047*\"applic\" + 0.045*\"work\" + 0.044*\"locat\" + 0.034*\"use\" + 0.028*\"smile\" + 0.023*\"updat\" + 0.022*\"posit\" + 0.022*\"even\" + 0.022*\"help\"\n",
      "\n",
      "Score: 0.02500109001994133\t \n",
      "Topic: 0.042*\"good\" + 0.041*\"batteri\" + 0.032*\"posit\" + 0.032*\"applic\" + 0.031*\"background\" + 0.030*\"locat\" + 0.030*\"worth\" + 0.025*\"like\" + 0.024*\"hour\" + 0.019*\"use\"\n",
      "\n",
      "Score: 0.025000888854265213\t \n",
      "Topic: 0.341*\"good\" + 0.070*\"great\" + 0.032*\"thumb\" + 0.029*\"idea\" + 0.020*\"applic\" + 0.020*\"hope\" + 0.017*\"inform\" + 0.014*\"everyon\" + 0.013*\"away\" + 0.013*\"someth\"\n",
      "\n",
      "Score: 0.025000685825943947\t \n",
      "Topic: 0.054*\"know\" + 0.051*\"emerg\" + 0.049*\"good\" + 0.048*\"need\" + 0.036*\"place\" + 0.033*\"help\" + 0.026*\"thank\" + 0.025*\"find\" + 0.023*\"locat\" + 0.021*\"realli\"\n",
      "\n",
      "Score: 0.02500053122639656\t \n",
      "Topic: 0.072*\"import\" + 0.038*\"announc\" + 0.038*\"well\" + 0.030*\"immedi\" + 0.029*\"even\" + 0.027*\"experi\" + 0.025*\"servic\" + 0.023*\"quit\" + 0.023*\"work\" + 0.022*\"coordin\"\n"
     ]
    }
   ],
   "source": [
    "for index, score in sorted(lda_model_tfidf[bow_corpus[1]], key=lambda tup: -1*tup[1]):\n",
    "    print(\"\\nScore: {}\\t \\nTopic: {}\".format(score, lda_model_tfidf.print_topic(index, 10)))"
   ],
   "metadata": {
    "collapsed": false,
    "pycharm": {
     "name": "#%%\n"
    }
   }
  }
 ],
 "metadata": {
  "kernelspec": {
   "display_name": "Python 3",
   "language": "python",
   "name": "python3"
  },
  "language_info": {
   "codemirror_mode": {
    "name": "ipython",
    "version": 2
   },
   "file_extension": ".py",
   "mimetype": "text/x-python",
   "name": "python",
   "nbconvert_exporter": "python",
   "pygments_lexer": "ipython2",
   "version": "2.7.6"
  }
 },
 "nbformat": 4,
 "nbformat_minor": 0
}