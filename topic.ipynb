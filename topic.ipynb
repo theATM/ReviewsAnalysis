{
 "cells": [
  {
   "cell_type": "markdown",
   "source": [
    "################Topic generation:::Preprocess#################################################"
   ],
   "metadata": {
    "collapsed": false,
    "pycharm": {
     "name": "#%% md\n"
    }
   }
  },
  {
   "cell_type": "code",
   "execution_count": 1,
   "outputs": [],
   "source": [
    "#Get the data\n",
    "import os\n",
    "import importlib\n",
    "import pandas as pd\n",
    "google_data = pd.read_csv(\"data\"+os.sep+\"part\"+os.sep+\"Suomi112_eng_google.csv\", encoding='utf-8-sig')['content']\n",
    "apple_data = pd.read_csv(\"data\"+os.sep+\"part\"+os.sep+\"Suomi112_eng_apple.csv\", encoding='utf-8-sig')['content']"
   ],
   "metadata": {
    "collapsed": false,
    "pycharm": {
     "name": "#%%\n"
    }
   }
  },
  {
   "cell_type": "code",
   "execution_count": 2,
   "outputs": [],
   "source": [
    "data = pd.concat([google_data,apple_data])"
   ],
   "metadata": {
    "collapsed": false,
    "pycharm": {
     "name": "#%%\n"
    }
   }
  },
  {
   "cell_type": "code",
   "execution_count": 9,
   "outputs": [
    {
     "name": "stderr",
     "output_type": "stream",
     "text": [
      "[nltk_data] Downloading package stopwords to data/lib/stopwords...\n",
      "[nltk_data]   Package stopwords is already up-to-date!\n",
      "[nltk_data] Downloading package wordnet to data/lib/wordnet...\n",
      "[nltk_data]   Package wordnet is already up-to-date!\n",
      "[nltk_data] Downloading package omw-1.4 to data/lib/omw...\n"
     ]
    }
   ],
   "source": [
    "import utils\n",
    "importlib.reload(utils)\n",
    "processor = utils.Processor()\n",
    "processor.ini_dowload()"
   ],
   "metadata": {
    "collapsed": false,
    "pycharm": {
     "name": "#%%\n"
    }
   }
  },
  {
   "cell_type": "code",
   "execution_count": 10,
   "outputs": [],
   "source": [
    "data = data.apply(lambda x: processor.preprocess(str(x)))\n",
    "data = data.apply(lambda x: processor.tokenize(x))\n",
    "data = data.apply(lambda x: processor.remove_stopwords(x))\n",
    "data = data.apply(lambda x: processor.process_tokens(x))\n",
    "data\n",
    "data_copy = data"
   ],
   "metadata": {
    "collapsed": false,
    "pycharm": {
     "name": "#%%\n"
    }
   }
  },
  {
   "cell_type": "markdown",
   "source": [
    "################Topic generation:::Topics#################################################\n",
    "Mostly taken from https://towardsdatascience.com/topic-modeling-and-latent-dirichlet-allocation-in-python-9bf156893c24"
   ],
   "metadata": {
    "collapsed": false,
    "pycharm": {
     "name": "#%% md\n"
    }
   }
  },
  {
   "cell_type": "code",
   "execution_count": 11,
   "outputs": [],
   "source": [
    "flat_data = [tag for sentence in data for tag in sentence ]\n",
    "from gensim.corpora import Dictionary\n",
    "dictionary = Dictionary(data)\n",
    "dictionary.filter_extremes(no_below=15, no_above=0.5, keep_n=100000)\n",
    "bow_corpus = [dictionary.doc2bow(doc) for doc in data]"
   ],
   "metadata": {
    "collapsed": false,
    "pycharm": {
     "name": "#%%\n"
    }
   }
  },
  {
   "cell_type": "code",
   "execution_count": 12,
   "outputs": [
    {
     "name": "stdout",
     "output_type": "stream",
     "text": [
      "0 also\n",
      "1 could\n",
      "2 danger\n",
      "3 emerg\n",
      "4 help\n",
      "5 inform\n",
      "6 necessari\n",
      "7 need\n",
      "8 night\n",
      "9 option\n",
      "10 program\n",
      "11 situat\n",
      "12 user\n",
      "13 ask\n",
      "14 call\n",
      "15 fortun\n",
      "16 know\n",
      "17 number\n",
      "18 phone\n",
      "19 open\n",
      "20 screen\n",
      "21 posit\n",
      "22 thumb\n",
      "23 address\n",
      "24 real\n",
      "25 use\n",
      "26 good\n",
      "27 chang\n",
      "28 delet\n",
      "29 set\n",
      "30 thing\n",
      "31 time\n",
      "32 applic\n",
      "33 case\n",
      "34 import\n",
      "35 instal\n",
      "36 work\n",
      "37 featur\n",
      "38 great\n",
      "39 idea\n",
      "40 rememb\n",
      "41 still\n",
      "42 would\n",
      "43 find\n",
      "44 lose\n",
      "45 realli\n",
      "46 automat\n",
      "47 center\n",
      "48 coordin\n",
      "49 locat\n",
      "50 send\n",
      "51 crash\n",
      "52 abl\n",
      "53 alarm\n",
      "54 even\n",
      "55 keep\n",
      "56 live\n",
      "57 make\n",
      "58 notif\n",
      "59 peopl\n",
      "60 think\n",
      "61 though\n",
      "62 well\n",
      "63 data\n",
      "64 face\n",
      "65 alreadi\n",
      "66 first\n",
      "67 everi\n",
      "68 cannot\n",
      "69 android\n",
      "70 notic\n",
      "71 person\n",
      "72 servic\n",
      "73 easi\n",
      "74 announc\n",
      "75 constant\n",
      "76 go\n",
      "77 otherwis\n",
      "78 traffic\n",
      "79 turn\n",
      "80 life\n",
      "81 definit\n",
      "82 mani\n",
      "83 worth\n",
      "84 recommend\n",
      "85 safe\n",
      "86 alway\n",
      "87 happen\n",
      "88 someth\n",
      "89 quick\n",
      "90 experi\n",
      "91 accid\n",
      "92 like\n",
      "93 remov\n",
      "94 seem\n",
      "95 finland\n",
      "96 take\n",
      "97 download\n",
      "98 updat\n",
      "99 give\n",
      "100 save\n",
      "101 possibl\n",
      "102 probabl\n",
      "103 quit\n",
      "104 nice\n",
      "105 button\n",
      "106 come\n",
      "107 immedi\n",
      "108 requir\n",
      "109 thank\n",
      "110 useless\n",
      "111 start\n",
      "112 tri\n",
      "113 everyon\n",
      "114 addit\n",
      "115 especi\n",
      "116 show\n",
      "117 exampl\n",
      "118 want\n",
      "119 test\n",
      "120 close\n",
      "121 messag\n",
      "122 press\n",
      "123 problem\n",
      "124 activ\n",
      "125 second\n",
      "126 away\n",
      "127 right\n",
      "128 least\n",
      "129 exact\n",
      "130 tell\n",
      "131 must\n",
      "132 hope\n",
      "133 fix\n",
      "134 eye\n",
      "135 smile\n",
      "136 practic\n",
      "137 softwar\n",
      "138 develop\n",
      "139 connect\n",
      "140 text\n",
      "141 place\n",
      "142 hour\n",
      "143 background\n",
      "144 say\n",
      "145 much\n",
      "146 version\n",
      "147 look\n",
      "148 function\n",
      "149 someon\n",
      "150 batteri\n",
      "151 consum\n",
      "152 never\n",
      "153 mobil\n",
      "154 reason\n",
      "155 consumpt\n",
      "156 easier\n",
      "157 enter\n",
      "158 oneplus\n",
      "159 run\n",
      "160 appear\n",
      "161 iphon\n"
     ]
    }
   ],
   "source": [
    "count = 0\n",
    "for k, v in dictionary.iteritems():\n",
    "    print(k, v)\n",
    "    count += 1"
   ],
   "metadata": {
    "collapsed": false,
    "pycharm": {
     "name": "#%%\n"
    }
   }
  },
  {
   "cell_type": "code",
   "execution_count": 13,
   "outputs": [
    {
     "name": "stdout",
     "output_type": "stream",
     "text": [
      "Word 13 (\"ask\") appears 1 time.\n",
      "Word 14 (\"call\") appears 2 time.\n",
      "Word 15 (\"fortun\") appears 1 time.\n",
      "Word 16 (\"know\") appears 1 time.\n",
      "Word 17 (\"number\") appears 2 time.\n",
      "Word 18 (\"phone\") appears 1 time.\n"
     ]
    }
   ],
   "source": [
    "bow_doc_4310 = bow_corpus[1]\n",
    "for i in range(len(bow_doc_4310)):\n",
    "    print(\"Word {} (\\\"{}\\\") appears {} time.\".format(bow_doc_4310[i][0],dictionary[bow_doc_4310[i][0]],bow_doc_4310[i][1]))"
   ],
   "metadata": {
    "collapsed": false,
    "pycharm": {
     "name": "#%%\n"
    }
   }
  },
  {
   "cell_type": "code",
   "execution_count": 14,
   "outputs": [
    {
     "name": "stdout",
     "output_type": "stream",
     "text": [
      "[(0, 0.18491882757277014),\n",
      " (1, 0.5426701729455495),\n",
      " (2, 0.24380901457731965),\n",
      " (3, 0.11672794900115502),\n",
      " (4, 0.15611909700179866),\n",
      " (5, 0.3719453348291787),\n",
      " (6, 0.1892577979494741),\n",
      " (7, 0.15248049327141402),\n",
      " (8, 0.2534977241247234),\n",
      " (9, 0.24685725909141704),\n",
      " (10, 0.16715493941001502),\n",
      " (11, 0.4220019639351989),\n",
      " (12, 0.21268405590801284)]\n"
     ]
    }
   ],
   "source": [
    "from gensim import corpora, models\n",
    "tfidf = models.TfidfModel(bow_corpus)\n",
    "corpus_tfidf = tfidf[bow_corpus]\n",
    "from pprint import pprint\n",
    "for doc in corpus_tfidf:\n",
    "    pprint(doc)\n",
    "    break"
   ],
   "metadata": {
    "collapsed": false,
    "pycharm": {
     "name": "#%%\n"
    }
   }
  },
  {
   "cell_type": "code",
   "execution_count": 15,
   "outputs": [
    {
     "name": "stdout",
     "output_type": "stream",
     "text": [
      "Topic: 0 \n",
      "Words: 0.099*\"call\" + 0.065*\"applic\" + 0.062*\"emerg\" + 0.034*\"locat\" + 0.034*\"center\" + 0.032*\"number\" + 0.030*\"phone\" + 0.021*\"help\" + 0.018*\"use\" + 0.017*\"inform\"\n",
      "Topic: 1 \n",
      "Words: 0.070*\"import\" + 0.044*\"phone\" + 0.042*\"applic\" + 0.041*\"program\" + 0.041*\"realli\" + 0.040*\"number\" + 0.039*\"save\" + 0.032*\"would\" + 0.029*\"need\" + 0.024*\"also\"\n",
      "Topic: 2 \n",
      "Words: 0.093*\"work\" + 0.037*\"applic\" + 0.032*\"emerg\" + 0.031*\"call\" + 0.029*\"well\" + 0.029*\"phone\" + 0.028*\"use\" + 0.028*\"start\" + 0.027*\"realli\" + 0.025*\"make\"\n",
      "Topic: 3 \n",
      "Words: 0.134*\"good\" + 0.058*\"batteri\" + 0.055*\"applic\" + 0.046*\"locat\" + 0.039*\"use\" + 0.031*\"background\" + 0.021*\"call\" + 0.021*\"would\" + 0.019*\"emerg\" + 0.017*\"even\"\n",
      "Topic: 4 \n",
      "Words: 0.041*\"emerg\" + 0.036*\"updat\" + 0.034*\"great\" + 0.029*\"good\" + 0.028*\"time\" + 0.025*\"notif\" + 0.024*\"download\" + 0.024*\"program\" + 0.024*\"phone\" + 0.021*\"even\"\n",
      "Topic: 5 \n",
      "Words: 0.092*\"phone\" + 0.061*\"number\" + 0.039*\"good\" + 0.036*\"work\" + 0.034*\"oneplus\" + 0.031*\"applic\" + 0.029*\"turn\" + 0.024*\"locat\" + 0.023*\"screen\" + 0.022*\"crash\"\n",
      "Topic: 6 \n",
      "Words: 0.057*\"posit\" + 0.049*\"applic\" + 0.036*\"would\" + 0.035*\"emerg\" + 0.033*\"face\" + 0.032*\"smile\" + 0.032*\"work\" + 0.023*\"time\" + 0.023*\"eye\" + 0.019*\"call\"\n",
      "Topic: 7 \n",
      "Words: 0.071*\"applic\" + 0.054*\"phone\" + 0.045*\"locat\" + 0.034*\"help\" + 0.034*\"even\" + 0.032*\"number\" + 0.031*\"need\" + 0.029*\"emerg\" + 0.026*\"good\" + 0.022*\"call\"\n",
      "Topic: 8 \n",
      "Words: 0.042*\"work\" + 0.038*\"locat\" + 0.033*\"thumb\" + 0.030*\"good\" + 0.027*\"emerg\" + 0.026*\"turn\" + 0.024*\"applic\" + 0.024*\"even\" + 0.023*\"call\" + 0.023*\"notif\"\n",
      "Topic: 9 \n",
      "Words: 0.081*\"good\" + 0.067*\"know\" + 0.037*\"everyon\" + 0.036*\"thing\" + 0.030*\"someth\" + 0.028*\"locat\" + 0.028*\"help\" + 0.025*\"need\" + 0.025*\"servic\" + 0.024*\"happen\"\n"
     ]
    }
   ],
   "source": [
    "import gensim\n",
    "lda_model = gensim.models.LdaMulticore(bow_corpus, num_topics=10, id2word=dictionary, passes=2, workers=2)\n",
    "for idx, topic in lda_model.print_topics(-1):\n",
    "    print('Topic: {} \\nWords: {}'.format(idx, topic))"
   ],
   "metadata": {
    "collapsed": false,
    "pycharm": {
     "name": "#%%\n"
    }
   }
  },
  {
   "cell_type": "code",
   "execution_count": 16,
   "outputs": [
    {
     "name": "stdout",
     "output_type": "stream",
     "text": [
      "Topic: 0 Word: 0.093*\"import\" + 0.043*\"help\" + 0.041*\"good\" + 0.040*\"posit\" + 0.039*\"download\" + 0.032*\"idea\" + 0.027*\"hope\" + 0.019*\"right\" + 0.018*\"applic\" + 0.016*\"need\"\n",
      "Topic: 1 Word: 0.038*\"oneplus\" + 0.037*\"phone\" + 0.035*\"work\" + 0.034*\"thing\" + 0.028*\"turn\" + 0.027*\"crash\" + 0.027*\"open\" + 0.026*\"thank\" + 0.026*\"applic\" + 0.025*\"program\"\n",
      "Topic: 2 Word: 0.050*\"safe\" + 0.037*\"applic\" + 0.033*\"good\" + 0.032*\"find\" + 0.030*\"download\" + 0.027*\"start\" + 0.025*\"announc\" + 0.023*\"tri\" + 0.022*\"nice\" + 0.022*\"locat\"\n",
      "Topic: 3 Word: 0.084*\"work\" + 0.051*\"face\" + 0.042*\"know\" + 0.036*\"smile\" + 0.036*\"need\" + 0.030*\"never\" + 0.028*\"help\" + 0.028*\"case\" + 0.021*\"locat\" + 0.020*\"phone\"\n",
      "Topic: 4 Word: 0.055*\"use\" + 0.037*\"locat\" + 0.030*\"emerg\" + 0.029*\"call\" + 0.028*\"applic\" + 0.026*\"work\" + 0.023*\"center\" + 0.022*\"coordin\" + 0.021*\"batteri\" + 0.021*\"everyon\"\n",
      "Topic: 5 Word: 0.074*\"necessari\" + 0.035*\"emerg\" + 0.035*\"thumb\" + 0.030*\"good\" + 0.029*\"know\" + 0.027*\"realli\" + 0.026*\"phone\" + 0.024*\"call\" + 0.022*\"lose\" + 0.020*\"applic\"\n",
      "Topic: 6 Word: 0.033*\"number\" + 0.032*\"program\" + 0.031*\"instal\" + 0.026*\"emerg\" + 0.026*\"good\" + 0.024*\"locat\" + 0.023*\"call\" + 0.021*\"could\" + 0.019*\"test\" + 0.019*\"phone\"\n",
      "Topic: 7 Word: 0.322*\"good\" + 0.062*\"great\" + 0.030*\"easi\" + 0.028*\"emerg\" + 0.026*\"call\" + 0.021*\"applic\" + 0.018*\"life\" + 0.016*\"work\" + 0.015*\"come\" + 0.015*\"phone\"\n",
      "Topic: 8 Word: 0.065*\"number\" + 0.037*\"time\" + 0.035*\"save\" + 0.027*\"easier\" + 0.027*\"phone\" + 0.027*\"emerg\" + 0.021*\"help\" + 0.020*\"finland\" + 0.019*\"ask\" + 0.019*\"person\"\n",
      "Topic: 9 Word: 0.052*\"good\" + 0.050*\"realli\" + 0.050*\"updat\" + 0.032*\"immedi\" + 0.031*\"need\" + 0.029*\"applic\" + 0.022*\"practic\" + 0.020*\"use\" + 0.020*\"crash\" + 0.020*\"work\"\n"
     ]
    }
   ],
   "source": [
    "import gensim\n",
    "lda_model_tfidf = gensim.models.LdaMulticore(corpus_tfidf, num_topics=10, id2word=dictionary, passes=2, workers=4)\n",
    "for idx, topic in lda_model_tfidf.print_topics(-1):\n",
    "    print('Topic: {} Word: {}'.format(idx, topic))"
   ],
   "metadata": {
    "collapsed": false,
    "pycharm": {
     "name": "#%%\n"
    }
   }
  },
  {
   "cell_type": "code",
   "execution_count": 17,
   "outputs": [
    {
     "name": "stdout",
     "output_type": "stream",
     "text": [
      "\n",
      "Score: 0.47235599160194397\t \n",
      "Topic: 0.065*\"number\" + 0.037*\"time\" + 0.035*\"save\" + 0.027*\"easier\" + 0.027*\"phone\" + 0.027*\"emerg\" + 0.021*\"help\" + 0.020*\"finland\" + 0.019*\"ask\" + 0.019*\"person\"\n",
      "\n",
      "Score: 0.43873053789138794\t \n",
      "Topic: 0.055*\"use\" + 0.037*\"locat\" + 0.030*\"emerg\" + 0.029*\"call\" + 0.028*\"applic\" + 0.026*\"work\" + 0.023*\"center\" + 0.022*\"coordin\" + 0.021*\"batteri\" + 0.021*\"everyon\"\n",
      "\n",
      "Score: 0.011116859503090382\t \n",
      "Topic: 0.084*\"work\" + 0.051*\"face\" + 0.042*\"know\" + 0.036*\"smile\" + 0.036*\"need\" + 0.030*\"never\" + 0.028*\"help\" + 0.028*\"case\" + 0.021*\"locat\" + 0.020*\"phone\"\n",
      "\n",
      "Score: 0.011116379871964455\t \n",
      "Topic: 0.074*\"necessari\" + 0.035*\"emerg\" + 0.035*\"thumb\" + 0.030*\"good\" + 0.029*\"know\" + 0.027*\"realli\" + 0.026*\"phone\" + 0.024*\"call\" + 0.022*\"lose\" + 0.020*\"applic\"\n",
      "\n",
      "Score: 0.011113779619336128\t \n",
      "Topic: 0.050*\"safe\" + 0.037*\"applic\" + 0.033*\"good\" + 0.032*\"find\" + 0.030*\"download\" + 0.027*\"start\" + 0.025*\"announc\" + 0.023*\"tri\" + 0.022*\"nice\" + 0.022*\"locat\"\n",
      "\n",
      "Score: 0.011113712564110756\t \n",
      "Topic: 0.033*\"number\" + 0.032*\"program\" + 0.031*\"instal\" + 0.026*\"emerg\" + 0.026*\"good\" + 0.024*\"locat\" + 0.023*\"call\" + 0.021*\"could\" + 0.019*\"test\" + 0.019*\"phone\"\n",
      "\n",
      "Score: 0.011113394983112812\t \n",
      "Topic: 0.093*\"import\" + 0.043*\"help\" + 0.041*\"good\" + 0.040*\"posit\" + 0.039*\"download\" + 0.032*\"idea\" + 0.027*\"hope\" + 0.019*\"right\" + 0.018*\"applic\" + 0.016*\"need\"\n",
      "\n",
      "Score: 0.011113266460597515\t \n",
      "Topic: 0.038*\"oneplus\" + 0.037*\"phone\" + 0.035*\"work\" + 0.034*\"thing\" + 0.028*\"turn\" + 0.027*\"crash\" + 0.027*\"open\" + 0.026*\"thank\" + 0.026*\"applic\" + 0.025*\"program\"\n",
      "\n",
      "Score: 0.011113042011857033\t \n",
      "Topic: 0.322*\"good\" + 0.062*\"great\" + 0.030*\"easi\" + 0.028*\"emerg\" + 0.026*\"call\" + 0.021*\"applic\" + 0.018*\"life\" + 0.016*\"work\" + 0.015*\"come\" + 0.015*\"phone\"\n",
      "\n",
      "Score: 0.011113029904663563\t \n",
      "Topic: 0.052*\"good\" + 0.050*\"realli\" + 0.050*\"updat\" + 0.032*\"immedi\" + 0.031*\"need\" + 0.029*\"applic\" + 0.022*\"practic\" + 0.020*\"use\" + 0.020*\"crash\" + 0.020*\"work\"\n"
     ]
    }
   ],
   "source": [
    "for index, score in sorted(lda_model_tfidf[bow_corpus[1]], key=lambda tup: -1*tup[1]):\n",
    "    print(\"\\nScore: {}\\t \\nTopic: {}\".format(score, lda_model_tfidf.print_topic(index, 10)))"
   ],
   "metadata": {
    "collapsed": false,
    "pycharm": {
     "name": "#%%\n"
    }
   }
  },
  {
   "cell_type": "code",
   "execution_count": null,
   "outputs": [],
   "source": [],
   "metadata": {
    "collapsed": false,
    "pycharm": {
     "name": "#%%\n"
    }
   }
  }
 ],
 "metadata": {
  "kernelspec": {
   "display_name": "Python 3",
   "language": "python",
   "name": "python3"
  },
  "language_info": {
   "codemirror_mode": {
    "name": "ipython",
    "version": 2
   },
   "file_extension": ".py",
   "mimetype": "text/x-python",
   "name": "python",
   "nbconvert_exporter": "python",
   "pygments_lexer": "ipython2",
   "version": "2.7.6"
  }
 },
 "nbformat": 4,
 "nbformat_minor": 0
}