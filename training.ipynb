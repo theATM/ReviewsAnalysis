{
 "cells": [
  {
   "cell_type": "code",
   "execution_count": 1,
   "metadata": {
    "collapsed": true,
    "pycharm": {
     "name": "#%%\n"
    }
   },
   "outputs": [],
   "source": [
    "#Imports\n",
    "import numpy as np\n",
    "import pandas as pd\n",
    "import os"
   ]
  },
  {
   "cell_type": "code",
   "execution_count": 17,
   "outputs": [],
   "source": [
    "#Load transated data with sentiment calculated\n",
    "import utils, importlib\n",
    "importlib.reload(utils)\n",
    "data1g = pd.read_csv(\"data\"+os.sep+\"part\"+os.sep+\"Suomi112_cpd_google.csv\", encoding='utf-8-sig')\n",
    "data1g.drop(['Unnamed: 0','userName', 'reviewId', 'at','reviewCreatedVersion','score','thumbsUpCount'], axis=1, inplace=True)\n",
    "data1g['type'] = utils.souce_type_dict[\"Suomi112_google\"]\n",
    "data1a = pd.read_csv(\"data\"+os.sep+\"part\"+os.sep+\"Suomi112_cpd_apple.csv\", encoding='utf-8-sig')\n",
    "data1a.drop(['Unnamed: 0','title', 'date', 'rating'], axis=1, inplace=True)\n",
    "data1a['type'] = utils.souce_type_dict[\"Suomi112_apple\"]\n",
    "data2g = pd.read_csv(\"data\"+os.sep+\"part\"+os.sep+\"SosLive_cpd_google.csv\", encoding='utf-8-sig')\n",
    "data2g.drop(['Unnamed: 0','userName', 'reviewId', 'at','reviewCreatedVersion','score','thumbsUpCount'], axis=1, inplace=True)\n",
    "data2g['type'] = utils.souce_type_dict[\"SosLive_google\"]\n",
    "data2a = pd.read_csv(\"data\"+os.sep+\"part\"+os.sep+\"SosLive_cpd_apple.csv\", encoding='utf-8-sig')\n",
    "data2a.drop(['Unnamed: 0','title', 'date', 'rating','developerResponse'], axis=1, inplace=True)\n",
    "data2a['type'] = utils.souce_type_dict[\"SosLive_apple\"]\n",
    "#Merge all sources into one big dataframe (the type attrib will remember the source)\n",
    "data = pd.concat([data1g,data1a,data2g,data2a],ignore_index = True)"
   ],
   "metadata": {
    "collapsed": false,
    "pycharm": {
     "name": "#%%\n"
    }
   }
  },
  {
   "cell_type": "code",
   "execution_count": 18,
   "outputs": [
    {
     "data": {
      "text/plain": "                                                content sentiment  type\n0     The program is clear to use, only some informa...  Positive     0\n1     The cerebral infarction patient was asked to v...  Negative     0\n2     The 112 icon disappeared from the phone screen...  Positive     0\n3        Positioning accuracy 1300m when I'm at home. 👎  Negative     0\n4                                  A comfortable device  Negative     0\n...                                                 ...       ...   ...\n1890    Good App but it is not accessible for the deaf.  Positive     3\n1891                                           Good app  Positive     3\n1892  However, the app lacks a lock or similar so th...  Positive     3\n1893  Crazy that this didn't come up sooner. But bet...  Positive     3\n1894  Good app to have... however, I feel that after...  Positive     3\n\n[1895 rows x 3 columns]",
      "text/html": "<div>\n<style scoped>\n    .dataframe tbody tr th:only-of-type {\n        vertical-align: middle;\n    }\n\n    .dataframe tbody tr th {\n        vertical-align: top;\n    }\n\n    .dataframe thead th {\n        text-align: right;\n    }\n</style>\n<table border=\"1\" class=\"dataframe\">\n  <thead>\n    <tr style=\"text-align: right;\">\n      <th></th>\n      <th>content</th>\n      <th>sentiment</th>\n      <th>type</th>\n    </tr>\n  </thead>\n  <tbody>\n    <tr>\n      <th>0</th>\n      <td>The program is clear to use, only some informa...</td>\n      <td>Positive</td>\n      <td>0</td>\n    </tr>\n    <tr>\n      <th>1</th>\n      <td>The cerebral infarction patient was asked to v...</td>\n      <td>Negative</td>\n      <td>0</td>\n    </tr>\n    <tr>\n      <th>2</th>\n      <td>The 112 icon disappeared from the phone screen...</td>\n      <td>Positive</td>\n      <td>0</td>\n    </tr>\n    <tr>\n      <th>3</th>\n      <td>Positioning accuracy 1300m when I'm at home. 👎</td>\n      <td>Negative</td>\n      <td>0</td>\n    </tr>\n    <tr>\n      <th>4</th>\n      <td>A comfortable device</td>\n      <td>Negative</td>\n      <td>0</td>\n    </tr>\n    <tr>\n      <th>...</th>\n      <td>...</td>\n      <td>...</td>\n      <td>...</td>\n    </tr>\n    <tr>\n      <th>1890</th>\n      <td>Good App but it is not accessible for the deaf.</td>\n      <td>Positive</td>\n      <td>3</td>\n    </tr>\n    <tr>\n      <th>1891</th>\n      <td>Good app</td>\n      <td>Positive</td>\n      <td>3</td>\n    </tr>\n    <tr>\n      <th>1892</th>\n      <td>However, the app lacks a lock or similar so th...</td>\n      <td>Positive</td>\n      <td>3</td>\n    </tr>\n    <tr>\n      <th>1893</th>\n      <td>Crazy that this didn't come up sooner. But bet...</td>\n      <td>Positive</td>\n      <td>3</td>\n    </tr>\n    <tr>\n      <th>1894</th>\n      <td>Good app to have... however, I feel that after...</td>\n      <td>Positive</td>\n      <td>3</td>\n    </tr>\n  </tbody>\n</table>\n<p>1895 rows × 3 columns</p>\n</div>"
     },
     "execution_count": 18,
     "metadata": {},
     "output_type": "execute_result"
    }
   ],
   "source": [
    "#Print the data:\n",
    "data"
   ],
   "metadata": {
    "collapsed": false,
    "pycharm": {
     "name": "#%%\n"
    }
   }
  },
  {
   "cell_type": "code",
   "execution_count": 19,
   "outputs": [],
   "source": [
    "#Recode the sentiment\n",
    "import utils, importlib\n",
    "importlib.reload(utils)\n",
    "data['sentiment'] = [utils.sentiment_dict[sent] for sent in data['sentiment']]\n",
    "#data.loc[data['sentiment'] == utils.sentiment_dict[\"Neutral\"], 'sentiment'] = utils.sentiment_dict[\"Negative\"] # See Neutral as Negative\n",
    "data = data.drop(data[data[\"sentiment\"] == utils.sentiment_dict[\"Neutral\"]].index) # Remove Neutral Reviews"
   ],
   "metadata": {
    "collapsed": false,
    "pycharm": {
     "name": "#%%\n"
    }
   }
  },
  {
   "cell_type": "code",
   "execution_count": 22,
   "outputs": [
    {
     "name": "stderr",
     "output_type": "stream",
     "text": [
      "[nltk_data] Downloading package stopwords to data/lib/stopwords...\n",
      "[nltk_data]   Package stopwords is already up-to-date!\n",
      "[nltk_data] Downloading package wordnet to data/lib/wordnet...\n",
      "[nltk_data]   Package wordnet is already up-to-date!\n",
      "[nltk_data] Downloading package omw-1.4 to data/lib/omw...\n",
      "[nltk_data]   Package omw-1.4 is already up-to-date!\n"
     ]
    }
   ],
   "source": [
    "#Preprocess the data\n",
    "import utils, importlib\n",
    "importlib.reload(utils) # to keep the .py file up to date when coding\n",
    "processor = utils.Processor() # Init preprocessing <- there is a path to set up where to dowloads this v\n",
    "processor.ini_dowload() #dowload all the nessesary files to do the preprocesing (like the dictionary of the stopwords)\n",
    "data['content'] = data['content'].apply(lambda x: processor.preprocess(str(x))) #Used to get rid of the unnesesary characters and to stringify the emogis\n",
    "data['content'] = data['content'].apply(lambda x: processor.tokenize(x)) # This is needed in the mext steps\n",
    "data['content'] = data['content'].apply(lambda x: processor.remove_stopwords(x,remove_len=2)) # Remove stopwords (like in the topic task)\n",
    "data['content'] = data['content'].apply(lambda x: processor.process_tokens(x))  # Strip the words into the root words\n",
    "data['content'] = data['content'].apply(lambda x: processor.detokenize(x)) # Go back form tokens to text. Because sklearn Vektorizer neads text"
   ],
   "metadata": {
    "collapsed": false,
    "pycharm": {
     "name": "#%%\n"
    }
   }
  },
  {
   "cell_type": "code",
   "execution_count": 23,
   "outputs": [
    {
     "name": "stdout",
     "output_type": "stream",
     "text": [
      "Positive : 962\n",
      "Negative : 514\n",
      "Suomi112 google : 954\n",
      "Suomi112 apple : 132\n",
      "SosLive google : 105\n",
      "SosLive apple : 285\n"
     ]
    }
   ],
   "source": [
    "#Check the distribution of the data\n",
    "import utils, importlib\n",
    "importlib.reload(utils)\n",
    "utils.count_data_stat(data)"
   ],
   "metadata": {
    "collapsed": false,
    "pycharm": {
     "name": "#%%\n"
    }
   }
  },
  {
   "cell_type": "code",
   "execution_count": 24,
   "outputs": [],
   "source": [
    "#make data more balanced - optional (or use weigths in the classifier)\n",
    "#rem_idxs = data[data.sentiment==sentiment_dict[\"Positive\"]].sample(frac = 0.5,random_state=0).index\n",
    "#data = data.drop(rem_idxs)"
   ],
   "metadata": {
    "collapsed": false,
    "pycharm": {
     "name": "#%%\n"
    }
   }
  },
  {
   "cell_type": "code",
   "execution_count": 25,
   "outputs": [],
   "source": [
    "#split the data to train i test sets\n",
    "test = data.sample(frac = 0.2,random_state=0)\n",
    "train = data.drop(test.index)\n",
    "#print(\"Siema Janek\")"
   ],
   "metadata": {
    "collapsed": false,
    "pycharm": {
     "name": "#%%\n"
    }
   }
  },
  {
   "cell_type": "code",
   "execution_count": 26,
   "outputs": [
    {
     "name": "stdout",
     "output_type": "stream",
     "text": [
      "Train:  1181\n",
      "Positive : 768\n",
      "Negative : 413\n",
      "Suomi112 google : 765\n",
      "Suomi112 apple : 103\n",
      "SosLive google : 83\n",
      "SosLive apple : 230\n",
      "Test:  295\n",
      "Positive : 194\n",
      "Negative : 101\n",
      "Suomi112 google : 189\n",
      "Suomi112 apple : 29\n",
      "SosLive google : 22\n",
      "SosLive apple : 55\n"
     ]
    }
   ],
   "source": [
    "#Print the test/train proportions:\n",
    "print(\"Train: \",len(train.content))\n",
    "utils.count_data_stat(train)\n",
    "print(\"Test: \", len(test.content))\n",
    "utils.count_data_stat(test)"
   ],
   "metadata": {
    "collapsed": false,
    "pycharm": {
     "name": "#%%\n"
    }
   }
  },
  {
   "cell_type": "code",
   "execution_count": 27,
   "outputs": [],
   "source": [
    "#Vectorize the text into features model can understand:\n",
    "from sklearn.feature_extraction.text import TfidfVectorizer\n",
    "from nltk.corpus import stopwords\n",
    "vectorizer = TfidfVectorizer(ngram_range = (2,3))\n",
    "vectorizer.fit(list(train['content']))\n",
    "train_X = vectorizer.transform(list(train['content']))\n",
    "test_X = vectorizer.transform(list(test['content']))"
   ],
   "metadata": {
    "collapsed": false,
    "pycharm": {
     "name": "#%%\n"
    }
   }
  },
  {
   "cell_type": "code",
   "execution_count": 28,
   "outputs": [
    {
     "data": {
      "text/plain": "RandomForestClassifier(class_weight={0: 1, 1: 0.5}, max_depth=200,\n                       n_estimators=1000, random_state=0)",
      "text/html": "<style>#sk-container-id-2 {color: black;background-color: white;}#sk-container-id-2 pre{padding: 0;}#sk-container-id-2 div.sk-toggleable {background-color: white;}#sk-container-id-2 label.sk-toggleable__label {cursor: pointer;display: block;width: 100%;margin-bottom: 0;padding: 0.3em;box-sizing: border-box;text-align: center;}#sk-container-id-2 label.sk-toggleable__label-arrow:before {content: \"▸\";float: left;margin-right: 0.25em;color: #696969;}#sk-container-id-2 label.sk-toggleable__label-arrow:hover:before {color: black;}#sk-container-id-2 div.sk-estimator:hover label.sk-toggleable__label-arrow:before {color: black;}#sk-container-id-2 div.sk-toggleable__content {max-height: 0;max-width: 0;overflow: hidden;text-align: left;background-color: #f0f8ff;}#sk-container-id-2 div.sk-toggleable__content pre {margin: 0.2em;color: black;border-radius: 0.25em;background-color: #f0f8ff;}#sk-container-id-2 input.sk-toggleable__control:checked~div.sk-toggleable__content {max-height: 200px;max-width: 100%;overflow: auto;}#sk-container-id-2 input.sk-toggleable__control:checked~label.sk-toggleable__label-arrow:before {content: \"▾\";}#sk-container-id-2 div.sk-estimator input.sk-toggleable__control:checked~label.sk-toggleable__label {background-color: #d4ebff;}#sk-container-id-2 div.sk-label input.sk-toggleable__control:checked~label.sk-toggleable__label {background-color: #d4ebff;}#sk-container-id-2 input.sk-hidden--visually {border: 0;clip: rect(1px 1px 1px 1px);clip: rect(1px, 1px, 1px, 1px);height: 1px;margin: -1px;overflow: hidden;padding: 0;position: absolute;width: 1px;}#sk-container-id-2 div.sk-estimator {font-family: monospace;background-color: #f0f8ff;border: 1px dotted black;border-radius: 0.25em;box-sizing: border-box;margin-bottom: 0.5em;}#sk-container-id-2 div.sk-estimator:hover {background-color: #d4ebff;}#sk-container-id-2 div.sk-parallel-item::after {content: \"\";width: 100%;border-bottom: 1px solid gray;flex-grow: 1;}#sk-container-id-2 div.sk-label:hover label.sk-toggleable__label {background-color: #d4ebff;}#sk-container-id-2 div.sk-serial::before {content: \"\";position: absolute;border-left: 1px solid gray;box-sizing: border-box;top: 0;bottom: 0;left: 50%;z-index: 0;}#sk-container-id-2 div.sk-serial {display: flex;flex-direction: column;align-items: center;background-color: white;padding-right: 0.2em;padding-left: 0.2em;position: relative;}#sk-container-id-2 div.sk-item {position: relative;z-index: 1;}#sk-container-id-2 div.sk-parallel {display: flex;align-items: stretch;justify-content: center;background-color: white;position: relative;}#sk-container-id-2 div.sk-item::before, #sk-container-id-2 div.sk-parallel-item::before {content: \"\";position: absolute;border-left: 1px solid gray;box-sizing: border-box;top: 0;bottom: 0;left: 50%;z-index: -1;}#sk-container-id-2 div.sk-parallel-item {display: flex;flex-direction: column;z-index: 1;position: relative;background-color: white;}#sk-container-id-2 div.sk-parallel-item:first-child::after {align-self: flex-end;width: 50%;}#sk-container-id-2 div.sk-parallel-item:last-child::after {align-self: flex-start;width: 50%;}#sk-container-id-2 div.sk-parallel-item:only-child::after {width: 0;}#sk-container-id-2 div.sk-dashed-wrapped {border: 1px dashed gray;margin: 0 0.4em 0.5em 0.4em;box-sizing: border-box;padding-bottom: 0.4em;background-color: white;}#sk-container-id-2 div.sk-label label {font-family: monospace;font-weight: bold;display: inline-block;line-height: 1.2em;}#sk-container-id-2 div.sk-label-container {text-align: center;}#sk-container-id-2 div.sk-container {/* jupyter's `normalize.less` sets `[hidden] { display: none; }` but bootstrap.min.css set `[hidden] { display: none !important; }` so we also need the `!important` here to be able to override the default hidden behavior on the sphinx rendered scikit-learn.org. See: https://github.com/scikit-learn/scikit-learn/issues/21755 */display: inline-block !important;position: relative;}#sk-container-id-2 div.sk-text-repr-fallback {display: none;}</style><div id=\"sk-container-id-2\" class=\"sk-top-container\"><div class=\"sk-text-repr-fallback\"><pre>RandomForestClassifier(class_weight={0: 1, 1: 0.5}, max_depth=200,\n                       n_estimators=1000, random_state=0)</pre><b>In a Jupyter environment, please rerun this cell to show the HTML representation or trust the notebook. <br />On GitHub, the HTML representation is unable to render, please try loading this page with nbviewer.org.</b></div><div class=\"sk-container\" hidden><div class=\"sk-item\"><div class=\"sk-estimator sk-toggleable\"><input class=\"sk-toggleable__control sk-hidden--visually\" id=\"sk-estimator-id-2\" type=\"checkbox\" checked><label for=\"sk-estimator-id-2\" class=\"sk-toggleable__label sk-toggleable__label-arrow\">RandomForestClassifier</label><div class=\"sk-toggleable__content\"><pre>RandomForestClassifier(class_weight={0: 1, 1: 0.5}, max_depth=200,\n                       n_estimators=1000, random_state=0)</pre></div></div></div></div></div>"
     },
     "execution_count": 28,
     "metadata": {},
     "output_type": "execute_result"
    }
   ],
   "source": [
    "#Choose and create classifier aka model aka clf:\n",
    "from sklearn import svm\n",
    "from sklearn.ensemble import RandomForestClassifier\n",
    "#Feel free to change the params of the model to make them better:\n",
    "clf = RandomForestClassifier(n_estimators=1000, max_depth=200,min_samples_leaf=1,max_features=\"sqrt\", criterion=\"gini\", random_state=0, class_weight={0:1,1:0.5})\n",
    "#clf = svm.SVC(kernel = \"poly\",degree=3, gamma=\"scale\", C=1000,class_weight={0:1,1:0.5})\n",
    "#And train it:\n",
    "clf.fit(train_X, train['sentiment'])"
   ],
   "metadata": {
    "collapsed": false,
    "pycharm": {
     "name": "#%%\n"
    }
   }
  },
  {
   "cell_type": "code",
   "execution_count": 29,
   "outputs": [
    {
     "name": "stdout",
     "output_type": "stream",
     "text": [
      "Training Acc =  0.9635901778154107\n",
      "Test Acc =  0.7084745762711865\n"
     ]
    }
   ],
   "source": [
    "#Perform the predicitons\n",
    "#And print out the accuracies - mind the class unbalance!\n",
    "from sklearn.metrics import accuracy_score\n",
    "train_Y = clf.predict(train_X)\n",
    "train_acc = accuracy_score(train['sentiment'],train_Y)\n",
    "print(\"Training Acc = \",train_acc)\n",
    "\n",
    "test_Y = clf.predict(test_X)\n",
    "test_acc = accuracy_score(test['sentiment'],test_Y)\n",
    "print(\"Test Acc = \",test_acc)"
   ],
   "metadata": {
    "collapsed": false,
    "pycharm": {
     "name": "#%%\n"
    }
   }
  },
  {
   "cell_type": "code",
   "execution_count": 30,
   "outputs": [
    {
     "data": {
      "text/plain": "<sklearn.metrics._plot.confusion_matrix.ConfusionMatrixDisplay at 0x7fc1e3084250>"
     },
     "execution_count": 30,
     "metadata": {},
     "output_type": "execute_result"
    },
    {
     "data": {
      "text/plain": "<Figure size 1200x500 with 4 Axes>",
      "image/png": "[encoded data removed]"
     },
     "metadata": {},
     "output_type": "display_data"
    }
   ],
   "source": [
    "# Compute the confusion matrix function for training data and testing data respectively - best visualize of the model performance\n",
    "from sklearn.metrics import confusion_matrix, ConfusionMatrixDisplay\n",
    "import matplotlib.pyplot as plt\n",
    "labels = ['happy', 'sad']\n",
    "fig, ax = plt.subplots(1, 2, figsize=(12, 5))\n",
    "\n",
    "# Calculate the confusion matrix when classifying the training data\n",
    "ax[0].title.set_text('Training data confusion matrix:')\n",
    "cm = confusion_matrix(train['sentiment'],train_Y)\n",
    "cmd = ConfusionMatrixDisplay(cm, display_labels=['Negative', 'Positive'])\n",
    "cmd.plot(ax=ax[0])\n",
    "\n",
    "# Calculate the confusion matrix when classifying the testing data\n",
    "ax[1].title.set_text('Testing data confusion matrix:')\n",
    "cm2 = confusion_matrix(test['sentiment'],test_Y)\n",
    "cmd2 = ConfusionMatrixDisplay(cm2, display_labels=['Negative', 'Positive'])\n",
    "cmd2.plot(ax=ax[1])"
   ],
   "metadata": {
    "collapsed": false,
    "pycharm": {
     "name": "#%%\n"
    }
   }
  },
  {
   "cell_type": "code",
   "execution_count": 31,
   "outputs": [],
   "source": [
    "########Feature extraction:\n",
    "#Create Feature selection tool:\n",
    "from sklearn.feature_selection import SelectFromModel\n",
    "sel = SelectFromModel(clf,prefit=True, max_features = 200)"
   ],
   "metadata": {
    "collapsed": false,
    "pycharm": {
     "name": "#%%\n"
    }
   }
  },
  {
   "cell_type": "code",
   "execution_count": 32,
   "outputs": [],
   "source": [
    "#Select N best features and print them:\n",
    "from itertools import compress\n",
    "features = pd.DataFrame()\n",
    "features[\"idx\"] = sel.get_support(indices=True)\n",
    "features[\"importance\"] = sel.estimator.feature_importances_[features[\"idx\"]]\n",
    "features[\"names\"] =  np.array(vectorizer.get_feature_names_out())[features[\"idx\"]]\n",
    "features[\"prediction\"] = clf.predict(vectorizer.transform(features[\"names\"]))"
   ],
   "metadata": {
    "collapsed": false,
    "pycharm": {
     "name": "#%%\n"
    }
   }
  },
  {
   "cell_type": "code",
   "execution_count": 33,
   "outputs": [
    {
     "data": {
      "text/plain": "       idx  importance           names  prediction\n0       12    0.001220       abl choos           1\n1      214    0.000815    accid situat           1\n2      223    0.000976   accident call           1\n3     1000    0.000741  announc corona           1\n4     1047    0.000541    announc time           1\n..     ...         ...             ...         ...\n195  22342    0.000562      would like           1\n196  22363    0.000619      would nice           1\n197  22379    0.000860   would possibl           1\n198  22455    0.000589    write number           1\n199  22486    0.001636     wrong place           1\n\n[200 rows x 4 columns]",
      "text/html": "<div>\n<style scoped>\n    .dataframe tbody tr th:only-of-type {\n        vertical-align: middle;\n    }\n\n    .dataframe tbody tr th {\n        vertical-align: top;\n    }\n\n    .dataframe thead th {\n        text-align: right;\n    }\n</style>\n<table border=\"1\" class=\"dataframe\">\n  <thead>\n    <tr style=\"text-align: right;\">\n      <th></th>\n      <th>idx</th>\n      <th>importance</th>\n      <th>names</th>\n      <th>prediction</th>\n    </tr>\n  </thead>\n  <tbody>\n    <tr>\n      <th>0</th>\n      <td>12</td>\n      <td>0.001220</td>\n      <td>abl choos</td>\n      <td>1</td>\n    </tr>\n    <tr>\n      <th>1</th>\n      <td>214</td>\n      <td>0.000815</td>\n      <td>accid situat</td>\n      <td>1</td>\n    </tr>\n    <tr>\n      <th>2</th>\n      <td>223</td>\n      <td>0.000976</td>\n      <td>accident call</td>\n      <td>1</td>\n    </tr>\n    <tr>\n      <th>3</th>\n      <td>1000</td>\n      <td>0.000741</td>\n      <td>announc corona</td>\n      <td>1</td>\n    </tr>\n    <tr>\n      <th>4</th>\n      <td>1047</td>\n      <td>0.000541</td>\n      <td>announc time</td>\n      <td>1</td>\n    </tr>\n    <tr>\n      <th>...</th>\n      <td>...</td>\n      <td>...</td>\n      <td>...</td>\n      <td>...</td>\n    </tr>\n    <tr>\n      <th>195</th>\n      <td>22342</td>\n      <td>0.000562</td>\n      <td>would like</td>\n      <td>1</td>\n    </tr>\n    <tr>\n      <th>196</th>\n      <td>22363</td>\n      <td>0.000619</td>\n      <td>would nice</td>\n      <td>1</td>\n    </tr>\n    <tr>\n      <th>197</th>\n      <td>22379</td>\n      <td>0.000860</td>\n      <td>would possibl</td>\n      <td>1</td>\n    </tr>\n    <tr>\n      <th>198</th>\n      <td>22455</td>\n      <td>0.000589</td>\n      <td>write number</td>\n      <td>1</td>\n    </tr>\n    <tr>\n      <th>199</th>\n      <td>22486</td>\n      <td>0.001636</td>\n      <td>wrong place</td>\n      <td>1</td>\n    </tr>\n  </tbody>\n</table>\n<p>200 rows × 4 columns</p>\n</div>"
     },
     "execution_count": 33,
     "metadata": {},
     "output_type": "execute_result"
    }
   ],
   "source": [
    "features"
   ],
   "metadata": {
    "collapsed": false,
    "pycharm": {
     "name": "#%%\n"
    }
   }
  },
  {
   "cell_type": "code",
   "execution_count": null,
   "outputs": [],
   "source": [],
   "metadata": {
    "collapsed": false,
    "pycharm": {
     "name": "#%%\n"
    }
   }
  }
 ],
 "metadata": {
  "kernelspec": {
   "display_name": "Python 3",
   "language": "python",
   "name": "python3"
  },
  "language_info": {
   "codemirror_mode": {
    "name": "ipython",
    "version": 2
   },
   "file_extension": ".py",
   "mimetype": "text/x-python",
   "name": "python",
   "nbconvert_exporter": "python",
   "pygments_lexer": "ipython2",
   "version": "2.7.6"
  }
 },
 "nbformat": 4,
 "nbformat_minor": 0
}