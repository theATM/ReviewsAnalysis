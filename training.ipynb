{
 "cells": [
  {
   "cell_type": "code",
   "execution_count": 33,
   "metadata": {
    "collapsed": true
   },
   "outputs": [],
   "source": [
    "#Load Data:\n",
    "import pandas as pd\n",
    "import os\n",
    "data1g = pd.read_csv(\"data\"+os.sep+\"part\"+os.sep+\"Suomi112_cpd_google.csv\", encoding='utf-8-sig')\n",
    "data1g.drop(['Unnamed: 0','userName', 'reviewId', 'at','reviewCreatedVersion','score','thumbsUpCount'], axis=1, inplace=True)\n",
    "data1a = pd.read_csv(\"data\"+os.sep+\"part\"+os.sep+\"Suomi112_cpd_apple.csv\", encoding='utf-8-sig')\n",
    "data1a.drop(['Unnamed: 0','title', 'date', 'rating'], axis=1, inplace=True)\n",
    "data2g = pd.read_csv(\"data\"+os.sep+\"part\"+os.sep+\"SosLive_cpd_google.csv\", encoding='utf-8-sig')\n",
    "data2g.drop(['Unnamed: 0','userName', 'reviewId', 'at','reviewCreatedVersion','score','thumbsUpCount'], axis=1, inplace=True)\n",
    "data2a = pd.read_csv(\"data\"+os.sep+\"part\"+os.sep+\"SosLive_cpd_apple.csv\", encoding='utf-8-sig')\n",
    "data2a.drop(['Unnamed: 0','title', 'date', 'rating','developerResponse'], axis=1, inplace=True)\n",
    "data = pd.concat([data1g,data1g,data2g,data2a])"
   ]
  },
  {
   "cell_type": "code",
   "execution_count": 34,
   "outputs": [
    {
     "data": {
      "text/plain": "                                               content sentiment\n0    The program is clear to use, only some informa...  Positive\n1    The cerebral infarction patient was asked to v...  Negative\n2    The 112 icon disappeared from the phone screen...  Positive\n3       Positioning accuracy 1300m when I'm at home. 👎  Negative\n4                                 A comfortable device  Negative\n..                                                 ...       ...\n331    Good App but it is not accessible for the deaf.  Positive\n332                                           Good app  Positive\n333  However, the app lacks a lock or similar so th...  Positive\n334  Crazy that this didn't come up sooner. But bet...  Positive\n335  Good app to have... however, I feel that after...  Positive\n\n[2986 rows x 2 columns]",
      "text/html": "<div>\n<style scoped>\n    .dataframe tbody tr th:only-of-type {\n        vertical-align: middle;\n    }\n\n    .dataframe tbody tr th {\n        vertical-align: top;\n    }\n\n    .dataframe thead th {\n        text-align: right;\n    }\n</style>\n<table border=\"1\" class=\"dataframe\">\n  <thead>\n    <tr style=\"text-align: right;\">\n      <th></th>\n      <th>content</th>\n      <th>sentiment</th>\n    </tr>\n  </thead>\n  <tbody>\n    <tr>\n      <th>0</th>\n      <td>The program is clear to use, only some informa...</td>\n      <td>Positive</td>\n    </tr>\n    <tr>\n      <th>1</th>\n      <td>The cerebral infarction patient was asked to v...</td>\n      <td>Negative</td>\n    </tr>\n    <tr>\n      <th>2</th>\n      <td>The 112 icon disappeared from the phone screen...</td>\n      <td>Positive</td>\n    </tr>\n    <tr>\n      <th>3</th>\n      <td>Positioning accuracy 1300m when I'm at home. 👎</td>\n      <td>Negative</td>\n    </tr>\n    <tr>\n      <th>4</th>\n      <td>A comfortable device</td>\n      <td>Negative</td>\n    </tr>\n    <tr>\n      <th>...</th>\n      <td>...</td>\n      <td>...</td>\n    </tr>\n    <tr>\n      <th>331</th>\n      <td>Good App but it is not accessible for the deaf.</td>\n      <td>Positive</td>\n    </tr>\n    <tr>\n      <th>332</th>\n      <td>Good app</td>\n      <td>Positive</td>\n    </tr>\n    <tr>\n      <th>333</th>\n      <td>However, the app lacks a lock or similar so th...</td>\n      <td>Positive</td>\n    </tr>\n    <tr>\n      <th>334</th>\n      <td>Crazy that this didn't come up sooner. But bet...</td>\n      <td>Positive</td>\n    </tr>\n    <tr>\n      <th>335</th>\n      <td>Good app to have... however, I feel that after...</td>\n      <td>Positive</td>\n    </tr>\n  </tbody>\n</table>\n<p>2986 rows × 2 columns</p>\n</div>"
     },
     "execution_count": 34,
     "metadata": {},
     "output_type": "execute_result"
    }
   ],
   "source": [
    "data"
   ],
   "metadata": {
    "collapsed": false
   }
  },
  {
   "cell_type": "code",
   "execution_count": 35,
   "outputs": [
    {
     "data": {
      "text/plain": "                                               content  sentiment\n0    The program is clear to use, only some informa...          1\n1    The cerebral infarction patient was asked to v...          0\n2    The 112 icon disappeared from the phone screen...          1\n3       Positioning accuracy 1300m when I'm at home. 👎          0\n6                                           Don't swim          0\n..                                                 ...        ...\n330  It feels good that the app exists in case I am...          0\n331    Good App but it is not accessible for the deaf.          1\n333  However, the app lacks a lock or similar so th...          1\n334  Crazy that this didn't come up sooner. But bet...          1\n335  Good app to have... however, I feel that after...          1\n\n[2070 rows x 2 columns]",
      "text/html": "<div>\n<style scoped>\n    .dataframe tbody tr th:only-of-type {\n        vertical-align: middle;\n    }\n\n    .dataframe tbody tr th {\n        vertical-align: top;\n    }\n\n    .dataframe thead th {\n        text-align: right;\n    }\n</style>\n<table border=\"1\" class=\"dataframe\">\n  <thead>\n    <tr style=\"text-align: right;\">\n      <th></th>\n      <th>content</th>\n      <th>sentiment</th>\n    </tr>\n  </thead>\n  <tbody>\n    <tr>\n      <th>0</th>\n      <td>The program is clear to use, only some informa...</td>\n      <td>1</td>\n    </tr>\n    <tr>\n      <th>1</th>\n      <td>The cerebral infarction patient was asked to v...</td>\n      <td>0</td>\n    </tr>\n    <tr>\n      <th>2</th>\n      <td>The 112 icon disappeared from the phone screen...</td>\n      <td>1</td>\n    </tr>\n    <tr>\n      <th>3</th>\n      <td>Positioning accuracy 1300m when I'm at home. 👎</td>\n      <td>0</td>\n    </tr>\n    <tr>\n      <th>6</th>\n      <td>Don't swim</td>\n      <td>0</td>\n    </tr>\n    <tr>\n      <th>...</th>\n      <td>...</td>\n      <td>...</td>\n    </tr>\n    <tr>\n      <th>330</th>\n      <td>It feels good that the app exists in case I am...</td>\n      <td>0</td>\n    </tr>\n    <tr>\n      <th>331</th>\n      <td>Good App but it is not accessible for the deaf.</td>\n      <td>1</td>\n    </tr>\n    <tr>\n      <th>333</th>\n      <td>However, the app lacks a lock or similar so th...</td>\n      <td>1</td>\n    </tr>\n    <tr>\n      <th>334</th>\n      <td>Crazy that this didn't come up sooner. But bet...</td>\n      <td>1</td>\n    </tr>\n    <tr>\n      <th>335</th>\n      <td>Good app to have... however, I feel that after...</td>\n      <td>1</td>\n    </tr>\n  </tbody>\n</table>\n<p>2070 rows × 2 columns</p>\n</div>"
     },
     "execution_count": 35,
     "metadata": {},
     "output_type": "execute_result"
    }
   ],
   "source": [
    "sentiment_dict = \\\n",
    "{\n",
    "    \"Positive\" : 1,\n",
    "    \"Negative\" : 0,\n",
    "    \"Neutral\"  : -1,\n",
    "}\n",
    "data['sentiment'] = [sentiment_dict[sent] for sent in data['sentiment']]\n",
    "data = data.drop(data[data[\"sentiment\"] == sentiment_dict[\"Neutral\"]].index) # Remove Neutral Reviews\n",
    "data"
   ],
   "metadata": {
    "collapsed": false
   }
  },
  {
   "cell_type": "code",
   "execution_count": 36,
   "outputs": [
    {
     "name": "stderr",
     "output_type": "stream",
     "text": [
      "[nltk_data] Downloading package stopwords to data/lib/stopwords...\n",
      "[nltk_data]   Package stopwords is already up-to-date!\n",
      "[nltk_data] Downloading package wordnet to data/lib/wordnet...\n",
      "[nltk_data]   Package wordnet is already up-to-date!\n",
      "[nltk_data] Downloading package omw-1.4 to data/lib/omw...\n",
      "[nltk_data]   Package omw-1.4 is already up-to-date!\n"
     ]
    }
   ],
   "source": [
    "import utils, importlib\n",
    "importlib.reload(utils)\n",
    "processor = utils.Processor()\n",
    "processor.ini_dowload()\n",
    "data_cpoy = data"
   ],
   "metadata": {
    "collapsed": false
   }
  },
  {
   "cell_type": "code",
   "execution_count": 41,
   "outputs": [
    {
     "data": {
      "text/plain": "                                               content  sentiment\n0    [program, clear, inform, resuscit, inform, var...          1\n1    [cerebr, infarct, patient, ask, verifi, phone,...          0\n2    [icon, disappear, phone, screen, although, ope...          1\n3                       [posit, accuraci, home, thumb]          0\n6                                               [swim]          0\n..                                                 ...        ...\n330  [feel, good, exist, case, abus, someth, els, c...          0\n331                               [good, access, deaf]          1\n333  [howev, lack, lock, similar, littl, kid, accid...          1\n334         [crazi, come, sooner, better, late, never]          1\n335  [good, howev, feel, instal, mobil, phone, ipho...          1\n\n[2070 rows x 2 columns]",
      "text/html": "<div>\n<style scoped>\n    .dataframe tbody tr th:only-of-type {\n        vertical-align: middle;\n    }\n\n    .dataframe tbody tr th {\n        vertical-align: top;\n    }\n\n    .dataframe thead th {\n        text-align: right;\n    }\n</style>\n<table border=\"1\" class=\"dataframe\">\n  <thead>\n    <tr style=\"text-align: right;\">\n      <th></th>\n      <th>content</th>\n      <th>sentiment</th>\n    </tr>\n  </thead>\n  <tbody>\n    <tr>\n      <th>0</th>\n      <td>[program, clear, inform, resuscit, inform, var...</td>\n      <td>1</td>\n    </tr>\n    <tr>\n      <th>1</th>\n      <td>[cerebr, infarct, patient, ask, verifi, phone,...</td>\n      <td>0</td>\n    </tr>\n    <tr>\n      <th>2</th>\n      <td>[icon, disappear, phone, screen, although, ope...</td>\n      <td>1</td>\n    </tr>\n    <tr>\n      <th>3</th>\n      <td>[posit, accuraci, home, thumb]</td>\n      <td>0</td>\n    </tr>\n    <tr>\n      <th>6</th>\n      <td>[swim]</td>\n      <td>0</td>\n    </tr>\n    <tr>\n      <th>...</th>\n      <td>...</td>\n      <td>...</td>\n    </tr>\n    <tr>\n      <th>330</th>\n      <td>[feel, good, exist, case, abus, someth, els, c...</td>\n      <td>0</td>\n    </tr>\n    <tr>\n      <th>331</th>\n      <td>[good, access, deaf]</td>\n      <td>1</td>\n    </tr>\n    <tr>\n      <th>333</th>\n      <td>[howev, lack, lock, similar, littl, kid, accid...</td>\n      <td>1</td>\n    </tr>\n    <tr>\n      <th>334</th>\n      <td>[crazi, come, sooner, better, late, never]</td>\n      <td>1</td>\n    </tr>\n    <tr>\n      <th>335</th>\n      <td>[good, howev, feel, instal, mobil, phone, ipho...</td>\n      <td>1</td>\n    </tr>\n  </tbody>\n</table>\n<p>2070 rows × 2 columns</p>\n</div>"
     },
     "execution_count": 41,
     "metadata": {},
     "output_type": "execute_result"
    }
   ],
   "source": [
    "data['content'] = data['content'].apply(lambda x: processor.preprocess(str(x)))\n",
    "data['content'] = data['content'].apply(lambda x: processor.tokenize(x))\n",
    "data['content'] = data['content'].apply(lambda x: processor.remove_stopwords(x))\n",
    "data['content'] = data['content'].apply(lambda x: processor.process_tokens(x))\n",
    "data"
   ],
   "metadata": {
    "collapsed": false
   }
  },
  {
   "cell_type": "code",
   "execution_count": 155,
   "outputs": [],
   "source": [
    "data_cpoy = data"
   ],
   "metadata": {
    "collapsed": false
   }
  },
  {
   "cell_type": "code",
   "execution_count": 150,
   "outputs": [],
   "source": [
    "data = data_cpoy"
   ],
   "metadata": {
    "collapsed": false
   }
  },
  {
   "cell_type": "code",
   "execution_count": 151,
   "outputs": [
    {
     "data": {
      "text/plain": "                                               content  sentiment  \\\n0    [program, clear, inform, resuscit, inform, var...          1   \n1    [cerebr, infarct, patient, ask, verifi, phone,...          0   \n2    [icon, disappear, phone, screen, although, ope...          1   \n3                       [posit, accuraci, home, thumb]          0   \n6                                               [swim]          0   \n..                                                 ...        ...   \n330  [feel, good, exist, case, abus, someth, els, c...          0   \n331                               [good, access, deaf]          1   \n333  [howev, lack, lock, similar, littl, kid, accid...          1   \n334         [crazi, come, sooner, better, late, never]          1   \n335  [good, howev, feel, instal, mobil, phone, ipho...          1   \n\n                                                ngrams  \n0    [(program, clear), (clear, inform), (inform, r...  \n1    [(cerebr, infarct), (infarct, patient), (patie...  \n2    [(icon, disappear), (disappear, phone), (phone...  \n3    [(posit, accuraci), (accuraci, home), (home, t...  \n6                                                   []  \n..                                                 ...  \n330  [(feel, good), (good, exist), (exist, case), (...  \n331  [(good, access), (access, deaf), (good, access...  \n333  [(howev, lack), (lack, lock), (lock, similar),...  \n334  [(crazi, come), (come, sooner), (sooner, bette...  \n335  [(good, howev), (howev, feel), (feel, instal),...  \n\n[2070 rows x 3 columns]",
      "text/html": "<div>\n<style scoped>\n    .dataframe tbody tr th:only-of-type {\n        vertical-align: middle;\n    }\n\n    .dataframe tbody tr th {\n        vertical-align: top;\n    }\n\n    .dataframe thead th {\n        text-align: right;\n    }\n</style>\n<table border=\"1\" class=\"dataframe\">\n  <thead>\n    <tr style=\"text-align: right;\">\n      <th></th>\n      <th>content</th>\n      <th>sentiment</th>\n      <th>ngrams</th>\n    </tr>\n  </thead>\n  <tbody>\n    <tr>\n      <th>0</th>\n      <td>[program, clear, inform, resuscit, inform, var...</td>\n      <td>1</td>\n      <td>[(program, clear), (clear, inform), (inform, r...</td>\n    </tr>\n    <tr>\n      <th>1</th>\n      <td>[cerebr, infarct, patient, ask, verifi, phone,...</td>\n      <td>0</td>\n      <td>[(cerebr, infarct), (infarct, patient), (patie...</td>\n    </tr>\n    <tr>\n      <th>2</th>\n      <td>[icon, disappear, phone, screen, although, ope...</td>\n      <td>1</td>\n      <td>[(icon, disappear), (disappear, phone), (phone...</td>\n    </tr>\n    <tr>\n      <th>3</th>\n      <td>[posit, accuraci, home, thumb]</td>\n      <td>0</td>\n      <td>[(posit, accuraci), (accuraci, home), (home, t...</td>\n    </tr>\n    <tr>\n      <th>6</th>\n      <td>[swim]</td>\n      <td>0</td>\n      <td>[]</td>\n    </tr>\n    <tr>\n      <th>...</th>\n      <td>...</td>\n      <td>...</td>\n      <td>...</td>\n    </tr>\n    <tr>\n      <th>330</th>\n      <td>[feel, good, exist, case, abus, someth, els, c...</td>\n      <td>0</td>\n      <td>[(feel, good), (good, exist), (exist, case), (...</td>\n    </tr>\n    <tr>\n      <th>331</th>\n      <td>[good, access, deaf]</td>\n      <td>1</td>\n      <td>[(good, access), (access, deaf), (good, access...</td>\n    </tr>\n    <tr>\n      <th>333</th>\n      <td>[howev, lack, lock, similar, littl, kid, accid...</td>\n      <td>1</td>\n      <td>[(howev, lack), (lack, lock), (lock, similar),...</td>\n    </tr>\n    <tr>\n      <th>334</th>\n      <td>[crazi, come, sooner, better, late, never]</td>\n      <td>1</td>\n      <td>[(crazi, come), (come, sooner), (sooner, bette...</td>\n    </tr>\n    <tr>\n      <th>335</th>\n      <td>[good, howev, feel, instal, mobil, phone, ipho...</td>\n      <td>1</td>\n      <td>[(good, howev), (howev, feel), (feel, instal),...</td>\n    </tr>\n  </tbody>\n</table>\n<p>2070 rows × 3 columns</p>\n</div>"
     },
     "execution_count": 151,
     "metadata": {},
     "output_type": "execute_result"
    }
   ],
   "source": [
    "from nltk.util import ngrams\n",
    "import itertools\n",
    "#Use Ngrams (both bigram and thrigrams):\n",
    "data['ngrams'] = data['content'].apply(lambda x: list(itertools.chain(list(ngrams(x,2)),list(ngrams(x,3)))))\n",
    "# Remove reviews with only one keyword:\n",
    "data[\"ngrams\"] = data[\"ngrams\"].apply(lambda x: x if x != [] else \"\")\n",
    "data = data[data.ngrams != \"\"]\n",
    "data"
   ],
   "metadata": {
    "collapsed": false
   }
  },
  {
   "cell_type": "code",
   "execution_count": null,
   "outputs": [],
   "source": [
    "#random forest:\n",
    "from sklearn.feature_extraction.text import TfidfVectorizer"
   ],
   "metadata": {
    "collapsed": false
   }
  },
  {
   "cell_type": "code",
   "execution_count": null,
   "outputs": [],
   "source": [
    "from sklearn.ensemble import RandomForestClassifier"
   ],
   "metadata": {
    "collapsed": false
   }
  }
 ],
 "metadata": {
  "kernelspec": {
   "display_name": "Python 3",
   "language": "python",
   "name": "python3"
  },
  "language_info": {
   "codemirror_mode": {
    "name": "ipython",
    "version": 2
   },
   "file_extension": ".py",
   "mimetype": "text/x-python",
   "name": "python",
   "nbconvert_exporter": "python",
   "pygments_lexer": "ipython2",
   "version": "2.7.6"
  }
 },
 "nbformat": 4,
 "nbformat_minor": 0
}
