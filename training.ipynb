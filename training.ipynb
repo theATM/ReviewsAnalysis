{
 "cells": [
  {
   "cell_type": "code",
   "execution_count": 61,
   "metadata": {
    "collapsed": true,
    "pycharm": {
     "name": "#%%\n"
    }
   },
   "outputs": [],
   "source": [
    "#Load Data:\n",
    "import pandas as pd\n",
    "import os\n",
    "data = pd.read_csv(\"data\"+os.sep+\"part\"+os.sep+\"Suomi112_cpd_google.csv\", encoding='utf-8-sig')\n",
    "data.drop(['Unnamed: 0','Unnamed: 0.1','userName', 'reviewId', 'at','reviewCreatedVersion'], axis=1, inplace=True)"
   ]
  },
  {
   "cell_type": "code",
   "execution_count": 62,
   "outputs": [
    {
     "data": {
      "text/plain": "                                                content  score  thumbsUpCount  \\\n0     The cerebral infarction patient was asked to v...      2              0   \n1     The 112 icon disappeared from the phone screen...      3              0   \n2        Positioning accuracy 1300m when I'm at home. 👎      1              1   \n3                                  A comfortable device      5              0   \n4     I have used it once in a real situation. There...      5              0   \n...                                                 ...    ...            ...   \n1257  An app at this level should force location ser...      4              7   \n1258  Good idea, I hope for more from the implementa...      3              3   \n1259  It works very nicely in Jolla. I haven't made ...      4              6   \n1260  Why does the program need the user's phone num...      4              3   \n1261  Why do you have to enter the phone number ever...      4              2   \n\n     sentiment  \n0     Positive  \n1     Negative  \n2      Neutral  \n3     Positive  \n4     Negative  \n...        ...  \n1257   Neutral  \n1258  Positive  \n1259  Positive  \n1260  Positive  \n1261  Positive  \n\n[1262 rows x 4 columns]",
      "text/html": "<div>\n<style scoped>\n    .dataframe tbody tr th:only-of-type {\n        vertical-align: middle;\n    }\n\n    .dataframe tbody tr th {\n        vertical-align: top;\n    }\n\n    .dataframe thead th {\n        text-align: right;\n    }\n</style>\n<table border=\"1\" class=\"dataframe\">\n  <thead>\n    <tr style=\"text-align: right;\">\n      <th></th>\n      <th>content</th>\n      <th>score</th>\n      <th>thumbsUpCount</th>\n      <th>sentiment</th>\n    </tr>\n  </thead>\n  <tbody>\n    <tr>\n      <th>0</th>\n      <td>The cerebral infarction patient was asked to v...</td>\n      <td>2</td>\n      <td>0</td>\n      <td>Positive</td>\n    </tr>\n    <tr>\n      <th>1</th>\n      <td>The 112 icon disappeared from the phone screen...</td>\n      <td>3</td>\n      <td>0</td>\n      <td>Negative</td>\n    </tr>\n    <tr>\n      <th>2</th>\n      <td>Positioning accuracy 1300m when I'm at home. 👎</td>\n      <td>1</td>\n      <td>1</td>\n      <td>Neutral</td>\n    </tr>\n    <tr>\n      <th>3</th>\n      <td>A comfortable device</td>\n      <td>5</td>\n      <td>0</td>\n      <td>Positive</td>\n    </tr>\n    <tr>\n      <th>4</th>\n      <td>I have used it once in a real situation. There...</td>\n      <td>5</td>\n      <td>0</td>\n      <td>Negative</td>\n    </tr>\n    <tr>\n      <th>...</th>\n      <td>...</td>\n      <td>...</td>\n      <td>...</td>\n      <td>...</td>\n    </tr>\n    <tr>\n      <th>1257</th>\n      <td>An app at this level should force location ser...</td>\n      <td>4</td>\n      <td>7</td>\n      <td>Neutral</td>\n    </tr>\n    <tr>\n      <th>1258</th>\n      <td>Good idea, I hope for more from the implementa...</td>\n      <td>3</td>\n      <td>3</td>\n      <td>Positive</td>\n    </tr>\n    <tr>\n      <th>1259</th>\n      <td>It works very nicely in Jolla. I haven't made ...</td>\n      <td>4</td>\n      <td>6</td>\n      <td>Positive</td>\n    </tr>\n    <tr>\n      <th>1260</th>\n      <td>Why does the program need the user's phone num...</td>\n      <td>4</td>\n      <td>3</td>\n      <td>Positive</td>\n    </tr>\n    <tr>\n      <th>1261</th>\n      <td>Why do you have to enter the phone number ever...</td>\n      <td>4</td>\n      <td>2</td>\n      <td>Positive</td>\n    </tr>\n  </tbody>\n</table>\n<p>1262 rows × 4 columns</p>\n</div>"
     },
     "execution_count": 62,
     "metadata": {},
     "output_type": "execute_result"
    }
   ],
   "source": [
    "data"
   ],
   "metadata": {
    "collapsed": false,
    "pycharm": {
     "name": "#%%\n"
    }
   }
  },
  {
   "cell_type": "code",
   "execution_count": 63,
   "outputs": [],
   "source": [
    "sentiment_dict = \\\n",
    "{\n",
    "    \"Positive\" : 1,\n",
    "    \"Negative\" : -1,\n",
    "    \"Neutral\"  : 0,\n",
    "}\n",
    "data['sentiment'] = [sentiment_dict[sent] for sent in data['sentiment']]"
   ],
   "metadata": {
    "collapsed": false,
    "pycharm": {
     "name": "#%%\n"
    }
   }
  },
  {
   "cell_type": "code",
   "execution_count": 64,
   "outputs": [],
   "source": [
    "import re\n",
    "import os\n",
    "import emoji\n",
    "import nltk\n",
    "from nltk.corpus import stopwords\n",
    "from nltk.tokenize.casual import TweetTokenizer\n",
    "from nltk.stem import WordNetLemmatizer, SnowballStemmer\n",
    "def preprocess(text):\n",
    "    text = text.lower()\n",
    "    text = emoji.demojize(text)\n",
    "    text = re.sub('[\\',:;.!?_\\-()=+|{}\\[\\]<>#\\\\\\/\\\"\\n\\r~`]',' ',text)\n",
    "    text = re.sub('[$%&@0-9]', '', text)\n",
    "    return text\n",
    "def process_tokens(tokens):\n",
    "    new_tokens = []\n",
    "    for token in tokens:\n",
    "        if token not in stopwords.words(\"english\"):\n",
    "            new_tokens.append(stemmer.stem(lemanizer.lemmatize(token, pos='v')))\n",
    "    return new_tokens\n",
    "tokenizer = TweetTokenizer()\n",
    "stemmer = SnowballStemmer(language='english')\n",
    "lemanizer = WordNetLemmatizer()\n",
    "nltk.data.path.append('data'+os.sep+\"lib\"+os.sep+'stopwords')"
   ],
   "metadata": {
    "collapsed": false,
    "pycharm": {
     "name": "#%%\n"
    }
   }
  },
  {
   "cell_type": "code",
   "execution_count": 65,
   "outputs": [
    {
     "name": "stderr",
     "output_type": "stream",
     "text": [
      "[nltk_data] Downloading package stopwords to data/lib/stopwords...\n",
      "[nltk_data]   Package stopwords is already up-to-date!\n",
      "[nltk_data] Downloading package wordnet to data/lib/wordnet...\n",
      "[nltk_data]   Package wordnet is already up-to-date!\n",
      "[nltk_data] Error loading 'omw-1.4': Package \"'omw-1.4'\" not found in\n",
      "[nltk_data]     index\n"
     ]
    },
    {
     "data": {
      "text/plain": "False"
     },
     "execution_count": 65,
     "metadata": {},
     "output_type": "execute_result"
    }
   ],
   "source": [
    "nltk.data.path.append('data'+os.sep+\"lib\"+os.sep+'stopwords')\n",
    "nltk.download(\"stopwords\",download_dir=\"data\"+os.sep+\"lib\"+os.sep+\"stopwords\")\n",
    "nltk.data.path.append('data'+os.sep+\"lib\"+os.sep+'wordnet')\n",
    "nltk.download('wordnet',download_dir=\"data\"+os.sep+\"lib\"+os.sep+\"wordnet\")\n",
    "nltk.data.path.append('data'+os.sep+\"lib\"+os.sep+'omw')\n",
    "nltk.download(\"'omw-1.4'\",download_dir=\"data\"+os.sep+\"lib\"+os.sep+\"omw\")"
   ],
   "metadata": {
    "collapsed": false,
    "pycharm": {
     "name": "#%%\n"
    }
   }
  },
  {
   "cell_type": "code",
   "execution_count": 66,
   "outputs": [],
   "source": [
    "data['content'] = data['content'].apply(lambda x: preprocess(str(x)))\n"
   ],
   "metadata": {
    "collapsed": false,
    "pycharm": {
     "name": "#%%\n"
    }
   }
  },
  {
   "cell_type": "code",
   "execution_count": 67,
   "outputs": [],
   "source": [
    "data['content'] = data['content'].apply(lambda x: tokenizer.tokenize(str(x)))\n"
   ],
   "metadata": {
    "collapsed": false,
    "pycharm": {
     "name": "#%%\n"
    }
   }
  },
  {
   "cell_type": "code",
   "execution_count": 59,
   "outputs": [],
   "source": [
    "data['content'] = data['content'].apply(lambda x: [word for word in str(x) if word not in stopwords.words(\"english\") and len(word) > 3])\n"
   ],
   "metadata": {
    "collapsed": false,
    "pycharm": {
     "name": "#%%\n"
    }
   }
  },
  {
   "cell_type": "code",
   "execution_count": null,
   "outputs": [],
   "source": [
    "data['content'] = data['content'].apply(lambda x: process_tokens(str(x)))"
   ],
   "metadata": {
    "collapsed": false,
    "pycharm": {
     "name": "#%%\n"
    }
   }
  },
  {
   "cell_type": "code",
   "execution_count": 68,
   "outputs": [
    {
     "data": {
      "text/plain": "                                                content  score  thumbsUpCount  \\\n0     [the, cerebral, infarction, patient, was, aske...      2              0   \n1     [the, icon, disappeared, from, the, phone, scr...      3              0   \n2     [positioning, accuracy, m, when, i, m, at, hom...      1              1   \n3                              [a, comfortable, device]      5              0   \n4     [i, have, used, it, once, in, a, real, situati...      5              0   \n...                                                 ...    ...            ...   \n1257  [an, app, at, this, level, should, force, loca...      4              7   \n1258  [good, idea, i, hope, for, more, from, the, im...      3              3   \n1259  [it, works, very, nicely, in, jolla, i, haven,...      4              6   \n1260  [why, does, the, program, need, the, user, s, ...      4              3   \n1261  [why, do, you, have, to, enter, the, phone, nu...      4              2   \n\n      sentiment  \n0             1  \n1            -1  \n2             0  \n3             1  \n4            -1  \n...         ...  \n1257          0  \n1258          1  \n1259          1  \n1260          1  \n1261          1  \n\n[1262 rows x 4 columns]",
      "text/html": "<div>\n<style scoped>\n    .dataframe tbody tr th:only-of-type {\n        vertical-align: middle;\n    }\n\n    .dataframe tbody tr th {\n        vertical-align: top;\n    }\n\n    .dataframe thead th {\n        text-align: right;\n    }\n</style>\n<table border=\"1\" class=\"dataframe\">\n  <thead>\n    <tr style=\"text-align: right;\">\n      <th></th>\n      <th>content</th>\n      <th>score</th>\n      <th>thumbsUpCount</th>\n      <th>sentiment</th>\n    </tr>\n  </thead>\n  <tbody>\n    <tr>\n      <th>0</th>\n      <td>[the, cerebral, infarction, patient, was, aske...</td>\n      <td>2</td>\n      <td>0</td>\n      <td>1</td>\n    </tr>\n    <tr>\n      <th>1</th>\n      <td>[the, icon, disappeared, from, the, phone, scr...</td>\n      <td>3</td>\n      <td>0</td>\n      <td>-1</td>\n    </tr>\n    <tr>\n      <th>2</th>\n      <td>[positioning, accuracy, m, when, i, m, at, hom...</td>\n      <td>1</td>\n      <td>1</td>\n      <td>0</td>\n    </tr>\n    <tr>\n      <th>3</th>\n      <td>[a, comfortable, device]</td>\n      <td>5</td>\n      <td>0</td>\n      <td>1</td>\n    </tr>\n    <tr>\n      <th>4</th>\n      <td>[i, have, used, it, once, in, a, real, situati...</td>\n      <td>5</td>\n      <td>0</td>\n      <td>-1</td>\n    </tr>\n    <tr>\n      <th>...</th>\n      <td>...</td>\n      <td>...</td>\n      <td>...</td>\n      <td>...</td>\n    </tr>\n    <tr>\n      <th>1257</th>\n      <td>[an, app, at, this, level, should, force, loca...</td>\n      <td>4</td>\n      <td>7</td>\n      <td>0</td>\n    </tr>\n    <tr>\n      <th>1258</th>\n      <td>[good, idea, i, hope, for, more, from, the, im...</td>\n      <td>3</td>\n      <td>3</td>\n      <td>1</td>\n    </tr>\n    <tr>\n      <th>1259</th>\n      <td>[it, works, very, nicely, in, jolla, i, haven,...</td>\n      <td>4</td>\n      <td>6</td>\n      <td>1</td>\n    </tr>\n    <tr>\n      <th>1260</th>\n      <td>[why, does, the, program, need, the, user, s, ...</td>\n      <td>4</td>\n      <td>3</td>\n      <td>1</td>\n    </tr>\n    <tr>\n      <th>1261</th>\n      <td>[why, do, you, have, to, enter, the, phone, nu...</td>\n      <td>4</td>\n      <td>2</td>\n      <td>1</td>\n    </tr>\n  </tbody>\n</table>\n<p>1262 rows × 4 columns</p>\n</div>"
     },
     "execution_count": 68,
     "metadata": {},
     "output_type": "execute_result"
    }
   ],
   "source": [
    "data"
   ],
   "metadata": {
    "collapsed": false,
    "pycharm": {
     "name": "#%%\n"
    }
   }
  },
  {
   "cell_type": "code",
   "execution_count": 70,
   "outputs": [
    {
     "data": {
      "text/plain": "                                                content  score  thumbsUpCount  \\\n0     [the, cerebral, infarction, patient, was, aske...      2              0   \n1     [the, icon, disappeared, from, the, phone, scr...      3              0   \n2     [positioning, accuracy, m, when, i, m, at, hom...      1              1   \n3                              [a, comfortable, device]      5              0   \n4     [i, have, used, it, once, in, a, real, situati...      5              0   \n...                                                 ...    ...            ...   \n1257  [an, app, at, this, level, should, force, loca...      4              7   \n1258  [good, idea, i, hope, for, more, from, the, im...      3              3   \n1259  [it, works, very, nicely, in, jolla, i, haven,...      4              6   \n1260  [why, does, the, program, need, the, user, s, ...      4              3   \n1261  [why, do, you, have, to, enter, the, phone, nu...      4              2   \n\n      sentiment                                             ngrams  \n0             1  [(the, cerebral, infarction, patient, was, ask...  \n1            -1  [(the, icon, disappeared, from, the, phone, sc...  \n2             0  [(positioning, accuracy, m, when, i, m, at), (...  \n3             1  [(a, comfortable, device, None, None, None, No...  \n4            -1  [(i, have, used, it, once, in, a), (have, used...  \n...         ...                                                ...  \n1257          0  [(an, app, at, this, level, should, force), (a...  \n1258          1  [(good, idea, i, hope, for, more, from), (idea...  \n1259          1  [(it, works, very, nicely, in, jolla, i), (wor...  \n1260          1  [(why, does, the, program, need, the, user), (...  \n1261          1  [(why, do, you, have, to, enter, the), (do, yo...  \n\n[1262 rows x 5 columns]",
      "text/html": "<div>\n<style scoped>\n    .dataframe tbody tr th:only-of-type {\n        vertical-align: middle;\n    }\n\n    .dataframe tbody tr th {\n        vertical-align: top;\n    }\n\n    .dataframe thead th {\n        text-align: right;\n    }\n</style>\n<table border=\"1\" class=\"dataframe\">\n  <thead>\n    <tr style=\"text-align: right;\">\n      <th></th>\n      <th>content</th>\n      <th>score</th>\n      <th>thumbsUpCount</th>\n      <th>sentiment</th>\n      <th>ngrams</th>\n    </tr>\n  </thead>\n  <tbody>\n    <tr>\n      <th>0</th>\n      <td>[the, cerebral, infarction, patient, was, aske...</td>\n      <td>2</td>\n      <td>0</td>\n      <td>1</td>\n      <td>[(the, cerebral, infarction, patient, was, ask...</td>\n    </tr>\n    <tr>\n      <th>1</th>\n      <td>[the, icon, disappeared, from, the, phone, scr...</td>\n      <td>3</td>\n      <td>0</td>\n      <td>-1</td>\n      <td>[(the, icon, disappeared, from, the, phone, sc...</td>\n    </tr>\n    <tr>\n      <th>2</th>\n      <td>[positioning, accuracy, m, when, i, m, at, hom...</td>\n      <td>1</td>\n      <td>1</td>\n      <td>0</td>\n      <td>[(positioning, accuracy, m, when, i, m, at), (...</td>\n    </tr>\n    <tr>\n      <th>3</th>\n      <td>[a, comfortable, device]</td>\n      <td>5</td>\n      <td>0</td>\n      <td>1</td>\n      <td>[(a, comfortable, device, None, None, None, No...</td>\n    </tr>\n    <tr>\n      <th>4</th>\n      <td>[i, have, used, it, once, in, a, real, situati...</td>\n      <td>5</td>\n      <td>0</td>\n      <td>-1</td>\n      <td>[(i, have, used, it, once, in, a), (have, used...</td>\n    </tr>\n    <tr>\n      <th>...</th>\n      <td>...</td>\n      <td>...</td>\n      <td>...</td>\n      <td>...</td>\n      <td>...</td>\n    </tr>\n    <tr>\n      <th>1257</th>\n      <td>[an, app, at, this, level, should, force, loca...</td>\n      <td>4</td>\n      <td>7</td>\n      <td>0</td>\n      <td>[(an, app, at, this, level, should, force), (a...</td>\n    </tr>\n    <tr>\n      <th>1258</th>\n      <td>[good, idea, i, hope, for, more, from, the, im...</td>\n      <td>3</td>\n      <td>3</td>\n      <td>1</td>\n      <td>[(good, idea, i, hope, for, more, from), (idea...</td>\n    </tr>\n    <tr>\n      <th>1259</th>\n      <td>[it, works, very, nicely, in, jolla, i, haven,...</td>\n      <td>4</td>\n      <td>6</td>\n      <td>1</td>\n      <td>[(it, works, very, nicely, in, jolla, i), (wor...</td>\n    </tr>\n    <tr>\n      <th>1260</th>\n      <td>[why, does, the, program, need, the, user, s, ...</td>\n      <td>4</td>\n      <td>3</td>\n      <td>1</td>\n      <td>[(why, does, the, program, need, the, user), (...</td>\n    </tr>\n    <tr>\n      <th>1261</th>\n      <td>[why, do, you, have, to, enter, the, phone, nu...</td>\n      <td>4</td>\n      <td>2</td>\n      <td>1</td>\n      <td>[(why, do, you, have, to, enter, the), (do, yo...</td>\n    </tr>\n  </tbody>\n</table>\n<p>1262 rows × 5 columns</p>\n</div>"
     },
     "execution_count": 70,
     "metadata": {},
     "output_type": "execute_result"
    }
   ],
   "source": [
    "from nltk.util import ngrams\n",
    "data['ngrams'] = data['content'].apply(lambda x: list(ngrams(x,7,pad_right=True)))\n",
    "data"
   ],
   "metadata": {
    "collapsed": false,
    "pycharm": {
     "name": "#%%\n"
    }
   }
  },
  {
   "cell_type": "code",
   "execution_count": null,
   "outputs": [],
   "source": [
    "from nltk.util import ngrams\n",
    "data['ngrams'] = data['content'].apply(lambda x: list(ngram_create(str(x))))\n",
    "data"
   ],
   "metadata": {
    "collapsed": false,
    "pycharm": {
     "name": "#%%\n"
    }
   }
  },
  {
   "cell_type": "code",
   "execution_count": null,
   "outputs": [],
   "source": [
    "def ngram_create(review):\n",
    "    #(3,4)\n",
    "    ngrams = []\n",
    "\n",
    "    for word, i in enumerate(review):\n",
    "        ngram = []\n",
    "        if i - 3 >= 0:\n",
    "            ngram.append(review[i - 3])\n",
    "        if i - 2 >= 0:\n",
    "            ngram.append(review[i - 2])\n",
    "        if i - 1 >= 0:\n",
    "            ngram.append(review[i - 1])\n",
    "        ngram.append(word)\n",
    "        if i + 1 < len(review):\n",
    "            ngram.append(review[i + 1])\n",
    "            if i + 2 < len(review):\n",
    "                ngram.append(review[i + 2])\n",
    "                if i + 3 < len(review):\n",
    "                    ngram.append(review[i + 3])\n",
    "                    if i + 4 < len(review):\n",
    "                        ngram.append(review[i + 4])\n",
    "\n"
   ],
   "metadata": {
    "collapsed": false,
    "pycharm": {
     "name": "#%%\n"
    }
   }
  }
 ],
 "metadata": {
  "kernelspec": {
   "display_name": "Python 3",
   "language": "python",
   "name": "python3"
  },
  "language_info": {
   "codemirror_mode": {
    "name": "ipython",
    "version": 2
   },
   "file_extension": ".py",
   "mimetype": "text/x-python",
   "name": "python",
   "nbconvert_exporter": "python",
   "pygments_lexer": "ipython2",
   "version": "2.7.6"
  }
 },
 "nbformat": 4,
 "nbformat_minor": 0
}